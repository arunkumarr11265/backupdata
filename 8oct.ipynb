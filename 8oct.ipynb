{
 "cells": [
  {
   "cell_type": "markdown",
   "id": "64a39476",
   "metadata": {},
   "source": [
    "# List"
   ]
  },
  {
   "cell_type": "code",
   "execution_count": 540,
   "id": "8053efc2",
   "metadata": {},
   "outputs": [],
   "source": [
    "employee=[]"
   ]
  },
  {
   "cell_type": "code",
   "execution_count": 360,
   "id": "211fd551",
   "metadata": {},
   "outputs": [],
   "source": [
    "employee.append('radha')"
   ]
  },
  {
   "cell_type": "code",
   "execution_count": 361,
   "id": "5f0f6140",
   "metadata": {},
   "outputs": [],
   "source": [
    "employee.append('ram')"
   ]
  },
  {
   "cell_type": "code",
   "execution_count": 362,
   "id": "17a5591f",
   "metadata": {},
   "outputs": [
    {
     "data": {
      "text/plain": [
       "['radha', 'ram']"
      ]
     },
     "execution_count": 362,
     "metadata": {},
     "output_type": "execute_result"
    }
   ],
   "source": [
    "employee"
   ]
  },
  {
   "cell_type": "code",
   "execution_count": 363,
   "id": "7c20e05e",
   "metadata": {},
   "outputs": [],
   "source": [
    "employee.insert(1,'mukul')"
   ]
  },
  {
   "cell_type": "code",
   "execution_count": 364,
   "id": "d42e7bc1",
   "metadata": {},
   "outputs": [],
   "source": [
    "employee.insert(2,'hrithik')"
   ]
  },
  {
   "cell_type": "code",
   "execution_count": 365,
   "id": "d0eb3134",
   "metadata": {},
   "outputs": [
    {
     "data": {
      "text/plain": [
       "['radha', 'mukul', 'hrithik', 'ram']"
      ]
     },
     "execution_count": 365,
     "metadata": {},
     "output_type": "execute_result"
    }
   ],
   "source": [
    "employee"
   ]
  },
  {
   "cell_type": "code",
   "execution_count": 366,
   "id": "6df41263",
   "metadata": {},
   "outputs": [
    {
     "data": {
      "text/plain": [
       "<function list.reverse()>"
      ]
     },
     "execution_count": 366,
     "metadata": {},
     "output_type": "execute_result"
    }
   ],
   "source": [
    "employee.reverse"
   ]
  },
  {
   "cell_type": "code",
   "execution_count": 367,
   "id": "822f53d7",
   "metadata": {},
   "outputs": [],
   "source": [
    "employee.insert(1,'arun')"
   ]
  },
  {
   "cell_type": "code",
   "execution_count": 368,
   "id": "60bca2ff",
   "metadata": {},
   "outputs": [
    {
     "data": {
      "text/plain": [
       "['radha', 'arun', 'mukul', 'hrithik', 'ram']"
      ]
     },
     "execution_count": 368,
     "metadata": {},
     "output_type": "execute_result"
    }
   ],
   "source": [
    "employee"
   ]
  },
  {
   "cell_type": "code",
   "execution_count": 369,
   "id": "e178c133",
   "metadata": {},
   "outputs": [],
   "source": [
    "employee.insert(-4,'shyam')"
   ]
  },
  {
   "cell_type": "code",
   "execution_count": 370,
   "id": "ced095e0",
   "metadata": {},
   "outputs": [
    {
     "data": {
      "text/plain": [
       "['radha', 'shyam', 'arun', 'mukul', 'hrithik', 'ram']"
      ]
     },
     "execution_count": 370,
     "metadata": {},
     "output_type": "execute_result"
    }
   ],
   "source": [
    "employee"
   ]
  },
  {
   "cell_type": "code",
   "execution_count": 371,
   "id": "fb8bb9c6",
   "metadata": {},
   "outputs": [
    {
     "ename": "SyntaxError",
     "evalue": "unexpected EOF while parsing (1097125724.py, line 1)",
     "output_type": "error",
     "traceback": [
      "\u001b[1;36m  Input \u001b[1;32mIn [371]\u001b[1;36m\u001b[0m\n\u001b[1;33m    [employee.insert(2,'shankar')\u001b[0m\n\u001b[1;37m                                 ^\u001b[0m\n\u001b[1;31mSyntaxError\u001b[0m\u001b[1;31m:\u001b[0m unexpected EOF while parsing\n"
     ]
    }
   ],
   "source": [
    "[employee.insert(2,'shankar')"
   ]
  },
  {
   "cell_type": "code",
   "execution_count": 372,
   "id": "bcf95130",
   "metadata": {},
   "outputs": [
    {
     "data": {
      "text/plain": [
       "['radha', 'shyam', 'arun', 'mukul', 'hrithik', 'ram']"
      ]
     },
     "execution_count": 372,
     "metadata": {},
     "output_type": "execute_result"
    }
   ],
   "source": [
    "employee"
   ]
  },
  {
   "cell_type": "code",
   "execution_count": 373,
   "id": "49978057",
   "metadata": {},
   "outputs": [
    {
     "ename": "ValueError",
     "evalue": "list.remove(x): x not in list",
     "output_type": "error",
     "traceback": [
      "\u001b[1;31m---------------------------------------------------------------------------\u001b[0m",
      "\u001b[1;31mValueError\u001b[0m                                Traceback (most recent call last)",
      "Input \u001b[1;32mIn [373]\u001b[0m, in \u001b[0;36m<cell line: 1>\u001b[1;34m()\u001b[0m\n\u001b[1;32m----> 1\u001b[0m \u001b[43memployee\u001b[49m\u001b[38;5;241;43m.\u001b[39;49m\u001b[43mremove\u001b[49m\u001b[43m(\u001b[49m\u001b[38;5;124;43m'\u001b[39;49m\u001b[38;5;124;43m-1\u001b[39;49m\u001b[38;5;124;43m'\u001b[39;49m\u001b[43m)\u001b[49m\n",
      "\u001b[1;31mValueError\u001b[0m: list.remove(x): x not in list"
     ]
    }
   ],
   "source": [
    "employee.remove('-1')"
   ]
  },
  {
   "cell_type": "code",
   "execution_count": 374,
   "id": "463c6748",
   "metadata": {},
   "outputs": [],
   "source": [
    "emp_salary=[10000,12000,15000,18000,20000,2000,25000]"
   ]
  },
  {
   "cell_type": "code",
   "execution_count": 375,
   "id": "3eb73573",
   "metadata": {},
   "outputs": [
    {
     "data": {
      "text/plain": [
       "[10000, 12000, 15000, 18000, 20000, 2000, 25000]"
      ]
     },
     "execution_count": 375,
     "metadata": {},
     "output_type": "execute_result"
    }
   ],
   "source": [
    "emp_salary"
   ]
  },
  {
   "cell_type": "code",
   "execution_count": 376,
   "id": "71377402",
   "metadata": {},
   "outputs": [
    {
     "data": {
      "text/plain": [
       "6"
      ]
     },
     "execution_count": 376,
     "metadata": {},
     "output_type": "execute_result"
    }
   ],
   "source": [
    "len(employee)"
   ]
  },
  {
   "cell_type": "code",
   "execution_count": 377,
   "id": "44cc860b",
   "metadata": {},
   "outputs": [
    {
     "data": {
      "text/plain": [
       "7"
      ]
     },
     "execution_count": 377,
     "metadata": {},
     "output_type": "execute_result"
    }
   ],
   "source": [
    "len(emp_salary)"
   ]
  },
  {
   "cell_type": "code",
   "execution_count": 378,
   "id": "4968c4cf",
   "metadata": {},
   "outputs": [
    {
     "data": {
      "text/plain": [
       "'arun'"
      ]
     },
     "execution_count": 378,
     "metadata": {},
     "output_type": "execute_result"
    }
   ],
   "source": [
    "employee[2]"
   ]
  },
  {
   "cell_type": "code",
   "execution_count": 379,
   "id": "2ac92811",
   "metadata": {},
   "outputs": [
    {
     "data": {
      "text/plain": [
       "'ram'"
      ]
     },
     "execution_count": 379,
     "metadata": {},
     "output_type": "execute_result"
    }
   ],
   "source": [
    "employee[-1]"
   ]
  },
  {
   "cell_type": "code",
   "execution_count": 380,
   "id": "29f1b41e",
   "metadata": {},
   "outputs": [],
   "source": [
    "employee[-1]='ramesh'"
   ]
  },
  {
   "cell_type": "code",
   "execution_count": 381,
   "id": "6e0cf283",
   "metadata": {},
   "outputs": [
    {
     "data": {
      "text/plain": [
       "['radha', 'shyam', 'arun', 'mukul', 'hrithik', 'ramesh']"
      ]
     },
     "execution_count": 381,
     "metadata": {},
     "output_type": "execute_result"
    }
   ],
   "source": [
    "employee"
   ]
  },
  {
   "cell_type": "code",
   "execution_count": 382,
   "id": "22bcc7bc",
   "metadata": {},
   "outputs": [
    {
     "data": {
      "text/plain": [
       "[10000, 12000, 15000, 18000, 20000, 2000, 25000]"
      ]
     },
     "execution_count": 382,
     "metadata": {},
     "output_type": "execute_result"
    }
   ],
   "source": [
    "emp_salary"
   ]
  },
  {
   "cell_type": "code",
   "execution_count": 383,
   "id": "8e287145",
   "metadata": {},
   "outputs": [
    {
     "data": {
      "text/plain": [
       "[15000, 18000, 20000, 2000, 25000]"
      ]
     },
     "execution_count": 383,
     "metadata": {},
     "output_type": "execute_result"
    }
   ],
   "source": [
    "emp_salary[2:]"
   ]
  },
  {
   "cell_type": "code",
   "execution_count": 384,
   "id": "3d3a92fc",
   "metadata": {},
   "outputs": [
    {
     "data": {
      "text/plain": [
       "[10000, 12000, 15000, 18000]"
      ]
     },
     "execution_count": 384,
     "metadata": {},
     "output_type": "execute_result"
    }
   ],
   "source": [
    "emp_salary[:-3]"
   ]
  },
  {
   "cell_type": "code",
   "execution_count": 385,
   "id": "1863023e",
   "metadata": {},
   "outputs": [
    {
     "data": {
      "text/plain": [
       "[10000, 12000, 15000, 18000]"
      ]
     },
     "execution_count": 385,
     "metadata": {},
     "output_type": "execute_result"
    }
   ],
   "source": [
    "emp_salary[:4]"
   ]
  },
  {
   "cell_type": "code",
   "execution_count": 386,
   "id": "ceb1e052",
   "metadata": {},
   "outputs": [
    {
     "data": {
      "text/plain": [
       "[10000, 12000, 15000, 18000, 20000, 2000, 25000]"
      ]
     },
     "execution_count": 386,
     "metadata": {},
     "output_type": "execute_result"
    }
   ],
   "source": [
    "emp_salary[:]"
   ]
  },
  {
   "cell_type": "code",
   "execution_count": 387,
   "id": "80ba395b",
   "metadata": {},
   "outputs": [
    {
     "data": {
      "text/plain": [
       "['radha', 'shyam', 'arun', 'mukul', 'hrithik', 'ramesh', 'shikhar']"
      ]
     },
     "execution_count": 387,
     "metadata": {},
     "output_type": "execute_result"
    }
   ],
   "source": [
    "employee+['shikhar']"
   ]
  },
  {
   "cell_type": "code",
   "execution_count": 388,
   "id": "517f0141",
   "metadata": {},
   "outputs": [
    {
     "data": {
      "text/plain": [
       "['radha', 'shyam', 'arun', 'mukul', 'hrithik', 'ramesh']"
      ]
     },
     "execution_count": 388,
     "metadata": {},
     "output_type": "execute_result"
    }
   ],
   "source": [
    "employee"
   ]
  },
  {
   "cell_type": "code",
   "execution_count": 389,
   "id": "cd58755e",
   "metadata": {},
   "outputs": [],
   "source": [
    "employee=employee+['shikhar']"
   ]
  },
  {
   "cell_type": "code",
   "execution_count": 390,
   "id": "edc90528",
   "metadata": {},
   "outputs": [
    {
     "data": {
      "text/plain": [
       "['radha', 'shyam', 'arun', 'mukul', 'hrithik', 'ramesh', 'shikhar']"
      ]
     },
     "execution_count": 390,
     "metadata": {},
     "output_type": "execute_result"
    }
   ],
   "source": [
    "employee"
   ]
  },
  {
   "cell_type": "code",
   "execution_count": 391,
   "id": "ae3920a8",
   "metadata": {},
   "outputs": [
    {
     "data": {
      "text/plain": [
       "['radha',\n",
       " 'shyam',\n",
       " 'arun',\n",
       " 'mukul',\n",
       " 'hrithik',\n",
       " 'ramesh',\n",
       " 'shikhar',\n",
       " 'radha',\n",
       " 'shyam',\n",
       " 'arun',\n",
       " 'mukul',\n",
       " 'hrithik',\n",
       " 'ramesh',\n",
       " 'shikhar']"
      ]
     },
     "execution_count": 391,
     "metadata": {},
     "output_type": "execute_result"
    }
   ],
   "source": [
    "employee*2"
   ]
  },
  {
   "cell_type": "code",
   "execution_count": 392,
   "id": "26f22526",
   "metadata": {},
   "outputs": [
    {
     "data": {
      "text/plain": [
       "['radha', 'shyam', 'arun', 'mukul', 'hrithik', 'ramesh', 'shikhar']"
      ]
     },
     "execution_count": 392,
     "metadata": {},
     "output_type": "execute_result"
    }
   ],
   "source": [
    "employee"
   ]
  },
  {
   "cell_type": "code",
   "execution_count": 393,
   "id": "d87e0806",
   "metadata": {},
   "outputs": [
    {
     "data": {
      "text/plain": [
       "[10000,\n",
       " 12000,\n",
       " 15000,\n",
       " 18000,\n",
       " 20000,\n",
       " 2000,\n",
       " 25000,\n",
       " 10000,\n",
       " 12000,\n",
       " 15000,\n",
       " 18000,\n",
       " 20000,\n",
       " 2000,\n",
       " 25000]"
      ]
     },
     "execution_count": 393,
     "metadata": {},
     "output_type": "execute_result"
    }
   ],
   "source": [
    "emp_salary*2"
   ]
  },
  {
   "cell_type": "code",
   "execution_count": 394,
   "id": "dd9b7933",
   "metadata": {},
   "outputs": [
    {
     "data": {
      "text/plain": [
       "[10000, 12000, 15000, 18000, 20000, 2000, 25000]"
      ]
     },
     "execution_count": 394,
     "metadata": {},
     "output_type": "execute_result"
    }
   ],
   "source": [
    "emp_salary"
   ]
  },
  {
   "cell_type": "code",
   "execution_count": 395,
   "id": "3d361765",
   "metadata": {},
   "outputs": [
    {
     "name": "stdout",
     "output_type": "stream",
     "text": [
      "==========================================================================================\n",
      "                                             data trained                                                            \n",
      "==========================================================================================\n"
     ]
    }
   ],
   "source": [
    "print('='*90)\n",
    "print('                                             data trained                                                            ')\n",
    "print('='*90)"
   ]
  },
  {
   "cell_type": "code",
   "execution_count": 396,
   "id": "e8b2dfcb",
   "metadata": {},
   "outputs": [],
   "source": [
    "marks=[45,100,69,67,93,100,93,6,100,94,100,68,29,37,100,95,98,100,38,46,69,30,100,75,95,97,100,32,21,100,80,91,100]"
   ]
  },
  {
   "cell_type": "code",
   "execution_count": 397,
   "id": "f2c6782d",
   "metadata": {},
   "outputs": [
    {
     "data": {
      "text/plain": [
       "10"
      ]
     },
     "execution_count": 397,
     "metadata": {},
     "output_type": "execute_result"
    }
   ],
   "source": [
    "marks.count(100)"
   ]
  },
  {
   "cell_type": "code",
   "execution_count": 398,
   "id": "fb1a977e",
   "metadata": {},
   "outputs": [
    {
     "data": {
      "text/plain": [
       "2"
      ]
     },
     "execution_count": 398,
     "metadata": {},
     "output_type": "execute_result"
    }
   ],
   "source": [
    "marks.count(95)"
   ]
  },
  {
   "cell_type": "code",
   "execution_count": 399,
   "id": "19c8fb5b",
   "metadata": {},
   "outputs": [
    {
     "data": {
      "text/plain": [
       "0"
      ]
     },
     "execution_count": 399,
     "metadata": {},
     "output_type": "execute_result"
    }
   ],
   "source": [
    "marks.count(96)"
   ]
  },
  {
   "cell_type": "code",
   "execution_count": 400,
   "id": "3ec4b077",
   "metadata": {},
   "outputs": [
    {
     "data": {
      "text/plain": [
       "2"
      ]
     },
     "execution_count": 400,
     "metadata": {},
     "output_type": "execute_result"
    }
   ],
   "source": [
    "marks.count(93)"
   ]
  },
  {
   "cell_type": "code",
   "execution_count": 401,
   "id": "0d4b2386",
   "metadata": {},
   "outputs": [
    {
     "data": {
      "text/plain": [
       "7"
      ]
     },
     "execution_count": 401,
     "metadata": {},
     "output_type": "execute_result"
    }
   ],
   "source": [
    "marks.index(6)"
   ]
  },
  {
   "cell_type": "code",
   "execution_count": 402,
   "id": "225a3467",
   "metadata": {},
   "outputs": [
    {
     "data": {
      "text/plain": [
       "4"
      ]
     },
     "execution_count": 402,
     "metadata": {},
     "output_type": "execute_result"
    }
   ],
   "source": [
    "employee.index('hrithik')"
   ]
  },
  {
   "cell_type": "code",
   "execution_count": 403,
   "id": "409bae76",
   "metadata": {},
   "outputs": [
    {
     "data": {
      "text/plain": [
       "['radha', 'shyam', 'arun', 'mukul', 'hrithik', 'ramesh', 'shikhar']"
      ]
     },
     "execution_count": 403,
     "metadata": {},
     "output_type": "execute_result"
    }
   ],
   "source": [
    "employee"
   ]
  },
  {
   "cell_type": "code",
   "execution_count": 404,
   "id": "dd6ddb9b",
   "metadata": {},
   "outputs": [],
   "source": [
    "employee.extend(['saurabh','sakshi'])"
   ]
  },
  {
   "cell_type": "code",
   "execution_count": 405,
   "id": "4789f23e",
   "metadata": {},
   "outputs": [
    {
     "data": {
      "text/plain": [
       "['radha',\n",
       " 'shyam',\n",
       " 'arun',\n",
       " 'mukul',\n",
       " 'hrithik',\n",
       " 'ramesh',\n",
       " 'shikhar',\n",
       " 'saurabh',\n",
       " 'sakshi']"
      ]
     },
     "execution_count": 405,
     "metadata": {},
     "output_type": "execute_result"
    }
   ],
   "source": [
    "employee"
   ]
  },
  {
   "cell_type": "code",
   "execution_count": 406,
   "id": "d3a03298",
   "metadata": {},
   "outputs": [],
   "source": [
    "employee.remove('saurabh')"
   ]
  },
  {
   "cell_type": "code",
   "execution_count": 407,
   "id": "f356ccdf",
   "metadata": {},
   "outputs": [
    {
     "data": {
      "text/plain": [
       "['radha', 'shyam', 'arun', 'mukul', 'hrithik', 'ramesh', 'shikhar', 'sakshi']"
      ]
     },
     "execution_count": 407,
     "metadata": {},
     "output_type": "execute_result"
    }
   ],
   "source": [
    "employee"
   ]
  },
  {
   "cell_type": "code",
   "execution_count": 408,
   "id": "150dee67",
   "metadata": {},
   "outputs": [],
   "source": [
    "employee.append('saurabh')"
   ]
  },
  {
   "cell_type": "code",
   "execution_count": 409,
   "id": "5a64f218",
   "metadata": {},
   "outputs": [
    {
     "data": {
      "text/plain": [
       "['radha',\n",
       " 'shyam',\n",
       " 'arun',\n",
       " 'mukul',\n",
       " 'hrithik',\n",
       " 'ramesh',\n",
       " 'shikhar',\n",
       " 'sakshi',\n",
       " 'saurabh']"
      ]
     },
     "execution_count": 409,
     "metadata": {},
     "output_type": "execute_result"
    }
   ],
   "source": [
    "employee"
   ]
  },
  {
   "cell_type": "code",
   "execution_count": 410,
   "id": "b32a5bcc",
   "metadata": {},
   "outputs": [
    {
     "data": {
      "text/plain": [
       "'saurabh'"
      ]
     },
     "execution_count": 410,
     "metadata": {},
     "output_type": "execute_result"
    }
   ],
   "source": [
    "employee.pop()"
   ]
  },
  {
   "cell_type": "code",
   "execution_count": 411,
   "id": "282f66f4",
   "metadata": {},
   "outputs": [
    {
     "data": {
      "text/plain": [
       "['radha', 'shyam', 'arun', 'mukul', 'hrithik', 'ramesh', 'shikhar', 'sakshi']"
      ]
     },
     "execution_count": 411,
     "metadata": {},
     "output_type": "execute_result"
    }
   ],
   "source": [
    "employee"
   ]
  },
  {
   "cell_type": "code",
   "execution_count": 412,
   "id": "9576b83d",
   "metadata": {},
   "outputs": [
    {
     "ename": "TypeError",
     "evalue": "'str' object cannot be interpreted as an integer",
     "output_type": "error",
     "traceback": [
      "\u001b[1;31m---------------------------------------------------------------------------\u001b[0m",
      "\u001b[1;31mTypeError\u001b[0m                                 Traceback (most recent call last)",
      "Input \u001b[1;32mIn [412]\u001b[0m, in \u001b[0;36m<cell line: 1>\u001b[1;34m()\u001b[0m\n\u001b[1;32m----> 1\u001b[0m \u001b[43memployee\u001b[49m\u001b[38;5;241;43m.\u001b[39;49m\u001b[43mpop\u001b[49m\u001b[43m(\u001b[49m\u001b[38;5;124;43m'\u001b[39;49m\u001b[38;5;124;43msakshi\u001b[39;49m\u001b[38;5;124;43m'\u001b[39;49m\u001b[43m)\u001b[49m\n",
      "\u001b[1;31mTypeError\u001b[0m: 'str' object cannot be interpreted as an integer"
     ]
    }
   ],
   "source": [
    "employee.pop('sakshi')"
   ]
  },
  {
   "cell_type": "code",
   "execution_count": 413,
   "id": "970cf2ea",
   "metadata": {},
   "outputs": [
    {
     "data": {
      "text/plain": [
       "'sakshi'"
      ]
     },
     "execution_count": 413,
     "metadata": {},
     "output_type": "execute_result"
    }
   ],
   "source": [
    "employee.pop(-1)"
   ]
  },
  {
   "cell_type": "code",
   "execution_count": 414,
   "id": "5e451139",
   "metadata": {},
   "outputs": [
    {
     "data": {
      "text/plain": [
       "['radha', 'shyam', 'arun', 'mukul', 'hrithik', 'ramesh', 'shikhar']"
      ]
     },
     "execution_count": 414,
     "metadata": {},
     "output_type": "execute_result"
    }
   ],
   "source": [
    "employee"
   ]
  },
  {
   "cell_type": "code",
   "execution_count": 415,
   "id": "ac47519c",
   "metadata": {},
   "outputs": [
    {
     "name": "stdout",
     "output_type": "stream",
     "text": [
      "['radha', 'shyam', 'arun', 'mukul', 'hrithik', 'ramesh', 'shikhar']\n"
     ]
    }
   ],
   "source": [
    "print(employee)"
   ]
  },
  {
   "cell_type": "code",
   "execution_count": 416,
   "id": "2477f278",
   "metadata": {},
   "outputs": [
    {
     "name": "stdout",
     "output_type": "stream",
     "text": [
      "[10000, 12000, 15000, 18000, 20000, 2000, 25000]\n"
     ]
    }
   ],
   "source": [
    "print(emp_salary)"
   ]
  },
  {
   "cell_type": "code",
   "execution_count": 417,
   "id": "618c228e",
   "metadata": {},
   "outputs": [
    {
     "name": "stdout",
     "output_type": "stream",
     "text": [
      "[45, 100, 69, 67, 93, 100, 93, 6, 100, 94, 100, 68, 29, 37, 100, 95, 98, 100, 38, 46, 69, 30, 100, 75, 95, 97, 100, 32, 21, 100, 80, 91, 100]\n"
     ]
    }
   ],
   "source": [
    "print(marks)"
   ]
  },
  {
   "cell_type": "code",
   "execution_count": 418,
   "id": "3f7b43a2",
   "metadata": {},
   "outputs": [],
   "source": [
    "employee.reverse()"
   ]
  },
  {
   "cell_type": "code",
   "execution_count": 419,
   "id": "daac69f3",
   "metadata": {},
   "outputs": [
    {
     "data": {
      "text/plain": [
       "['shikhar', 'ramesh', 'hrithik', 'mukul', 'arun', 'shyam', 'radha']"
      ]
     },
     "execution_count": 419,
     "metadata": {},
     "output_type": "execute_result"
    }
   ],
   "source": [
    "employee"
   ]
  },
  {
   "cell_type": "code",
   "execution_count": 420,
   "id": "3cab4e5a",
   "metadata": {},
   "outputs": [
    {
     "ename": "NameError",
     "evalue": "name 'emplolyee' is not defined",
     "output_type": "error",
     "traceback": [
      "\u001b[1;31m---------------------------------------------------------------------------\u001b[0m",
      "\u001b[1;31mNameError\u001b[0m                                 Traceback (most recent call last)",
      "Input \u001b[1;32mIn [420]\u001b[0m, in \u001b[0;36m<cell line: 1>\u001b[1;34m()\u001b[0m\n\u001b[1;32m----> 1\u001b[0m \u001b[43memplolyee\u001b[49m\u001b[38;5;241m.\u001b[39mreverse[\u001b[38;5;241m5\u001b[39m:]\n",
      "\u001b[1;31mNameError\u001b[0m: name 'emplolyee' is not defined"
     ]
    }
   ],
   "source": [
    "emplolyee.reverse[5:]"
   ]
  },
  {
   "cell_type": "code",
   "execution_count": 421,
   "id": "d771a113",
   "metadata": {},
   "outputs": [],
   "source": [
    "employee.reverse()"
   ]
  },
  {
   "cell_type": "code",
   "execution_count": 422,
   "id": "303a376e",
   "metadata": {},
   "outputs": [
    {
     "data": {
      "text/plain": [
       "['radha', 'shyam', 'arun', 'mukul', 'hrithik', 'ramesh', 'shikhar']"
      ]
     },
     "execution_count": 422,
     "metadata": {},
     "output_type": "execute_result"
    }
   ],
   "source": [
    "employee"
   ]
  },
  {
   "cell_type": "code",
   "execution_count": 423,
   "id": "07352a9b",
   "metadata": {},
   "outputs": [],
   "source": [
    "employee.reverse()"
   ]
  },
  {
   "cell_type": "code",
   "execution_count": 424,
   "id": "2e74fa58",
   "metadata": {},
   "outputs": [
    {
     "data": {
      "text/plain": [
       "['shikhar', 'ramesh', 'hrithik', 'mukul', 'arun', 'shyam', 'radha']"
      ]
     },
     "execution_count": 424,
     "metadata": {},
     "output_type": "execute_result"
    }
   ],
   "source": [
    "employee"
   ]
  },
  {
   "cell_type": "code",
   "execution_count": 425,
   "id": "7febf574",
   "metadata": {},
   "outputs": [
    {
     "data": {
      "text/plain": [
       "<function list.count(value, /)>"
      ]
     },
     "execution_count": 425,
     "metadata": {},
     "output_type": "execute_result"
    }
   ],
   "source": [
    "employee.count"
   ]
  },
  {
   "cell_type": "code",
   "execution_count": 426,
   "id": "c454af6d",
   "metadata": {},
   "outputs": [
    {
     "data": {
      "text/plain": [
       "['shikhar', 'ramesh', 'hrithik', 'mukul', 'arun', 'shyam', 'radha']"
      ]
     },
     "execution_count": 426,
     "metadata": {},
     "output_type": "execute_result"
    }
   ],
   "source": [
    "employee"
   ]
  },
  {
   "cell_type": "code",
   "execution_count": 427,
   "id": "37bbad1e",
   "metadata": {},
   "outputs": [],
   "source": [
    "employee.sort()"
   ]
  },
  {
   "cell_type": "code",
   "execution_count": 428,
   "id": "352dc0a1",
   "metadata": {},
   "outputs": [
    {
     "data": {
      "text/plain": [
       "['arun', 'hrithik', 'mukul', 'radha', 'ramesh', 'shikhar', 'shyam']"
      ]
     },
     "execution_count": 428,
     "metadata": {},
     "output_type": "execute_result"
    }
   ],
   "source": [
    "employee"
   ]
  },
  {
   "cell_type": "code",
   "execution_count": 429,
   "id": "fd114f19",
   "metadata": {},
   "outputs": [],
   "source": [
    "marks.sort()"
   ]
  },
  {
   "cell_type": "code",
   "execution_count": 430,
   "id": "540ac665",
   "metadata": {},
   "outputs": [
    {
     "data": {
      "text/plain": [
       "[6,\n",
       " 21,\n",
       " 29,\n",
       " 30,\n",
       " 32,\n",
       " 37,\n",
       " 38,\n",
       " 45,\n",
       " 46,\n",
       " 67,\n",
       " 68,\n",
       " 69,\n",
       " 69,\n",
       " 75,\n",
       " 80,\n",
       " 91,\n",
       " 93,\n",
       " 93,\n",
       " 94,\n",
       " 95,\n",
       " 95,\n",
       " 97,\n",
       " 98,\n",
       " 100,\n",
       " 100,\n",
       " 100,\n",
       " 100,\n",
       " 100,\n",
       " 100,\n",
       " 100,\n",
       " 100,\n",
       " 100,\n",
       " 100]"
      ]
     },
     "execution_count": 430,
     "metadata": {},
     "output_type": "execute_result"
    }
   ],
   "source": [
    "marks"
   ]
  },
  {
   "cell_type": "code",
   "execution_count": 431,
   "id": "3238997d",
   "metadata": {},
   "outputs": [],
   "source": [
    "marks.sort(reverse=True)"
   ]
  },
  {
   "cell_type": "code",
   "execution_count": 432,
   "id": "f7f0de80",
   "metadata": {},
   "outputs": [
    {
     "data": {
      "text/plain": [
       "[100,\n",
       " 100,\n",
       " 100,\n",
       " 100,\n",
       " 100,\n",
       " 100,\n",
       " 100,\n",
       " 100,\n",
       " 100,\n",
       " 100,\n",
       " 98,\n",
       " 97,\n",
       " 95,\n",
       " 95,\n",
       " 94,\n",
       " 93,\n",
       " 93,\n",
       " 91,\n",
       " 80,\n",
       " 75,\n",
       " 69,\n",
       " 69,\n",
       " 68,\n",
       " 67,\n",
       " 46,\n",
       " 45,\n",
       " 38,\n",
       " 37,\n",
       " 32,\n",
       " 30,\n",
       " 29,\n",
       " 21,\n",
       " 6]"
      ]
     },
     "execution_count": 432,
     "metadata": {},
     "output_type": "execute_result"
    }
   ],
   "source": [
    "marks"
   ]
  },
  {
   "cell_type": "code",
   "execution_count": 433,
   "id": "6a6c6264",
   "metadata": {},
   "outputs": [
    {
     "data": {
      "text/plain": [
       "['arun', 'hrithik', 'mukul', 'radha', 'ramesh', 'shikhar', 'shyam']"
      ]
     },
     "execution_count": 433,
     "metadata": {},
     "output_type": "execute_result"
    }
   ],
   "source": [
    "employee"
   ]
  },
  {
   "cell_type": "code",
   "execution_count": 434,
   "id": "5b073489",
   "metadata": {},
   "outputs": [],
   "source": [
    "employee.append('gaurav')"
   ]
  },
  {
   "cell_type": "code",
   "execution_count": 435,
   "id": "6f73a246",
   "metadata": {},
   "outputs": [
    {
     "data": {
      "text/plain": [
       "['arun', 'hrithik', 'mukul', 'radha', 'ramesh', 'shikhar', 'shyam', 'gaurav']"
      ]
     },
     "execution_count": 435,
     "metadata": {},
     "output_type": "execute_result"
    }
   ],
   "source": [
    "employee"
   ]
  },
  {
   "cell_type": "code",
   "execution_count": 436,
   "id": "f3c7b88b",
   "metadata": {},
   "outputs": [
    {
     "data": {
      "text/plain": [
       "1"
      ]
     },
     "execution_count": 436,
     "metadata": {},
     "output_type": "execute_result"
    }
   ],
   "source": [
    "employee.count('hrithik')"
   ]
  },
  {
   "cell_type": "code",
   "execution_count": 437,
   "id": "1231ac28",
   "metadata": {},
   "outputs": [
    {
     "data": {
      "text/plain": [
       "<function list.extend(iterable, /)>"
      ]
     },
     "execution_count": 437,
     "metadata": {},
     "output_type": "execute_result"
    }
   ],
   "source": [
    "employee.extend"
   ]
  },
  {
   "cell_type": "code",
   "execution_count": 438,
   "id": "9b8b02b7",
   "metadata": {},
   "outputs": [
    {
     "data": {
      "text/plain": [
       "7"
      ]
     },
     "execution_count": 438,
     "metadata": {},
     "output_type": "execute_result"
    }
   ],
   "source": [
    "employee.index('gaurav')"
   ]
  },
  {
   "cell_type": "code",
   "execution_count": 439,
   "id": "c2f78938",
   "metadata": {},
   "outputs": [
    {
     "data": {
      "text/plain": [
       "['arun', 'hrithik', 'mukul', 'radha', 'ramesh', 'shikhar', 'shyam', 'gaurav']"
      ]
     },
     "execution_count": 439,
     "metadata": {},
     "output_type": "execute_result"
    }
   ],
   "source": [
    "employee"
   ]
  },
  {
   "cell_type": "code",
   "execution_count": 440,
   "id": "d7be8963",
   "metadata": {},
   "outputs": [
    {
     "data": {
      "text/plain": [
       "<function list.insert(index, object, /)>"
      ]
     },
     "execution_count": 440,
     "metadata": {},
     "output_type": "execute_result"
    }
   ],
   "source": [
    "employee.insert"
   ]
  },
  {
   "cell_type": "code",
   "execution_count": 441,
   "id": "e41f2fbe",
   "metadata": {},
   "outputs": [],
   "source": [
    "employee.insert(3,'gaurav')"
   ]
  },
  {
   "cell_type": "code",
   "execution_count": 442,
   "id": "e8e1306e",
   "metadata": {},
   "outputs": [
    {
     "data": {
      "text/plain": [
       "['arun',\n",
       " 'hrithik',\n",
       " 'mukul',\n",
       " 'gaurav',\n",
       " 'radha',\n",
       " 'ramesh',\n",
       " 'shikhar',\n",
       " 'shyam',\n",
       " 'gaurav']"
      ]
     },
     "execution_count": 442,
     "metadata": {},
     "output_type": "execute_result"
    }
   ],
   "source": [
    "employee"
   ]
  },
  {
   "cell_type": "code",
   "execution_count": 443,
   "id": "ac6955d0",
   "metadata": {},
   "outputs": [
    {
     "data": {
      "text/plain": [
       "'gaurav'"
      ]
     },
     "execution_count": 443,
     "metadata": {},
     "output_type": "execute_result"
    }
   ],
   "source": [
    "employee.pop(-1)"
   ]
  },
  {
   "cell_type": "code",
   "execution_count": 444,
   "id": "4d87cd8a",
   "metadata": {},
   "outputs": [
    {
     "data": {
      "text/plain": [
       "['arun', 'hrithik', 'mukul', 'gaurav', 'radha', 'ramesh', 'shikhar', 'shyam']"
      ]
     },
     "execution_count": 444,
     "metadata": {},
     "output_type": "execute_result"
    }
   ],
   "source": [
    "employee"
   ]
  },
  {
   "cell_type": "code",
   "execution_count": 445,
   "id": "34341598",
   "metadata": {},
   "outputs": [],
   "source": [
    "employee.remove('radha')"
   ]
  },
  {
   "cell_type": "code",
   "execution_count": 446,
   "id": "7fcfedad",
   "metadata": {},
   "outputs": [
    {
     "data": {
      "text/plain": [
       "['arun', 'hrithik', 'mukul', 'gaurav', 'ramesh', 'shikhar', 'shyam']"
      ]
     },
     "execution_count": 446,
     "metadata": {},
     "output_type": "execute_result"
    }
   ],
   "source": [
    "employee"
   ]
  },
  {
   "cell_type": "code",
   "execution_count": 447,
   "id": "bce1af82",
   "metadata": {},
   "outputs": [
    {
     "name": "stdout",
     "output_type": "stream",
     "text": [
      "['arun', 'hrithik', 'mukul', 'gaurav', 'ramesh', 'shikhar', 'shyam']\n"
     ]
    }
   ],
   "source": [
    "print(employee)"
   ]
  },
  {
   "cell_type": "code",
   "execution_count": 448,
   "id": "6bbd4544",
   "metadata": {},
   "outputs": [
    {
     "data": {
      "text/plain": [
       "<function list.reverse()>"
      ]
     },
     "execution_count": 448,
     "metadata": {},
     "output_type": "execute_result"
    }
   ],
   "source": [
    "employee.reverse"
   ]
  },
  {
   "cell_type": "code",
   "execution_count": 449,
   "id": "d1d75f14",
   "metadata": {},
   "outputs": [],
   "source": [
    "employee.reverse()"
   ]
  },
  {
   "cell_type": "code",
   "execution_count": 450,
   "id": "793e275f",
   "metadata": {},
   "outputs": [
    {
     "data": {
      "text/plain": [
       "['shyam', 'shikhar', 'ramesh', 'gaurav', 'mukul', 'hrithik', 'arun']"
      ]
     },
     "execution_count": 450,
     "metadata": {},
     "output_type": "execute_result"
    }
   ],
   "source": [
    "employee"
   ]
  },
  {
   "cell_type": "code",
   "execution_count": 451,
   "id": "483f4ffd",
   "metadata": {},
   "outputs": [
    {
     "data": {
      "text/plain": [
       "<function list.sort(*, key=None, reverse=False)>"
      ]
     },
     "execution_count": 451,
     "metadata": {},
     "output_type": "execute_result"
    }
   ],
   "source": [
    "employee.sort"
   ]
  },
  {
   "cell_type": "code",
   "execution_count": 452,
   "id": "b6540eda",
   "metadata": {},
   "outputs": [],
   "source": [
    "employee.sort()"
   ]
  },
  {
   "cell_type": "code",
   "execution_count": 453,
   "id": "650283da",
   "metadata": {},
   "outputs": [
    {
     "data": {
      "text/plain": [
       "['arun', 'gaurav', 'hrithik', 'mukul', 'ramesh', 'shikhar', 'shyam']"
      ]
     },
     "execution_count": 453,
     "metadata": {},
     "output_type": "execute_result"
    }
   ],
   "source": [
    "employee"
   ]
  },
  {
   "cell_type": "code",
   "execution_count": 454,
   "id": "1a61f587",
   "metadata": {},
   "outputs": [],
   "source": [
    "cities=('Delhi','Banglore','Mumbai','Jaipur')"
   ]
  },
  {
   "cell_type": "code",
   "execution_count": 455,
   "id": "2edd721a",
   "metadata": {},
   "outputs": [
    {
     "data": {
      "text/plain": [
       "list"
      ]
     },
     "execution_count": 455,
     "metadata": {},
     "output_type": "execute_result"
    }
   ],
   "source": [
    "type(emp_salary)"
   ]
  },
  {
   "cell_type": "code",
   "execution_count": 456,
   "id": "f323d900",
   "metadata": {},
   "outputs": [
    {
     "data": {
      "text/plain": [
       "tuple"
      ]
     },
     "execution_count": 456,
     "metadata": {},
     "output_type": "execute_result"
    }
   ],
   "source": [
    "type(cities)"
   ]
  },
  {
   "cell_type": "code",
   "execution_count": 457,
   "id": "6fd00c8c",
   "metadata": {},
   "outputs": [
    {
     "data": {
      "text/plain": [
       "<function tuple.count(value, /)>"
      ]
     },
     "execution_count": 457,
     "metadata": {},
     "output_type": "execute_result"
    }
   ],
   "source": [
    " cities.count"
   ]
  },
  {
   "cell_type": "code",
   "execution_count": 458,
   "id": "f5bb670b",
   "metadata": {},
   "outputs": [
    {
     "data": {
      "text/plain": [
       "1"
      ]
     },
     "execution_count": 458,
     "metadata": {},
     "output_type": "execute_result"
    }
   ],
   "source": [
    "cities.count('Delhi')"
   ]
  },
  {
   "cell_type": "code",
   "execution_count": 459,
   "id": "1116644c",
   "metadata": {},
   "outputs": [
    {
     "data": {
      "text/plain": [
       "<function tuple.index(value, start=0, stop=9223372036854775807, /)>"
      ]
     },
     "execution_count": 459,
     "metadata": {},
     "output_type": "execute_result"
    }
   ],
   "source": [
    "cities.index"
   ]
  },
  {
   "cell_type": "code",
   "execution_count": 460,
   "id": "e1e6f046",
   "metadata": {},
   "outputs": [
    {
     "data": {
      "text/plain": [
       "3"
      ]
     },
     "execution_count": 460,
     "metadata": {},
     "output_type": "execute_result"
    }
   ],
   "source": [
    "cities.index('Jaipur')"
   ]
  },
  {
   "cell_type": "code",
   "execution_count": 461,
   "id": "cb1471ee",
   "metadata": {},
   "outputs": [
    {
     "data": {
      "text/plain": [
       "tuple"
      ]
     },
     "execution_count": 461,
     "metadata": {},
     "output_type": "execute_result"
    }
   ],
   "source": [
    "type(cities)"
   ]
  },
  {
   "cell_type": "code",
   "execution_count": 462,
   "id": "996d5373",
   "metadata": {},
   "outputs": [],
   "source": [
    "cities=list(cities)"
   ]
  },
  {
   "cell_type": "code",
   "execution_count": 463,
   "id": "772ab1b6",
   "metadata": {},
   "outputs": [
    {
     "data": {
      "text/plain": [
       "['Delhi', 'Banglore', 'Mumbai', 'Jaipur']"
      ]
     },
     "execution_count": 463,
     "metadata": {},
     "output_type": "execute_result"
    }
   ],
   "source": [
    "cities"
   ]
  },
  {
   "cell_type": "code",
   "execution_count": 464,
   "id": "2115e0bc",
   "metadata": {},
   "outputs": [
    {
     "data": {
      "text/plain": [
       "list"
      ]
     },
     "execution_count": 464,
     "metadata": {},
     "output_type": "execute_result"
    }
   ],
   "source": [
    "type(cities)"
   ]
  },
  {
   "cell_type": "code",
   "execution_count": 466,
   "id": "6aca81ae",
   "metadata": {},
   "outputs": [],
   "source": [
    "cities.append('Hyderabad')"
   ]
  },
  {
   "cell_type": "code",
   "execution_count": 467,
   "id": "f83d62af",
   "metadata": {},
   "outputs": [
    {
     "data": {
      "text/plain": [
       "['Delhi', 'Banglore', 'Mumbai', 'Jaipur', 'Heydrabad', 'Hyderabad']"
      ]
     },
     "execution_count": 467,
     "metadata": {},
     "output_type": "execute_result"
    }
   ],
   "source": [
    "cities"
   ]
  },
  {
   "cell_type": "code",
   "execution_count": 468,
   "id": "2fceade3",
   "metadata": {},
   "outputs": [],
   "source": [
    "cities.append('assrfv')"
   ]
  },
  {
   "cell_type": "code",
   "execution_count": 469,
   "id": "2e533347",
   "metadata": {},
   "outputs": [
    {
     "data": {
      "text/plain": [
       "['Delhi', 'Banglore', 'Mumbai', 'Jaipur', 'Heydrabad', 'Hyderabad', 'assrfv']"
      ]
     },
     "execution_count": 469,
     "metadata": {},
     "output_type": "execute_result"
    }
   ],
   "source": [
    "cities"
   ]
  },
  {
   "cell_type": "code",
   "execution_count": 470,
   "id": "6a474487",
   "metadata": {},
   "outputs": [],
   "source": [
    "cities[-1]='noida'"
   ]
  },
  {
   "cell_type": "code",
   "execution_count": 471,
   "id": "d64cc82e",
   "metadata": {},
   "outputs": [
    {
     "data": {
      "text/plain": [
       "['Delhi', 'Banglore', 'Mumbai', 'Jaipur', 'Heydrabad', 'Hyderabad', 'noida']"
      ]
     },
     "execution_count": 471,
     "metadata": {},
     "output_type": "execute_result"
    }
   ],
   "source": [
    "cities"
   ]
  },
  {
   "cell_type": "code",
   "execution_count": 472,
   "id": "9b80eb1a",
   "metadata": {},
   "outputs": [],
   "source": [
    "cities.insert(1,'Ranchi')"
   ]
  },
  {
   "cell_type": "code",
   "execution_count": 473,
   "id": "29faeadc",
   "metadata": {},
   "outputs": [
    {
     "data": {
      "text/plain": [
       "['Delhi',\n",
       " 'Ranchi',\n",
       " 'Banglore',\n",
       " 'Mumbai',\n",
       " 'Jaipur',\n",
       " 'Heydrabad',\n",
       " 'Hyderabad',\n",
       " 'noida']"
      ]
     },
     "execution_count": 473,
     "metadata": {},
     "output_type": "execute_result"
    }
   ],
   "source": [
    "cities"
   ]
  },
  {
   "cell_type": "code",
   "execution_count": 474,
   "id": "84be67ec",
   "metadata": {},
   "outputs": [],
   "source": [
    "cities=tuple(cities)"
   ]
  },
  {
   "cell_type": "code",
   "execution_count": 475,
   "id": "05f8a497",
   "metadata": {},
   "outputs": [
    {
     "data": {
      "text/plain": [
       "('Delhi',\n",
       " 'Ranchi',\n",
       " 'Banglore',\n",
       " 'Mumbai',\n",
       " 'Jaipur',\n",
       " 'Heydrabad',\n",
       " 'Hyderabad',\n",
       " 'noida')"
      ]
     },
     "execution_count": 475,
     "metadata": {},
     "output_type": "execute_result"
    }
   ],
   "source": [
    "cities"
   ]
  },
  {
   "cell_type": "code",
   "execution_count": 476,
   "id": "6f21effa",
   "metadata": {},
   "outputs": [
    {
     "data": {
      "text/plain": [
       "tuple"
      ]
     },
     "execution_count": 476,
     "metadata": {},
     "output_type": "execute_result"
    }
   ],
   "source": [
    "type(cities)"
   ]
  },
  {
   "cell_type": "code",
   "execution_count": 477,
   "id": "192cd742",
   "metadata": {},
   "outputs": [],
   "source": [
    "dhinchak=['mukul','hrithik' ]"
   ]
  },
  {
   "cell_type": "code",
   "execution_count": 478,
   "id": "b2316901",
   "metadata": {},
   "outputs": [
    {
     "data": {
      "text/plain": [
       "list"
      ]
     },
     "execution_count": 478,
     "metadata": {},
     "output_type": "execute_result"
    }
   ],
   "source": [
    "type(dhinchak)"
   ]
  },
  {
   "cell_type": "code",
   "execution_count": 479,
   "id": "f9bad51d",
   "metadata": {},
   "outputs": [
    {
     "data": {
      "text/plain": [
       "1"
      ]
     },
     "execution_count": 479,
     "metadata": {},
     "output_type": "execute_result"
    }
   ],
   "source": [
    "cities.count('Delhi')"
   ]
  },
  {
   "cell_type": "code",
   "execution_count": 480,
   "id": "3d6bc4b0",
   "metadata": {},
   "outputs": [
    {
     "data": {
      "text/plain": [
       "7"
      ]
     },
     "execution_count": 480,
     "metadata": {},
     "output_type": "execute_result"
    }
   ],
   "source": [
    "cities.index('noida')"
   ]
  },
  {
   "cell_type": "code",
   "execution_count": 481,
   "id": "fbce2f8f",
   "metadata": {},
   "outputs": [],
   "source": [
    "roll_number=set()"
   ]
  },
  {
   "cell_type": "code",
   "execution_count": 482,
   "id": "131ac68b",
   "metadata": {},
   "outputs": [
    {
     "data": {
      "text/plain": [
       "set"
      ]
     },
     "execution_count": 482,
     "metadata": {},
     "output_type": "execute_result"
    }
   ],
   "source": [
    "type(roll_number)"
   ]
  },
  {
   "cell_type": "code",
   "execution_count": 483,
   "id": "9b0df736",
   "metadata": {},
   "outputs": [],
   "source": [
    "box={1,4,67,2,7,2,8,7}"
   ]
  },
  {
   "cell_type": "code",
   "execution_count": 484,
   "id": "2eefa786",
   "metadata": {},
   "outputs": [
    {
     "data": {
      "text/plain": [
       "set"
      ]
     },
     "execution_count": 484,
     "metadata": {},
     "output_type": "execute_result"
    }
   ],
   "source": [
    "type(box)"
   ]
  },
  {
   "cell_type": "code",
   "execution_count": 485,
   "id": "cde7d0ea",
   "metadata": {},
   "outputs": [
    {
     "data": {
      "text/plain": [
       "{1, 2, 4, 7, 8, 67}"
      ]
     },
     "execution_count": 485,
     "metadata": {},
     "output_type": "execute_result"
    }
   ],
   "source": [
    "box"
   ]
  },
  {
   "cell_type": "code",
   "execution_count": 486,
   "id": "a7f2f82e",
   "metadata": {},
   "outputs": [],
   "source": [
    "roll_number.add(1)"
   ]
  },
  {
   "cell_type": "code",
   "execution_count": 487,
   "id": "760b5f4b",
   "metadata": {},
   "outputs": [],
   "source": [
    "roll_number.add(2)"
   ]
  },
  {
   "cell_type": "code",
   "execution_count": 488,
   "id": "6464d27f",
   "metadata": {},
   "outputs": [
    {
     "data": {
      "text/plain": [
       "{1, 2}"
      ]
     },
     "execution_count": 488,
     "metadata": {},
     "output_type": "execute_result"
    }
   ],
   "source": [
    "roll_number"
   ]
  },
  {
   "cell_type": "code",
   "execution_count": 489,
   "id": "2a04076a",
   "metadata": {},
   "outputs": [
    {
     "ename": "TypeError",
     "evalue": "'set' object is not callable",
     "output_type": "error",
     "traceback": [
      "\u001b[1;31m---------------------------------------------------------------------------\u001b[0m",
      "\u001b[1;31mTypeError\u001b[0m                                 Traceback (most recent call last)",
      "Input \u001b[1;32mIn [489]\u001b[0m, in \u001b[0;36m<cell line: 1>\u001b[1;34m()\u001b[0m\n\u001b[1;32m----> 1\u001b[0m \u001b[43mroll_number\u001b[49m\u001b[43m(\u001b[49m\u001b[38;5;241;43m1\u001b[39;49m\u001b[43m)\u001b[49m\n",
      "\u001b[1;31mTypeError\u001b[0m: 'set' object is not callable"
     ]
    }
   ],
   "source": [
    "roll_number(1)"
   ]
  },
  {
   "cell_type": "code",
   "execution_count": 490,
   "id": "80ed4a3b",
   "metadata": {},
   "outputs": [
    {
     "data": {
      "text/plain": [
       "[100,\n",
       " 100,\n",
       " 100,\n",
       " 100,\n",
       " 100,\n",
       " 100,\n",
       " 100,\n",
       " 100,\n",
       " 100,\n",
       " 100,\n",
       " 98,\n",
       " 97,\n",
       " 95,\n",
       " 95,\n",
       " 94,\n",
       " 93,\n",
       " 93,\n",
       " 91,\n",
       " 80,\n",
       " 75,\n",
       " 69,\n",
       " 69,\n",
       " 68,\n",
       " 67,\n",
       " 46,\n",
       " 45,\n",
       " 38,\n",
       " 37,\n",
       " 32,\n",
       " 30,\n",
       " 29,\n",
       " 21,\n",
       " 6]"
      ]
     },
     "execution_count": 490,
     "metadata": {},
     "output_type": "execute_result"
    }
   ],
   "source": [
    "marks"
   ]
  },
  {
   "cell_type": "code",
   "execution_count": 491,
   "id": "be89871e",
   "metadata": {},
   "outputs": [],
   "source": [
    "marks=set(marks)"
   ]
  },
  {
   "cell_type": "code",
   "execution_count": 492,
   "id": "4d34daa2",
   "metadata": {},
   "outputs": [
    {
     "data": {
      "text/plain": [
       "{6,\n",
       " 21,\n",
       " 29,\n",
       " 30,\n",
       " 32,\n",
       " 37,\n",
       " 38,\n",
       " 45,\n",
       " 46,\n",
       " 67,\n",
       " 68,\n",
       " 69,\n",
       " 75,\n",
       " 80,\n",
       " 91,\n",
       " 93,\n",
       " 94,\n",
       " 95,\n",
       " 97,\n",
       " 98,\n",
       " 100}"
      ]
     },
     "execution_count": 492,
     "metadata": {},
     "output_type": "execute_result"
    }
   ],
   "source": [
    "marks"
   ]
  },
  {
   "cell_type": "code",
   "execution_count": 493,
   "id": "923f308f",
   "metadata": {},
   "outputs": [],
   "source": [
    "marks=list(marks)"
   ]
  },
  {
   "cell_type": "code",
   "execution_count": 494,
   "id": "216cf5ec",
   "metadata": {},
   "outputs": [
    {
     "data": {
      "text/plain": [
       "[6,\n",
       " 21,\n",
       " 29,\n",
       " 30,\n",
       " 32,\n",
       " 37,\n",
       " 38,\n",
       " 45,\n",
       " 46,\n",
       " 67,\n",
       " 68,\n",
       " 69,\n",
       " 75,\n",
       " 80,\n",
       " 91,\n",
       " 93,\n",
       " 94,\n",
       " 95,\n",
       " 97,\n",
       " 98,\n",
       " 100]"
      ]
     },
     "execution_count": 494,
     "metadata": {},
     "output_type": "execute_result"
    }
   ],
   "source": [
    "marks"
   ]
  },
  {
   "cell_type": "code",
   "execution_count": 495,
   "id": "df73ef7e",
   "metadata": {},
   "outputs": [],
   "source": [
    "marks.reverse()"
   ]
  },
  {
   "cell_type": "code",
   "execution_count": 496,
   "id": "6eff20a4",
   "metadata": {},
   "outputs": [
    {
     "data": {
      "text/plain": [
       "[100,\n",
       " 98,\n",
       " 97,\n",
       " 95,\n",
       " 94,\n",
       " 93,\n",
       " 91,\n",
       " 80,\n",
       " 75,\n",
       " 69,\n",
       " 68,\n",
       " 67,\n",
       " 46,\n",
       " 45,\n",
       " 38,\n",
       " 37,\n",
       " 32,\n",
       " 30,\n",
       " 29,\n",
       " 21,\n",
       " 6]"
      ]
     },
     "execution_count": 496,
     "metadata": {},
     "output_type": "execute_result"
    }
   ],
   "source": [
    "marks"
   ]
  },
  {
   "cell_type": "code",
   "execution_count": 503,
   "id": "122f0a0d",
   "metadata": {},
   "outputs": [
    {
     "ename": "NameError",
     "evalue": "name 'copy' is not defined",
     "output_type": "error",
     "traceback": [
      "\u001b[1;31m---------------------------------------------------------------------------\u001b[0m",
      "\u001b[1;31mNameError\u001b[0m                                 Traceback (most recent call last)",
      "Input \u001b[1;32mIn [503]\u001b[0m, in \u001b[0;36m<cell line: 1>\u001b[1;34m()\u001b[0m\n\u001b[1;32m----> 1\u001b[0m marks_copy\u001b[38;5;241m=\u001b[39m\u001b[43mcopy\u001b[49m\u001b[38;5;241m.\u001b[39mmarks()\n",
      "\u001b[1;31mNameError\u001b[0m: name 'copy' is not defined"
     ]
    }
   ],
   "source": [
    "marks_copy=copy.marks()"
   ]
  },
  {
   "cell_type": "code",
   "execution_count": 504,
   "id": "8fc512ac",
   "metadata": {},
   "outputs": [],
   "source": [
    "dictionary={'key1':'value1','key2':'value2'}"
   ]
  },
  {
   "cell_type": "code",
   "execution_count": 505,
   "id": "83f7b072",
   "metadata": {},
   "outputs": [
    {
     "data": {
      "text/plain": [
       "{'key1': 'value1', 'key2': 'value2'}"
      ]
     },
     "execution_count": 505,
     "metadata": {},
     "output_type": "execute_result"
    }
   ],
   "source": [
    "dictionary"
   ]
  },
  {
   "cell_type": "code",
   "execution_count": 506,
   "id": "e392d44d",
   "metadata": {},
   "outputs": [
    {
     "data": {
      "text/plain": [
       "'value1'"
      ]
     },
     "execution_count": 506,
     "metadata": {},
     "output_type": "execute_result"
    }
   ],
   "source": [
    "dictionary['key1']"
   ]
  },
  {
   "cell_type": "code",
   "execution_count": 507,
   "id": "ae4e1300",
   "metadata": {},
   "outputs": [
    {
     "data": {
      "text/plain": [
       "'value2'"
      ]
     },
     "execution_count": 507,
     "metadata": {},
     "output_type": "execute_result"
    }
   ],
   "source": [
    "dictionary['key2']"
   ]
  },
  {
   "cell_type": "code",
   "execution_count": 529,
   "id": "3350257f",
   "metadata": {},
   "outputs": [
    {
     "data": {
      "text/plain": [
       "{'roll_no.': 18,\n",
       " 'subject': ['maths', 'science', 'emglish'],\n",
       " 'marks': [18, 19, 2]}"
      ]
     },
     "execution_count": 529,
     "metadata": {},
     "output_type": "execute_result"
    }
   ],
   "source": [
    "dict"
   ]
  },
  {
   "cell_type": "code",
   "execution_count": 530,
   "id": "8460487c",
   "metadata": {},
   "outputs": [],
   "source": [
    "dict={'roll_no.':18,'subject':['maths','science','emglish'],'marks':[17,18,19]}"
   ]
  },
  {
   "cell_type": "code",
   "execution_count": 531,
   "id": "693fd876",
   "metadata": {},
   "outputs": [
    {
     "data": {
      "text/plain": [
       "18"
      ]
     },
     "execution_count": 531,
     "metadata": {},
     "output_type": "execute_result"
    }
   ],
   "source": [
    "dict['roll_no.']"
   ]
  },
  {
   "cell_type": "code",
   "execution_count": 532,
   "id": "3ffc6246",
   "metadata": {},
   "outputs": [
    {
     "data": {
      "text/plain": [
       "['maths', 'science', 'emglish']"
      ]
     },
     "execution_count": 532,
     "metadata": {},
     "output_type": "execute_result"
    }
   ],
   "source": [
    "dict['subject']"
   ]
  },
  {
   "cell_type": "code",
   "execution_count": 533,
   "id": "7bff27f7",
   "metadata": {},
   "outputs": [
    {
     "data": {
      "text/plain": [
       "'science'"
      ]
     },
     "execution_count": 533,
     "metadata": {},
     "output_type": "execute_result"
    }
   ],
   "source": [
    "dict['subject'][1]"
   ]
  },
  {
   "cell_type": "code",
   "execution_count": 534,
   "id": "69901783",
   "metadata": {},
   "outputs": [
    {
     "data": {
      "text/plain": [
       "18"
      ]
     },
     "execution_count": 534,
     "metadata": {},
     "output_type": "execute_result"
    }
   ],
   "source": [
    "dict['marks'][1]"
   ]
  },
  {
   "cell_type": "code",
   "execution_count": 535,
   "id": "f329ce3d",
   "metadata": {},
   "outputs": [],
   "source": [
    "dict['marks'][0]=dict['marks'][0]+1"
   ]
  },
  {
   "cell_type": "code",
   "execution_count": 536,
   "id": "caa28675",
   "metadata": {},
   "outputs": [
    {
     "data": {
      "text/plain": [
       "18"
      ]
     },
     "execution_count": 536,
     "metadata": {},
     "output_type": "execute_result"
    }
   ],
   "source": [
    "dict['marks'][0]"
   ]
  },
  {
   "cell_type": "code",
   "execution_count": 537,
   "id": "0ccca2c2",
   "metadata": {},
   "outputs": [],
   "source": [
    "dict['marks'][1]=dict['marks'][1]+1"
   ]
  },
  {
   "cell_type": "code",
   "execution_count": 538,
   "id": "c0ef83fc",
   "metadata": {},
   "outputs": [],
   "source": [
    "dict['marks'][2]=dict['marks'][2]+1"
   ]
  },
  {
   "cell_type": "code",
   "execution_count": 539,
   "id": "83f8ce40",
   "metadata": {},
   "outputs": [
    {
     "data": {
      "text/plain": [
       "[18, 19, 20]"
      ]
     },
     "execution_count": 539,
     "metadata": {},
     "output_type": "execute_result"
    }
   ],
   "source": [
    "dict['marks']"
   ]
  },
  {
   "cell_type": "code",
   "execution_count": null,
   "id": "d393834c",
   "metadata": {},
   "outputs": [],
   "source": []
  }
 ],
 "metadata": {
  "kernelspec": {
   "display_name": "Python 3 (ipykernel)",
   "language": "python",
   "name": "python3"
  },
  "language_info": {
   "codemirror_mode": {
    "name": "ipython",
    "version": 3
   },
   "file_extension": ".py",
   "mimetype": "text/x-python",
   "name": "python",
   "nbconvert_exporter": "python",
   "pygments_lexer": "ipython3",
   "version": "3.9.12"
  }
 },
 "nbformat": 4,
 "nbformat_minor": 5
}
