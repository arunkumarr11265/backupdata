{
 "cells": [
  {
   "cell_type": "code",
   "execution_count": 1,
   "id": "9d7bc58c",
   "metadata": {},
   "outputs": [],
   "source": [
    "import numpy as np"
   ]
  },
  {
   "cell_type": "code",
   "execution_count": 2,
   "id": "0c86a021",
   "metadata": {},
   "outputs": [],
   "source": [
    "np.random.seed(7)"
   ]
  },
  {
   "cell_type": "code",
   "execution_count": 3,
   "id": "a747b055",
   "metadata": {},
   "outputs": [
    {
     "name": "stdout",
     "output_type": "stream",
     "text": [
      "[[0.07630829 0.77991879 0.43840923]\n",
      " [0.72346518 0.97798951 0.53849587]\n",
      " [0.50112046 0.07205113 0.26843898]]\n"
     ]
    }
   ],
   "source": [
    "print(np.random.rand(3,3))"
   ]
  },
  {
   "cell_type": "code",
   "execution_count": 4,
   "id": "a0003c7e",
   "metadata": {},
   "outputs": [
    {
     "name": "stdout",
     "output_type": "stream",
     "text": [
      "[[ 2.02577152e+00 -1.32805048e-03 -4.76931700e-01]\n",
      " [ 1.21673235e+00 -1.63132075e-01 -3.34237590e-01]\n",
      " [-1.49682070e-02  2.13906749e-02  7.48781076e-01]]\n"
     ]
    }
   ],
   "source": [
    "print(np.random.randn(3,3))"
   ]
  },
  {
   "cell_type": "code",
   "execution_count": 5,
   "id": "906a6793",
   "metadata": {},
   "outputs": [
    {
     "name": "stdout",
     "output_type": "stream",
     "text": [
      "[2 1 2 1 3]\n"
     ]
    }
   ],
   "source": [
    "print(np.random.randint(1,4,5))"
   ]
  },
  {
   "cell_type": "code",
   "execution_count": 6,
   "id": "df70a53b",
   "metadata": {},
   "outputs": [
    {
     "name": "stdout",
     "output_type": "stream",
     "text": [
      "[[ 313 2250 1487 2599  773 2543 1162 1220]\n",
      " [ 945  258 1729 2449 1952 1374 2989 2653]\n",
      " [ 765 1608 2328 2794 2852 1473 1342 1416]\n",
      " [1176   93  760 1249 1686 2405  932 2530]\n",
      " [2628 1244  482 1044 2972  788   34 1311]\n",
      " [2790 1866  990 2002 1920 1440 1155 1108]\n",
      " [ 403 2070 1656 2252 1979   48  785 2573]]\n"
     ]
    }
   ],
   "source": [
    "print(np.random.randint(1,3000,(7,8)))"
   ]
  },
  {
   "cell_type": "code",
   "execution_count": 7,
   "id": "b91e798f",
   "metadata": {},
   "outputs": [
    {
     "name": "stdout",
     "output_type": "stream",
     "text": [
      "your OTp is:- [1349]\n",
      "please enter you otp here1349\n",
      "you are successfully logged in\n"
     ]
    }
   ],
   "source": [
    "while True:\n",
    "    otp=np.random.randint(1000,10000,1)\n",
    "    print('your OTp is:-',otp)\n",
    "    user_otp=int(input('please enter you otp here'))\n",
    "    if user_otp==otp:\n",
    "        print('you are successfully logged in')\n",
    "        break\n",
    "    else:\n",
    "        print('please enter correct OTP')\n",
    "        "
   ]
  },
  {
   "cell_type": "code",
   "execution_count": 8,
   "id": "2f208e8f",
   "metadata": {},
   "outputs": [
    {
     "name": "stdout",
     "output_type": "stream",
     "text": [
      "your OTp is:- [8913]\n",
      "please enter you otp herefgh\n",
      "OTP is integer only\n",
      "your OTp is:- [5489]\n",
      "please enter you otp here21478\n",
      "please enter correct OTP\n",
      "your OTp is:- [1844]\n",
      "please enter you otp here1844\n",
      "you are successfully logged in\n"
     ]
    }
   ],
   "source": [
    "while True:\n",
    "    try:\n",
    "        otp=np.random.randint(1000,10000,1)\n",
    "        print('your OTp is:-',otp)\n",
    "        user_otp=int(input('please enter you otp here'))\n",
    "        if user_otp==otp:\n",
    "            print('you are successfully logged in')\n",
    "            break\n",
    "        else:\n",
    "            print('please enter correct OTP')\n",
    "            continue\n",
    "    except:\n",
    "        print('OTP is integer only')"
   ]
  },
  {
   "cell_type": "code",
   "execution_count": 9,
   "id": "c759947a",
   "metadata": {},
   "outputs": [],
   "source": [
    "import numpy as np"
   ]
  },
  {
   "cell_type": "code",
   "execution_count": 10,
   "id": "7b8e8a32",
   "metadata": {},
   "outputs": [],
   "source": [
    "from numpy.random import randint as ri"
   ]
  },
  {
   "cell_type": "code",
   "execution_count": 11,
   "id": "37c2c93b",
   "metadata": {},
   "outputs": [],
   "source": [
    "a=ri(30,200,20)"
   ]
  },
  {
   "cell_type": "code",
   "execution_count": 12,
   "id": "abec5ea9",
   "metadata": {},
   "outputs": [
    {
     "name": "stdout",
     "output_type": "stream",
     "text": [
      "[ 97 140 172 154  50  83 173  89  65  78  34  73  84  73  69 161 187 170\n",
      " 109  59]\n"
     ]
    }
   ],
   "source": [
    "print(a)"
   ]
  },
  {
   "cell_type": "code",
   "execution_count": 13,
   "id": "01f544ae",
   "metadata": {},
   "outputs": [],
   "source": [
    "x=a.reshape(4,5)"
   ]
  },
  {
   "cell_type": "code",
   "execution_count": 14,
   "id": "2d0ddc4e",
   "metadata": {},
   "outputs": [
    {
     "data": {
      "text/plain": [
       "array([[ 97, 140, 172, 154,  50],\n",
       "       [ 83, 173,  89,  65,  78],\n",
       "       [ 34,  73,  84,  73,  69],\n",
       "       [161, 187, 170, 109,  59]])"
      ]
     },
     "execution_count": 14,
     "metadata": {},
     "output_type": "execute_result"
    }
   ],
   "source": [
    "x"
   ]
  },
  {
   "cell_type": "code",
   "execution_count": 15,
   "id": "d03de310",
   "metadata": {},
   "outputs": [
    {
     "name": "stdout",
     "output_type": "stream",
     "text": [
      "86.5\n"
     ]
    }
   ],
   "source": [
    "print(np.median(x))"
   ]
  },
  {
   "cell_type": "code",
   "execution_count": 16,
   "id": "ff363d51",
   "metadata": {},
   "outputs": [
    {
     "name": "stdout",
     "output_type": "stream",
     "text": [
      "34\n"
     ]
    }
   ],
   "source": [
    "print(a.min())"
   ]
  },
  {
   "cell_type": "code",
   "execution_count": 17,
   "id": "d8c0b6f3",
   "metadata": {},
   "outputs": [
    {
     "name": "stdout",
     "output_type": "stream",
     "text": [
      "187\n"
     ]
    }
   ],
   "source": [
    "print(a.max())"
   ]
  },
  {
   "cell_type": "code",
   "execution_count": 18,
   "id": "90df8595",
   "metadata": {},
   "outputs": [
    {
     "name": "stdout",
     "output_type": "stream",
     "text": [
      "34\n"
     ]
    }
   ],
   "source": [
    "print(np.min(x))"
   ]
  },
  {
   "cell_type": "code",
   "execution_count": 19,
   "id": "35e07b2c",
   "metadata": {},
   "outputs": [
    {
     "name": "stdout",
     "output_type": "stream",
     "text": [
      "187\n"
     ]
    }
   ],
   "source": [
    "print(np.max(x))"
   ]
  },
  {
   "cell_type": "code",
   "execution_count": 20,
   "id": "12c57a98",
   "metadata": {},
   "outputs": [
    {
     "name": "stdout",
     "output_type": "stream",
     "text": [
      "106.0\n"
     ]
    }
   ],
   "source": [
    "print(np.mean(a))"
   ]
  },
  {
   "cell_type": "code",
   "execution_count": 21,
   "id": "ce058766",
   "metadata": {},
   "outputs": [
    {
     "name": "stdout",
     "output_type": "stream",
     "text": [
      "106.0\n"
     ]
    }
   ],
   "source": [
    "print(a.mean())"
   ]
  },
  {
   "cell_type": "code",
   "execution_count": 22,
   "id": "00cacd5e",
   "metadata": {},
   "outputs": [
    {
     "name": "stdout",
     "output_type": "stream",
     "text": [
      "[[ 50  97 140 154 172]\n",
      " [ 65  78  83  89 173]\n",
      " [ 34  69  73  73  84]\n",
      " [ 59 109 161 170 187]]\n"
     ]
    }
   ],
   "source": [
    "print(np.sort(x))"
   ]
  },
  {
   "cell_type": "code",
   "execution_count": 23,
   "id": "a0c91854",
   "metadata": {},
   "outputs": [
    {
     "name": "stdout",
     "output_type": "stream",
     "text": [
      "[[ 34  73  84  65  50]\n",
      " [ 83 140  89  73  59]\n",
      " [ 97 173 170 109  69]\n",
      " [161 187 172 154  78]]\n"
     ]
    }
   ],
   "source": [
    "print(np.sort(x,axis=0))"
   ]
  },
  {
   "cell_type": "code",
   "execution_count": 24,
   "id": "d22d10d7",
   "metadata": {},
   "outputs": [],
   "source": [
    "q=ri(100,999,40)"
   ]
  },
  {
   "cell_type": "code",
   "execution_count": 25,
   "id": "6b13eea1",
   "metadata": {},
   "outputs": [
    {
     "name": "stdout",
     "output_type": "stream",
     "text": [
      "[748 666 778 473 810 761 144 747 821 595 297 200 280 269 129 382 932 864\n",
      " 290 826 838 112 746 588 543 206 722 984 597 449 586 334 629 105 947 149\n",
      " 538 432 717 282]\n"
     ]
    }
   ],
   "source": [
    "print(q)"
   ]
  },
  {
   "cell_type": "code",
   "execution_count": 26,
   "id": "33234a01",
   "metadata": {},
   "outputs": [],
   "source": [
    "w=q.reshape(5,8)"
   ]
  },
  {
   "cell_type": "code",
   "execution_count": 27,
   "id": "e3f141a9",
   "metadata": {},
   "outputs": [
    {
     "name": "stdout",
     "output_type": "stream",
     "text": [
      "[[748 666 778 473 810 761 144 747]\n",
      " [821 595 297 200 280 269 129 382]\n",
      " [932 864 290 826 838 112 746 588]\n",
      " [543 206 722 984 597 449 586 334]\n",
      " [629 105 947 149 538 432 717 282]]\n"
     ]
    }
   ],
   "source": [
    "print(w)"
   ]
  },
  {
   "cell_type": "code",
   "execution_count": 28,
   "id": "5a0b061c",
   "metadata": {},
   "outputs": [
    {
     "name": "stdout",
     "output_type": "stream",
     "text": [
      "[[144 473 666 747 748 761 778 810]\n",
      " [129 200 269 280 297 382 595 821]\n",
      " [112 290 588 746 826 838 864 932]\n",
      " [206 334 449 543 586 597 722 984]\n",
      " [105 149 282 432 538 629 717 947]]\n"
     ]
    }
   ],
   "source": [
    "print(np.sort(w))"
   ]
  },
  {
   "cell_type": "code",
   "execution_count": 29,
   "id": "f96945fc",
   "metadata": {},
   "outputs": [
    {
     "name": "stdout",
     "output_type": "stream",
     "text": [
      "[[543 105 290 149 280 112 129 282]\n",
      " [629 206 297 200 538 269 144 334]\n",
      " [748 595 722 473 597 432 586 382]\n",
      " [821 666 778 826 810 449 717 588]\n",
      " [932 864 947 984 838 761 746 747]]\n"
     ]
    }
   ],
   "source": [
    "print(np.sort(w,axis=0))"
   ]
  },
  {
   "cell_type": "code",
   "execution_count": 30,
   "id": "da7a2515",
   "metadata": {},
   "outputs": [],
   "source": [
    "r=np.sort(w)"
   ]
  },
  {
   "cell_type": "code",
   "execution_count": 31,
   "id": "1458e432",
   "metadata": {},
   "outputs": [
    {
     "name": "stdout",
     "output_type": "stream",
     "text": [
      "[[144 473 666 747 748 761 778 810]\n",
      " [129 200 269 280 297 382 595 821]\n",
      " [112 290 588 746 826 838 864 932]\n",
      " [206 334 449 543 586 597 722 984]\n",
      " [105 149 282 432 538 629 717 947]]\n"
     ]
    }
   ],
   "source": [
    "print(r)"
   ]
  },
  {
   "cell_type": "code",
   "execution_count": 32,
   "id": "eacd33ec",
   "metadata": {},
   "outputs": [
    {
     "name": "stdout",
     "output_type": "stream",
     "text": [
      "[[105 149 269 280 297 382 595 810]\n",
      " [112 200 282 432 538 597 717 821]\n",
      " [129 290 449 543 586 629 722 932]\n",
      " [144 334 588 746 748 761 778 947]\n",
      " [206 473 666 747 826 838 864 984]]\n"
     ]
    }
   ],
   "source": [
    "print(np.sort(r,axis=0))"
   ]
  },
  {
   "cell_type": "markdown",
   "id": "c98a4cfd",
   "metadata": {},
   "source": [
    "## numpy conditions\n"
   ]
  },
  {
   "cell_type": "code",
   "execution_count": 33,
   "id": "780dad29",
   "metadata": {},
   "outputs": [],
   "source": [
    "emp_salary=np.random.randint(10,50,10)"
   ]
  },
  {
   "cell_type": "code",
   "execution_count": 34,
   "id": "f97a5c9f",
   "metadata": {},
   "outputs": [
    {
     "name": "stdout",
     "output_type": "stream",
     "text": [
      "[47 19 33 31 14 37 22 21 16 43]\n"
     ]
    }
   ],
   "source": [
    "print(emp_salary)"
   ]
  },
  {
   "cell_type": "code",
   "execution_count": 35,
   "id": "4f76e829",
   "metadata": {},
   "outputs": [
    {
     "name": "stdout",
     "output_type": "stream",
     "text": [
      "(array([1, 4, 6, 7, 8], dtype=int64),)\n"
     ]
    }
   ],
   "source": [
    "print(np.where(emp_salary<25))"
   ]
  },
  {
   "cell_type": "code",
   "execution_count": 36,
   "id": "fb9bdfa3",
   "metadata": {},
   "outputs": [
    {
     "data": {
      "text/plain": [
       "array([19, 14, 22, 21, 16])"
      ]
     },
     "execution_count": 36,
     "metadata": {},
     "output_type": "execute_result"
    }
   ],
   "source": [
    "emp_salary[np.where(emp_salary<25)]"
   ]
  },
  {
   "cell_type": "code",
   "execution_count": 37,
   "id": "0e2c2644",
   "metadata": {},
   "outputs": [
    {
     "data": {
      "text/plain": [
       "array([47, 20, 33, 31, 20, 37, 22, 21, 20, 43])"
      ]
     },
     "execution_count": 37,
     "metadata": {},
     "output_type": "execute_result"
    }
   ],
   "source": [
    "np.clip(emp_salary,a_min=20,a_max=50)"
   ]
  },
  {
   "cell_type": "code",
   "execution_count": 38,
   "id": "99706cd9",
   "metadata": {},
   "outputs": [],
   "source": [
    "c=np.random.randint(15,80,15)"
   ]
  },
  {
   "cell_type": "code",
   "execution_count": 39,
   "id": "310c3605",
   "metadata": {},
   "outputs": [
    {
     "name": "stdout",
     "output_type": "stream",
     "text": [
      "[45 71 66 70 27 51 73 56 30 58 74 78 43 31 20]\n"
     ]
    }
   ],
   "source": [
    "print(c)"
   ]
  },
  {
   "cell_type": "code",
   "execution_count": 40,
   "id": "9eb19f9a",
   "metadata": {},
   "outputs": [
    {
     "name": "stdout",
     "output_type": "stream",
     "text": [
      "20\n"
     ]
    }
   ],
   "source": [
    "print(np.min(c))"
   ]
  },
  {
   "cell_type": "code",
   "execution_count": 41,
   "id": "3a9f772d",
   "metadata": {},
   "outputs": [
    {
     "name": "stdout",
     "output_type": "stream",
     "text": [
      "20\n"
     ]
    }
   ],
   "source": [
    "print(c.min())"
   ]
  },
  {
   "cell_type": "code",
   "execution_count": 42,
   "id": "cf396b5c",
   "metadata": {},
   "outputs": [
    {
     "name": "stdout",
     "output_type": "stream",
     "text": [
      "78\n"
     ]
    }
   ],
   "source": [
    "print(np.max(c))"
   ]
  },
  {
   "cell_type": "code",
   "execution_count": 43,
   "id": "f3fac908",
   "metadata": {},
   "outputs": [
    {
     "name": "stdout",
     "output_type": "stream",
     "text": [
      "78\n"
     ]
    }
   ],
   "source": [
    "print(c.max())"
   ]
  },
  {
   "cell_type": "code",
   "execution_count": 44,
   "id": "2f3080d5",
   "metadata": {},
   "outputs": [
    {
     "name": "stdout",
     "output_type": "stream",
     "text": [
      "(array([14], dtype=int64),)\n"
     ]
    }
   ],
   "source": [
    "print(np.where(c<25))"
   ]
  },
  {
   "cell_type": "code",
   "execution_count": 45,
   "id": "fe3f3b5e",
   "metadata": {},
   "outputs": [
    {
     "name": "stdout",
     "output_type": "stream",
     "text": [
      "(array([ 1,  2,  3,  5,  6,  7,  9, 10, 11], dtype=int64),)\n"
     ]
    }
   ],
   "source": [
    "print(np.where(c>50))"
   ]
  },
  {
   "cell_type": "code",
   "execution_count": 46,
   "id": "bd8975af",
   "metadata": {},
   "outputs": [
    {
     "data": {
      "text/plain": [
       "array([20])"
      ]
     },
     "execution_count": 46,
     "metadata": {},
     "output_type": "execute_result"
    }
   ],
   "source": [
    "c[np.where(c<25)]"
   ]
  },
  {
   "cell_type": "code",
   "execution_count": 47,
   "id": "8971e5c3",
   "metadata": {},
   "outputs": [
    {
     "data": {
      "text/plain": [
       "array([45, 50, 50, 50, 27, 50, 50, 50, 30, 50, 50, 50, 43, 31, 20])"
      ]
     },
     "execution_count": 47,
     "metadata": {},
     "output_type": "execute_result"
    }
   ],
   "source": [
    "np.clip(c,a_min=20,a_max=50)"
   ]
  },
  {
   "cell_type": "code",
   "execution_count": 48,
   "id": "63aaa9fd",
   "metadata": {},
   "outputs": [],
   "source": [
    "ar=np.arange(10,30)"
   ]
  },
  {
   "cell_type": "code",
   "execution_count": 49,
   "id": "0e51be10",
   "metadata": {},
   "outputs": [
    {
     "name": "stdout",
     "output_type": "stream",
     "text": [
      "[10 11 12 13 14 15 16 17 18 19 20 21 22 23 24 25 26 27 28 29]\n"
     ]
    }
   ],
   "source": [
    "print(ar)"
   ]
  },
  {
   "cell_type": "code",
   "execution_count": 50,
   "id": "d7668928",
   "metadata": {},
   "outputs": [
    {
     "name": "stdout",
     "output_type": "stream",
     "text": [
      "17\n"
     ]
    }
   ],
   "source": [
    "print(ar[7])"
   ]
  },
  {
   "cell_type": "code",
   "execution_count": 51,
   "id": "1b6dec07",
   "metadata": {},
   "outputs": [
    {
     "ename": "TypeError",
     "evalue": "'numpy.ndarray' object is not callable",
     "output_type": "error",
     "traceback": [
      "\u001b[1;31m---------------------------------------------------------------------------\u001b[0m",
      "\u001b[1;31mTypeError\u001b[0m                                 Traceback (most recent call last)",
      "Input \u001b[1;32mIn [51]\u001b[0m, in \u001b[0;36m<cell line: 1>\u001b[1;34m()\u001b[0m\n\u001b[1;32m----> 1\u001b[0m \u001b[38;5;28mprint\u001b[39m(\u001b[43mar\u001b[49m\u001b[43m(\u001b[49m\u001b[38;5;241;43m7\u001b[39;49m\u001b[43m)\u001b[49m)\n",
      "\u001b[1;31mTypeError\u001b[0m: 'numpy.ndarray' object is not callable"
     ]
    }
   ],
   "source": [
    "print(ar(7))"
   ]
  },
  {
   "cell_type": "code",
   "execution_count": 52,
   "id": "36e1e701",
   "metadata": {},
   "outputs": [
    {
     "name": "stdout",
     "output_type": "stream",
     "text": [
      "29\n"
     ]
    }
   ],
   "source": [
    "print(ar.max())"
   ]
  },
  {
   "cell_type": "code",
   "execution_count": 53,
   "id": "af8eccba",
   "metadata": {},
   "outputs": [
    {
     "name": "stdout",
     "output_type": "stream",
     "text": [
      "29\n"
     ]
    }
   ],
   "source": [
    "print(ar[19])"
   ]
  },
  {
   "cell_type": "code",
   "execution_count": 54,
   "id": "4fa79e16",
   "metadata": {},
   "outputs": [
    {
     "name": "stdout",
     "output_type": "stream",
     "text": [
      "[12 14 16 18 20]\n"
     ]
    }
   ],
   "source": [
    "print(ar[[2,4,6,8,10]])"
   ]
  },
  {
   "cell_type": "code",
   "execution_count": 55,
   "id": "964d9a58",
   "metadata": {},
   "outputs": [],
   "source": [
    "ad=np.arange(1,10)"
   ]
  },
  {
   "cell_type": "code",
   "execution_count": 56,
   "id": "34fd7ff0",
   "metadata": {},
   "outputs": [
    {
     "name": "stdout",
     "output_type": "stream",
     "text": [
      "[1 2 3 4 5 6 7 8 9]\n"
     ]
    }
   ],
   "source": [
    "print(ad)"
   ]
  },
  {
   "cell_type": "code",
   "execution_count": 57,
   "id": "746305b8",
   "metadata": {},
   "outputs": [
    {
     "data": {
      "text/plain": [
       "array([[1, 2, 3],\n",
       "       [4, 5, 6],\n",
       "       [7, 8, 9]])"
      ]
     },
     "execution_count": 57,
     "metadata": {},
     "output_type": "execute_result"
    }
   ],
   "source": [
    "ad.reshape(3,3)"
   ]
  },
  {
   "cell_type": "code",
   "execution_count": 58,
   "id": "749c371f",
   "metadata": {},
   "outputs": [],
   "source": [
    "q=ad.reshape(3,3)"
   ]
  },
  {
   "cell_type": "code",
   "execution_count": 59,
   "id": "aef6838a",
   "metadata": {},
   "outputs": [
    {
     "name": "stdout",
     "output_type": "stream",
     "text": [
      "[[1 2 3]\n",
      " [4 5 6]\n",
      " [7 8 9]]\n"
     ]
    }
   ],
   "source": [
    "print(q)"
   ]
  },
  {
   "cell_type": "code",
   "execution_count": 60,
   "id": "2c8f08b6",
   "metadata": {},
   "outputs": [
    {
     "data": {
      "text/plain": [
       "6"
      ]
     },
     "execution_count": 60,
     "metadata": {},
     "output_type": "execute_result"
    }
   ],
   "source": [
    "q[1][2]"
   ]
  },
  {
   "cell_type": "code",
   "execution_count": 61,
   "id": "0c8c755c",
   "metadata": {},
   "outputs": [
    {
     "data": {
      "text/plain": [
       "array([4, 5, 6])"
      ]
     },
     "execution_count": 61,
     "metadata": {},
     "output_type": "execute_result"
    }
   ],
   "source": [
    "q[1]"
   ]
  },
  {
   "cell_type": "code",
   "execution_count": 62,
   "id": "ad3cd766",
   "metadata": {},
   "outputs": [
    {
     "data": {
      "text/plain": [
       "array([[4, 5],\n",
       "       [7, 8]])"
      ]
     },
     "execution_count": 62,
     "metadata": {},
     "output_type": "execute_result"
    }
   ],
   "source": [
    "q[1:,:2]"
   ]
  },
  {
   "cell_type": "code",
   "execution_count": 63,
   "id": "7ccad2d5",
   "metadata": {},
   "outputs": [
    {
     "data": {
      "text/plain": [
       "array([[5, 6]])"
      ]
     },
     "execution_count": 63,
     "metadata": {},
     "output_type": "execute_result"
    }
   ],
   "source": [
    "q[1:2,[1,2]]"
   ]
  },
  {
   "cell_type": "code",
   "execution_count": 64,
   "id": "6a2158a2",
   "metadata": {},
   "outputs": [],
   "source": [
    "q[0,1]=35"
   ]
  },
  {
   "cell_type": "code",
   "execution_count": 65,
   "id": "36234c7e",
   "metadata": {},
   "outputs": [
    {
     "name": "stdout",
     "output_type": "stream",
     "text": [
      "[[ 1 35  3]\n",
      " [ 4  5  6]\n",
      " [ 7  8  9]]\n"
     ]
    }
   ],
   "source": [
    "print(q)"
   ]
  },
  {
   "cell_type": "code",
   "execution_count": 66,
   "id": "6d8b3922",
   "metadata": {},
   "outputs": [],
   "source": [
    "q[1,0]=100"
   ]
  },
  {
   "cell_type": "code",
   "execution_count": 67,
   "id": "32c19664",
   "metadata": {},
   "outputs": [
    {
     "name": "stdout",
     "output_type": "stream",
     "text": [
      "[[  1  35   3]\n",
      " [100   5   6]\n",
      " [  7   8   9]]\n"
     ]
    }
   ],
   "source": [
    "print(q)"
   ]
  },
  {
   "cell_type": "code",
   "execution_count": 68,
   "id": "201a5eec",
   "metadata": {},
   "outputs": [],
   "source": [
    "m=np.random.randint(10,100,15)"
   ]
  },
  {
   "cell_type": "code",
   "execution_count": 69,
   "id": "c6085f55",
   "metadata": {},
   "outputs": [
    {
     "name": "stdout",
     "output_type": "stream",
     "text": [
      "[45 87 42 97 43 55 50 24 55 52 44 65 28 19 83]\n"
     ]
    }
   ],
   "source": [
    "print(m)"
   ]
  },
  {
   "cell_type": "code",
   "execution_count": 70,
   "id": "6daac13b",
   "metadata": {},
   "outputs": [],
   "source": [
    "a=m.reshape(3,5)"
   ]
  },
  {
   "cell_type": "code",
   "execution_count": 71,
   "id": "e6f3d9fc",
   "metadata": {},
   "outputs": [
    {
     "name": "stdout",
     "output_type": "stream",
     "text": [
      "[[45 87 42 97 43]\n",
      " [55 50 24 55 52]\n",
      " [44 65 28 19 83]]\n"
     ]
    }
   ],
   "source": [
    "print(a)"
   ]
  },
  {
   "cell_type": "code",
   "execution_count": 72,
   "id": "2e12ac4a",
   "metadata": {},
   "outputs": [
    {
     "data": {
      "text/plain": [
       "array([[False,  True, False,  True, False],\n",
       "       [ True, False, False,  True,  True],\n",
       "       [False,  True, False, False,  True]])"
      ]
     },
     "execution_count": 72,
     "metadata": {},
     "output_type": "execute_result"
    }
   ],
   "source": [
    "a>50"
   ]
  },
  {
   "cell_type": "code",
   "execution_count": 73,
   "id": "1a6b9dcb",
   "metadata": {},
   "outputs": [
    {
     "data": {
      "text/plain": [
       "array([87, 97, 55, 55, 52, 65, 83])"
      ]
     },
     "execution_count": 73,
     "metadata": {},
     "output_type": "execute_result"
    }
   ],
   "source": [
    "a[a>50]"
   ]
  },
  {
   "cell_type": "code",
   "execution_count": 74,
   "id": "d0b195c1",
   "metadata": {},
   "outputs": [
    {
     "data": {
      "text/plain": [
       "array('pass', dtype='<U4')"
      ]
     },
     "execution_count": 74,
     "metadata": {},
     "output_type": "execute_result"
    }
   ],
   "source": [
    "no=100\n",
    "np.where(no>27,'pass','fail')"
   ]
  },
  {
   "cell_type": "code",
   "execution_count": 75,
   "id": "45406a1a",
   "metadata": {},
   "outputs": [],
   "source": [
    "intt=np.random.randint(-10,50,100)"
   ]
  },
  {
   "cell_type": "code",
   "execution_count": 76,
   "id": "37b46a6c",
   "metadata": {},
   "outputs": [
    {
     "name": "stdout",
     "output_type": "stream",
     "text": [
      "[  3  11  33  -9  21   4   6  38  15  39  36  23  11   9   8 -10   3  48\n",
      "   0  42  48  17  18  -2  45  23  26  15  34  41  44  32  18  -3  39   5\n",
      " -10   8  29  34  38 -10  34  -1  36  46  24  38  33  -5  11   6  31   1\n",
      "  32  22  30  26  -5  18  33  19  39  36  32  42  38  21  -3  18  37  48\n",
      "  40  38   4  37   3   9  31   3  14  -7  -3  39  32  22  23   1  17  -6\n",
      "  28  21  49  39  20   4  34  33   2   6]\n"
     ]
    }
   ],
   "source": [
    "print(intt)"
   ]
  },
  {
   "cell_type": "code",
   "execution_count": 77,
   "id": "63d8e55e",
   "metadata": {},
   "outputs": [
    {
     "data": {
      "text/plain": [
       "99"
      ]
     },
     "execution_count": 77,
     "metadata": {},
     "output_type": "execute_result"
    }
   ],
   "source": [
    "np.count_nonzero(intt)"
   ]
  },
  {
   "cell_type": "code",
   "execution_count": 78,
   "id": "f8809227",
   "metadata": {},
   "outputs": [
    {
     "data": {
      "text/plain": [
       "array([  1,  35,   3, 100,   5,   6,   7,   8,   9])"
      ]
     },
     "execution_count": 78,
     "metadata": {},
     "output_type": "execute_result"
    }
   ],
   "source": [
    "q.ravel()"
   ]
  },
  {
   "cell_type": "code",
   "execution_count": 79,
   "id": "45d99534",
   "metadata": {},
   "outputs": [],
   "source": [
    "ra=ri(0,20, size=(4,4))"
   ]
  },
  {
   "cell_type": "code",
   "execution_count": 80,
   "id": "92bf1845",
   "metadata": {},
   "outputs": [
    {
     "name": "stdout",
     "output_type": "stream",
     "text": [
      "[[17  0 11  1]\n",
      " [ 8  1 15  2]\n",
      " [12  4 12 11]\n",
      " [17 18 18 18]]\n"
     ]
    }
   ],
   "source": [
    "print(ra)"
   ]
  },
  {
   "cell_type": "code",
   "execution_count": 81,
   "id": "9d6cb587",
   "metadata": {},
   "outputs": [
    {
     "data": {
      "text/plain": [
       "array([17,  0, 11,  1,  8,  1, 15,  2, 12,  4, 12, 11, 17, 18, 18, 18])"
      ]
     },
     "execution_count": 81,
     "metadata": {},
     "output_type": "execute_result"
    }
   ],
   "source": [
    "ra.ravel()"
   ]
  },
  {
   "cell_type": "code",
   "execution_count": 82,
   "id": "912b0107",
   "metadata": {},
   "outputs": [],
   "source": [
    "m=np.arange(1,10)"
   ]
  },
  {
   "cell_type": "code",
   "execution_count": 83,
   "id": "81bee44b",
   "metadata": {},
   "outputs": [],
   "source": [
    "m1=m.reshape(3,3)"
   ]
  },
  {
   "cell_type": "code",
   "execution_count": 84,
   "id": "3cd6fef6",
   "metadata": {},
   "outputs": [
    {
     "name": "stdout",
     "output_type": "stream",
     "text": [
      "[[1 2 3]\n",
      " [4 5 6]\n",
      " [7 8 9]]\n"
     ]
    }
   ],
   "source": [
    "print(m1)"
   ]
  },
  {
   "cell_type": "code",
   "execution_count": 85,
   "id": "af804c4a",
   "metadata": {},
   "outputs": [],
   "source": [
    "n=np.arange(11,20)"
   ]
  },
  {
   "cell_type": "code",
   "execution_count": 86,
   "id": "00b240bc",
   "metadata": {},
   "outputs": [],
   "source": [
    "m2=n.reshape(3,3)"
   ]
  },
  {
   "cell_type": "code",
   "execution_count": 87,
   "id": "b6e67d30",
   "metadata": {},
   "outputs": [
    {
     "name": "stdout",
     "output_type": "stream",
     "text": [
      "[[11 12 13]\n",
      " [14 15 16]\n",
      " [17 18 19]]\n"
     ]
    }
   ],
   "source": [
    "print(m2)"
   ]
  },
  {
   "cell_type": "code",
   "execution_count": 88,
   "id": "5cb5b7ec",
   "metadata": {},
   "outputs": [
    {
     "data": {
      "text/plain": [
       "array([[ 2,  4,  6],\n",
       "       [ 8, 10, 12],\n",
       "       [14, 16, 18]])"
      ]
     },
     "execution_count": 88,
     "metadata": {},
     "output_type": "execute_result"
    }
   ],
   "source": [
    "m1+m1"
   ]
  },
  {
   "cell_type": "code",
   "execution_count": 89,
   "id": "f58a10dc",
   "metadata": {},
   "outputs": [
    {
     "data": {
      "text/plain": [
       "array([[ 11,  24,  39],\n",
       "       [ 56,  75,  96],\n",
       "       [119, 144, 171]])"
      ]
     },
     "execution_count": 89,
     "metadata": {},
     "output_type": "execute_result"
    }
   ],
   "source": [
    "m1*m2"
   ]
  },
  {
   "cell_type": "code",
   "execution_count": 90,
   "id": "ca2ff0d4",
   "metadata": {},
   "outputs": [
    {
     "data": {
      "text/plain": [
       "18"
      ]
     },
     "execution_count": 90,
     "metadata": {},
     "output_type": "execute_result"
    }
   ],
   "source": [
    "m1[1,2]+m2[0,1]"
   ]
  },
  {
   "cell_type": "code",
   "execution_count": 91,
   "id": "0c58d6a5",
   "metadata": {},
   "outputs": [
    {
     "data": {
      "text/plain": [
       "array([[1., 1., 1., 1.],\n",
       "       [1., 1., 1., 1.],\n",
       "       [1., 1., 1., 1.],\n",
       "       [1., 1., 1., 1.]])"
      ]
     },
     "execution_count": 91,
     "metadata": {},
     "output_type": "execute_result"
    }
   ],
   "source": [
    "np.ones((4,4))"
   ]
  },
  {
   "cell_type": "code",
   "execution_count": 92,
   "id": "c79b7842",
   "metadata": {},
   "outputs": [],
   "source": [
    "start=np.zeros((3,3))"
   ]
  },
  {
   "cell_type": "code",
   "execution_count": 93,
   "id": "cf85ccf2",
   "metadata": {},
   "outputs": [
    {
     "name": "stdout",
     "output_type": "stream",
     "text": [
      "[[0. 0. 0.]\n",
      " [0. 0. 0.]\n",
      " [0. 0. 0.]]\n"
     ]
    }
   ],
   "source": [
    "print(start)"
   ]
  },
  {
   "cell_type": "code",
   "execution_count": 94,
   "id": "21755b28",
   "metadata": {},
   "outputs": [],
   "source": [
    "add_rows=np.array([[1,0,2]])"
   ]
  },
  {
   "cell_type": "code",
   "execution_count": 95,
   "id": "59fc4a45",
   "metadata": {},
   "outputs": [
    {
     "name": "stdout",
     "output_type": "stream",
     "text": [
      "[[1 0 2]]\n"
     ]
    }
   ],
   "source": [
    "print(add_rows)"
   ]
  },
  {
   "cell_type": "code",
   "execution_count": 96,
   "id": "7a9622bd",
   "metadata": {},
   "outputs": [
    {
     "data": {
      "text/plain": [
       "array([[0., 0., 0.],\n",
       "       [0., 0., 0.],\n",
       "       [0., 0., 0.]])"
      ]
     },
     "execution_count": 96,
     "metadata": {},
     "output_type": "execute_result"
    }
   ],
   "source": [
    "np.array(start)"
   ]
  },
  {
   "cell_type": "code",
   "execution_count": 97,
   "id": "aa0c978a",
   "metadata": {},
   "outputs": [
    {
     "name": "stdout",
     "output_type": "stream",
     "text": [
      "[[1. 0. 2.]\n",
      " [1. 0. 2.]\n",
      " [1. 0. 2.]]\n"
     ]
    }
   ],
   "source": [
    "print(start+add_rows)"
   ]
  },
  {
   "cell_type": "code",
   "execution_count": 98,
   "id": "5321cc6e",
   "metadata": {},
   "outputs": [],
   "source": [
    " d=np.ones((3,3))"
   ]
  },
  {
   "cell_type": "code",
   "execution_count": 99,
   "id": "e34f1629",
   "metadata": {},
   "outputs": [
    {
     "name": "stdout",
     "output_type": "stream",
     "text": [
      "[[2. 1. 3.]\n",
      " [2. 1. 3.]\n",
      " [2. 1. 3.]]\n"
     ]
    }
   ],
   "source": [
    "print(d+add_rows)"
   ]
  },
  {
   "cell_type": "code",
   "execution_count": 100,
   "id": "5358cc14",
   "metadata": {},
   "outputs": [],
   "source": [
    "new_rows=add_rows.T"
   ]
  },
  {
   "cell_type": "code",
   "execution_count": 101,
   "id": "41008b52",
   "metadata": {},
   "outputs": [
    {
     "name": "stdout",
     "output_type": "stream",
     "text": [
      "[[1]\n",
      " [0]\n",
      " [2]]\n"
     ]
    }
   ],
   "source": [
    "print(new_rows)"
   ]
  },
  {
   "cell_type": "code",
   "execution_count": 102,
   "id": "bd39b26e",
   "metadata": {},
   "outputs": [],
   "source": [
    "t=start+new_rows"
   ]
  },
  {
   "cell_type": "code",
   "execution_count": 103,
   "id": "be74ba73",
   "metadata": {},
   "outputs": [
    {
     "name": "stdout",
     "output_type": "stream",
     "text": [
      "[[1. 1. 1.]\n",
      " [0. 0. 0.]\n",
      " [2. 2. 2.]]\n"
     ]
    }
   ],
   "source": [
    "print(t)"
   ]
  },
  {
   "cell_type": "code",
   "execution_count": 104,
   "id": "ca2f5d46",
   "metadata": {},
   "outputs": [],
   "source": [
    " new=np.zeros((3,4))"
   ]
  },
  {
   "cell_type": "code",
   "execution_count": 105,
   "id": "773f6cfd",
   "metadata": {},
   "outputs": [
    {
     "name": "stdout",
     "output_type": "stream",
     "text": [
      "[[0. 0. 0. 0.]\n",
      " [0. 0. 0. 0.]\n",
      " [0. 0. 0. 0.]]\n"
     ]
    }
   ],
   "source": [
    "print(new)"
   ]
  },
  {
   "cell_type": "code",
   "execution_count": 106,
   "id": "a84e6a9f",
   "metadata": {},
   "outputs": [],
   "source": [
    "row=np.array([[2,1,3]])"
   ]
  },
  {
   "cell_type": "code",
   "execution_count": 107,
   "id": "8f3c97ec",
   "metadata": {},
   "outputs": [
    {
     "name": "stdout",
     "output_type": "stream",
     "text": [
      "[[2 1 3]]\n"
     ]
    }
   ],
   "source": [
    "print(row)"
   ]
  },
  {
   "cell_type": "code",
   "execution_count": 108,
   "id": "098b9ab0",
   "metadata": {},
   "outputs": [],
   "source": [
    "column=row.T"
   ]
  },
  {
   "cell_type": "code",
   "execution_count": 109,
   "id": "123ab0f7",
   "metadata": {},
   "outputs": [
    {
     "name": "stdout",
     "output_type": "stream",
     "text": [
      "[[2]\n",
      " [1]\n",
      " [3]]\n"
     ]
    }
   ],
   "source": [
    "print(column)"
   ]
  },
  {
   "cell_type": "code",
   "execution_count": 110,
   "id": "694a5d58",
   "metadata": {},
   "outputs": [],
   "source": [
    "add=column+new"
   ]
  },
  {
   "cell_type": "code",
   "execution_count": 111,
   "id": "189ec7b2",
   "metadata": {},
   "outputs": [
    {
     "name": "stdout",
     "output_type": "stream",
     "text": [
      "[[2. 2. 2. 2.]\n",
      " [1. 1. 1. 1.]\n",
      " [3. 3. 3. 3.]]\n"
     ]
    }
   ],
   "source": [
    "print(add)"
   ]
  },
  {
   "cell_type": "code",
   "execution_count": null,
   "id": "acbc7efc",
   "metadata": {},
   "outputs": [],
   "source": []
  }
 ],
 "metadata": {
  "kernelspec": {
   "display_name": "Python 3 (ipykernel)",
   "language": "python",
   "name": "python3"
  },
  "language_info": {
   "codemirror_mode": {
    "name": "ipython",
    "version": 3
   },
   "file_extension": ".py",
   "mimetype": "text/x-python",
   "name": "python",
   "nbconvert_exporter": "python",
   "pygments_lexer": "ipython3",
   "version": "3.9.12"
  }
 },
 "nbformat": 4,
 "nbformat_minor": 5
}
