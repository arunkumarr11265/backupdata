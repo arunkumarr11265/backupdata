{
 "cells": [
  {
   "cell_type": "markdown",
   "id": "bbaff5b2",
   "metadata": {},
   "source": [
    "# functions\n"
   ]
  },
  {
   "cell_type": "code",
   "execution_count": 41,
   "id": "73b8f8e9",
   "metadata": {},
   "outputs": [],
   "source": [
    "def say_hello():\n",
    "    print('this is just an example')"
   ]
  },
  {
   "cell_type": "code",
   "execution_count": 42,
   "id": "7d6071a5",
   "metadata": {},
   "outputs": [
    {
     "name": "stdout",
     "output_type": "stream",
     "text": [
      "this is just an example\n"
     ]
    }
   ],
   "source": [
    "say_hello()"
   ]
  },
  {
   "cell_type": "code",
   "execution_count": 43,
   "id": "c38108d0",
   "metadata": {},
   "outputs": [],
   "source": [
    "def greeting(name):\n",
    "    print('hello',name)"
   ]
  },
  {
   "cell_type": "code",
   "execution_count": 44,
   "id": "15f54bf0",
   "metadata": {},
   "outputs": [
    {
     "name": "stdout",
     "output_type": "stream",
     "text": [
      "hello good morning\n"
     ]
    }
   ],
   "source": [
    "greeting('good morning')"
   ]
  },
  {
   "cell_type": "code",
   "execution_count": 45,
   "id": "e5d782ae",
   "metadata": {},
   "outputs": [],
   "source": [
    "def sal_incr(fixed_sal,house_rent):\n",
    "    total_sal=(fixed_sal+house_rent)\n",
    "    \n",
    "    if total_sal<=9000:\n",
    "        total_sal+1000\n",
    "    \n",
    "    else:\n",
    "        total_sal+500"
   ]
  },
  {
   "cell_type": "code",
   "execution_count": 46,
   "id": "adc3028b",
   "metadata": {},
   "outputs": [
    {
     "name": "stdout",
     "output_type": "stream",
     "text": [
      "your new salary- None\n"
     ]
    }
   ],
   "source": [
    "print('your new salary-',sal_incr(2000,6000))"
   ]
  },
  {
   "cell_type": "code",
   "execution_count": 47,
   "id": "6ad564e2",
   "metadata": {},
   "outputs": [],
   "source": [
    "def sal_incr(fixed_sal,house_rent):\n",
    "    total_sal=(fixed_sal+house_rent)\n",
    "    \n",
    "    if total_sal<=9000:\n",
    "        return total_sal+1000\n",
    "    \n",
    "    else:\n",
    "        return total_sal+500"
   ]
  },
  {
   "cell_type": "code",
   "execution_count": 48,
   "id": "34ba3427",
   "metadata": {},
   "outputs": [
    {
     "name": "stdout",
     "output_type": "stream",
     "text": [
      "your new salary- 10500\n"
     ]
    }
   ],
   "source": [
    "print('your new salary-',sal_incr(6000,4000))"
   ]
  },
  {
   "cell_type": "code",
   "execution_count": 95,
   "id": "2ba0de55",
   "metadata": {},
   "outputs": [],
   "source": [
    "def used_car_price(year,brand,kms):\n",
    "    if year==2020:\n",
    "        if brand=='honda_civic':\n",
    "            if 15000>kms>10000:\n",
    "                print('rs 100000 -rs 150000')\n",
    "        elif brand=='hyundai_creta':\n",
    "            if 15000>kms>10000:\n",
    "                print('rs 110000 -rs 140000')\n",
    "        elif brand=='audi_q7':\n",
    "            if 15000>kms>10000:\n",
    "                print('rs 200000 -rs 250000')\n",
    "        else:\n",
    "            print('no stock available right now, please visit after few days')\n",
    "            \n",
    "    elif year==2019:\n",
    "        if brand=='honda_civic':\n",
    "            if 15000>kms>10000:\n",
    "                print('rs 800000 -rs 1100000')\n",
    "        elif brand=='hyundai_creta':\n",
    "            if 15000>kms>10000:\n",
    "                print('rs 700000 -rs 1000000')\n",
    "        elif brand=='audi_q7':\n",
    "            if 15000>kms>10000:\n",
    "                print('rs 1800000 -rs 2100000')\n",
    "        else: print('no stock available right now, please visit after few days')\n",
    "9           \n",
    "    else:\n",
    "        print (\"sorrry, we don't have required car in stocks\")"
   ]
  },
  {
   "cell_type": "code",
   "execution_count": 99,
   "id": "c88e53bf",
   "metadata": {},
   "outputs": [
    {
     "name": "stdout",
     "output_type": "stream",
     "text": [
      "rs 100000 -rs 150000\n"
     ]
    }
   ],
   "source": [
    " \n",
    "used_car_price(2020,'honda_civic',13000)"
   ]
  },
  {
   "cell_type": "code",
   "execution_count": 97,
   "id": "2c3a1361",
   "metadata": {},
   "outputs": [
    {
     "name": "stdout",
     "output_type": "stream",
     "text": [
      "rs 1800000 -rs 2100000\n"
     ]
    }
   ],
   "source": [
    "used_car_price(2019,'audi_q7',11000)"
   ]
  },
  {
   "cell_type": "markdown",
   "id": "d18595f9",
   "metadata": {},
   "source": [
    "# lambda function"
   ]
  },
  {
   "cell_type": "code",
   "execution_count": 100,
   "id": "70affd1d",
   "metadata": {},
   "outputs": [
    {
     "data": {
      "text/plain": [
       "<function __main__.<lambda>(arguments)>"
      ]
     },
     "execution_count": 100,
     "metadata": {},
     "output_type": "execute_result"
    }
   ],
   "source": [
    "lambda arguments : expression"
   ]
  },
  {
   "cell_type": "code",
   "execution_count": 101,
   "id": "43f47738",
   "metadata": {},
   "outputs": [],
   "source": [
    "add_num=lambda y:y+70"
   ]
  },
  {
   "cell_type": "code",
   "execution_count": 102,
   "id": "0becefe0",
   "metadata": {},
   "outputs": [
    {
     "name": "stdout",
     "output_type": "stream",
     "text": [
      "100\n"
     ]
    }
   ],
   "source": [
    "print(add_num(30))"
   ]
  },
  {
   "cell_type": "code",
   "execution_count": 103,
   "id": "00c0197c",
   "metadata": {},
   "outputs": [],
   "source": [
    "num=lambda a,b:a*b"
   ]
  },
  {
   "cell_type": "code",
   "execution_count": 104,
   "id": "ba5e681d",
   "metadata": {},
   "outputs": [
    {
     "name": "stdout",
     "output_type": "stream",
     "text": [
      "3430\n"
     ]
    }
   ],
   "source": [
    "print(num(70,49))"
   ]
  },
  {
   "cell_type": "code",
   "execution_count": 109,
   "id": "08624b75",
   "metadata": {},
   "outputs": [],
   "source": [
    "f=lambda b,c:b/c"
   ]
  },
  {
   "cell_type": "code",
   "execution_count": 110,
   "id": "763c36f9",
   "metadata": {},
   "outputs": [
    {
     "name": "stdout",
     "output_type": "stream",
     "text": [
      "5.0\n"
     ]
    }
   ],
   "source": [
    "print(f(10,2))"
   ]
  },
  {
   "cell_type": "markdown",
   "id": "b98a08d3",
   "metadata": {},
   "source": [
    "## *args and **kwargs"
   ]
  },
  {
   "cell_type": "code",
   "execution_count": 111,
   "id": "4acf8923",
   "metadata": {},
   "outputs": [],
   "source": [
    "def my_fun(*args):\n",
    "    for i in args:\n",
    "        print('my args', i)"
   ]
  },
  {
   "cell_type": "code",
   "execution_count": 112,
   "id": "2d8f461a",
   "metadata": {},
   "outputs": [
    {
     "name": "stdout",
     "output_type": "stream",
     "text": [
      "my args india\n",
      "my args delhi\n",
      "my args 110059\n",
      "my args 432\n",
      "my args 18\n",
      "my args 95\n"
     ]
    }
   ],
   "source": [
    "my_fun('india','delhi',110059,432,18,95)"
   ]
  },
  {
   "cell_type": "code",
   "execution_count": 116,
   "id": "8f642a8e",
   "metadata": {},
   "outputs": [],
   "source": [
    "def my_kwargs(**kwargs):\n",
    "    for key,value in kwargs.items():\n",
    "        \n",
    "        print (key,'=',value)"
   ]
  },
  {
   "cell_type": "code",
   "execution_count": 117,
   "id": "90f54178",
   "metadata": {},
   "outputs": [
    {
     "name": "stdout",
     "output_type": "stream",
     "text": [
      "students = ['ramesh', 'shekhar']\n",
      "marks = [70, 75]\n"
     ]
    }
   ],
   "source": [
    "my_kwargs(students=['ramesh','shekhar'],marks=[70,75])"
   ]
  },
  {
   "cell_type": "markdown",
   "id": "c054207a",
   "metadata": {},
   "source": [
    "# string indexing"
   ]
  },
  {
   "cell_type": "code",
   "execution_count": 120,
   "id": "6ab2c09a",
   "metadata": {},
   "outputs": [],
   "source": [
    "s='this batch rocks'"
   ]
  },
  {
   "cell_type": "code",
   "execution_count": 122,
   "id": "b73a9d81",
   "metadata": {},
   "outputs": [
    {
     "data": {
      "text/plain": [
       "'his ba'"
      ]
     },
     "execution_count": 122,
     "metadata": {},
     "output_type": "execute_result"
    }
   ],
   "source": [
    "s[1:7]"
   ]
  },
  {
   "cell_type": "code",
   "execution_count": 123,
   "id": "d0ae6e65",
   "metadata": {},
   "outputs": [
    {
     "data": {
      "text/plain": [
       "'ti ac o'"
      ]
     },
     "execution_count": 123,
     "metadata": {},
     "output_type": "execute_result"
    }
   ],
   "source": [
    "s[0:14:2]"
   ]
  },
  {
   "cell_type": "code",
   "execution_count": 124,
   "id": "3147b0ad",
   "metadata": {},
   "outputs": [
    {
     "data": {
      "text/plain": [
       "'h t c'"
      ]
     },
     "execution_count": 124,
     "metadata": {},
     "output_type": "execute_result"
    }
   ],
   "source": [
    "s[1:15:3]"
   ]
  },
  {
   "cell_type": "markdown",
   "id": "05d34c3e",
   "metadata": {},
   "source": [
    "## map"
   ]
  },
  {
   "cell_type": "code",
   "execution_count": 126,
   "id": "b492c3c6",
   "metadata": {},
   "outputs": [],
   "source": [
    "def grace_marks(marks):\n",
    "    if marks==33:\n",
    "        return (marks+2)\n",
    "    elif marks==34:\n",
    "        return (marks+1)\n",
    "    \n",
    "    else:\n",
    "        return marks"
   ]
  },
  {
   "cell_type": "code",
   "execution_count": 127,
   "id": "047bca45",
   "metadata": {},
   "outputs": [],
   "source": [
    "score=[53,35,33,23,32,34,35]"
   ]
  },
  {
   "cell_type": "code",
   "execution_count": 128,
   "id": "603fcca9",
   "metadata": {},
   "outputs": [
    {
     "name": "stdout",
     "output_type": "stream",
     "text": [
      "[53, 35, 35, 23, 32, 35, 35]\n"
     ]
    }
   ],
   "source": [
    "total=list(map(grace_marks,score))\n",
    "\n",
    "print(total)"
   ]
  },
  {
   "cell_type": "markdown",
   "id": "2f74c957",
   "metadata": {},
   "source": [
    "## filter"
   ]
  },
  {
   "cell_type": "code",
   "execution_count": 130,
   "id": "edc34c21",
   "metadata": {},
   "outputs": [],
   "source": [
    "# filter(function,data)"
   ]
  },
  {
   "cell_type": "code",
   "execution_count": 143,
   "id": "c217265e",
   "metadata": {},
   "outputs": [],
   "source": [
    "def filter_marks(marks):\n",
    "    if marks<35:\n",
    "        return marks"
   ]
  },
  {
   "cell_type": "code",
   "execution_count": 144,
   "id": "07f71ff2",
   "metadata": {},
   "outputs": [],
   "source": [
    "-vscore=[53,35,33,23,32,34,35]"
   ]
  },
  {
   "cell_type": "code",
   "execution_count": 147,
   "id": "d528ee00",
   "metadata": {},
   "outputs": [
    {
     "ename": "SyntaxError",
     "evalue": "unexpected EOF while parsing (270030728.py, line 1)",
     "output_type": "error",
     "traceback": [
      "\u001b[1;36m  Input \u001b[1;32mIn [147]\u001b[1;36m\u001b[0m\n\u001b[1;33m    failed= list(filter(filter_marks,score)\u001b[0m\n\u001b[1;37m                                           ^\u001b[0m\n\u001b[1;31mSyntaxError\u001b[0m\u001b[1;31m:\u001b[0m unexpected EOF while parsing\n"
     ]
    }
   ],
   "source": [
    "failed= list(filter(filter_marks,score)"
   ]
  },
  {
   "cell_type": "code",
   "execution_count": 148,
   "id": "8147f026",
   "metadata": {},
   "outputs": [],
   "source": [
    "def filter_marks(marks):\n",
    "    if marks<35:\n",
    "        return marks"
   ]
  },
  {
   "cell_type": "code",
   "execution_count": 149,
   "id": "a0baab10",
   "metadata": {},
   "outputs": [],
   "source": [
    "score=[23,25,75,54,35,44,34,35,76]"
   ]
  },
  {
   "cell_type": "code",
   "execution_count": 153,
   "id": "bb4c7a60",
   "metadata": {},
   "outputs": [
    {
     "ename": "NameError",
     "evalue": "name 'filter_argument' is not defined",
     "output_type": "error",
     "traceback": [
      "\u001b[1;31m---------------------------------------------------------------------------\u001b[0m",
      "\u001b[1;31mNameError\u001b[0m                                 Traceback (most recent call last)",
      "Input \u001b[1;32mIn [153]\u001b[0m, in \u001b[0;36m<cell line: 1>\u001b[1;34m()\u001b[0m\n\u001b[1;32m----> 1\u001b[0m failed\u001b[38;5;241m=\u001b[39m\u001b[38;5;28mlist\u001b[39m(\u001b[38;5;28mfilter\u001b[39m(\u001b[43mfilter_argument\u001b[49m,score))\n\u001b[0;32m      3\u001b[0m failed\n",
      "\u001b[1;31mNameError\u001b[0m: name 'filter_argument' is not defined"
     ]
    }
   ],
   "source": [
    "failed=list(filter(filter_argument,score))\n",
    "\n",
    "failed"
   ]
  },
  {
   "cell_type": "code",
   "execution_count": 158,
   "id": "99656ba4",
   "metadata": {},
   "outputs": [],
   "source": [
    "def filter_marks(f):\n",
    "    if f<35:\n",
    "        return f"
   ]
  },
  {
   "cell_type": "code",
   "execution_count": 159,
   "id": "b05f244a",
   "metadata": {},
   "outputs": [],
   "source": [
    "score=[50,34,32,33,31,35]"
   ]
  },
  {
   "cell_type": "code",
   "execution_count": 160,
   "id": "be2e4d54",
   "metadata": {},
   "outputs": [
    {
     "ename": "TypeError",
     "evalue": "filter() takes 1 positional argument but 2 were given",
     "output_type": "error",
     "traceback": [
      "\u001b[1;31m---------------------------------------------------------------------------\u001b[0m",
      "\u001b[1;31mTypeError\u001b[0m                                 Traceback (most recent call last)",
      "Input \u001b[1;32mIn [160]\u001b[0m, in \u001b[0;36m<cell line: 1>\u001b[1;34m()\u001b[0m\n\u001b[1;32m----> 1\u001b[0m failed\u001b[38;5;241m=\u001b[39m\u001b[38;5;28mlist\u001b[39m(\u001b[38;5;28;43mfilter\u001b[39;49m\u001b[43m(\u001b[49m\u001b[43mfilter_marks\u001b[49m\u001b[43m,\u001b[49m\u001b[43mscore\u001b[49m\u001b[43m)\u001b[49m)\n\u001b[0;32m      3\u001b[0m failed\n",
      "\u001b[1;31mTypeError\u001b[0m: filter() takes 1 positional argument but 2 were given"
     ]
    }
   ],
   "source": [
    "failed=list(filter(filter_marks,score))\n",
    "\n",
    "failed"
   ]
  },
  {
   "cell_type": "markdown",
   "id": "9fb1e81d",
   "metadata": {},
   "source": [
    "### diff. between map and filter"
   ]
  },
  {
   "cell_type": "code",
   "execution_count": 161,
   "id": "c2138d5d",
   "metadata": {},
   "outputs": [
    {
     "data": {
      "text/plain": [
       "0"
      ]
     },
     "execution_count": 161,
     "metadata": {},
     "output_type": "execute_result"
    }
   ],
   "source": [
    "12381274%2"
   ]
  },
  {
   "cell_type": "code",
   "execution_count": 162,
   "id": "53687368",
   "metadata": {},
   "outputs": [
    {
     "data": {
      "text/plain": [
       "1"
      ]
     },
     "execution_count": 162,
     "metadata": {},
     "output_type": "execute_result"
    }
   ],
   "source": [
    "123781%2"
   ]
  },
  {
   "cell_type": "code",
   "execution_count": 163,
   "id": "e8245644",
   "metadata": {},
   "outputs": [
    {
     "data": {
      "text/plain": [
       "[False, True, False, True, False, True, False]"
      ]
     },
     "execution_count": 163,
     "metadata": {},
     "output_type": "execute_result"
    }
   ],
   "source": [
    "list(map(lambda var: var%2 ==0, [1,2,3,4,5,6,7]))"
   ]
  },
  {
   "cell_type": "code",
   "execution_count": 164,
   "id": "76c7bd4e",
   "metadata": {},
   "outputs": [
    {
     "ename": "TypeError",
     "evalue": "filter() takes 1 positional argument but 2 were given",
     "output_type": "error",
     "traceback": [
      "\u001b[1;31m---------------------------------------------------------------------------\u001b[0m",
      "\u001b[1;31mTypeError\u001b[0m                                 Traceback (most recent call last)",
      "Input \u001b[1;32mIn [164]\u001b[0m, in \u001b[0;36m<cell line: 1>\u001b[1;34m()\u001b[0m\n\u001b[1;32m----> 1\u001b[0m \u001b[38;5;28mlist\u001b[39m(\u001b[38;5;28;43mfilter\u001b[39;49m\u001b[43m(\u001b[49m\u001b[38;5;28;43;01mlambda\u001b[39;49;00m\u001b[43m \u001b[49m\u001b[43mvar\u001b[49m\u001b[43m:\u001b[49m\u001b[43m \u001b[49m\u001b[43mvar\u001b[49m\u001b[38;5;241;43m%\u001b[39;49m\u001b[38;5;241;43m2\u001b[39;49m\u001b[38;5;241;43m==\u001b[39;49m\u001b[38;5;241;43m0\u001b[39;49m\u001b[43m,\u001b[49m\u001b[43m[\u001b[49m\u001b[38;5;241;43m1\u001b[39;49m\u001b[43m,\u001b[49m\u001b[38;5;241;43m2\u001b[39;49m\u001b[43m,\u001b[49m\u001b[38;5;241;43m3\u001b[39;49m\u001b[43m,\u001b[49m\u001b[38;5;241;43m4\u001b[39;49m\u001b[43m,\u001b[49m\u001b[38;5;241;43m5\u001b[39;49m\u001b[43m,\u001b[49m\u001b[38;5;241;43m6\u001b[39;49m\u001b[43m,\u001b[49m\u001b[38;5;241;43m7\u001b[39;49m\u001b[43m]\u001b[49m\u001b[43m)\u001b[49m)\n",
      "\u001b[1;31mTypeError\u001b[0m: filter() takes 1 positional argument but 2 were given"
     ]
    }
   ],
   "source": [
    "list(filter(lambda var: var%2==0,[1,2,3,4,5,6,7]))"
   ]
  },
  {
   "cell_type": "code",
   "execution_count": 180,
   "id": "c0dc95f3",
   "metadata": {},
   "outputs": [
    {
     "name": "stdout",
     "output_type": "stream",
     "text": [
      "this is fantastic\n"
     ]
    }
   ],
   "source": [
    "def local_global():\n",
    "    global var12\n",
    "    var12= \"this is fantastic\"\n",
    "    print(var12)\n",
    "    \n",
    "local_global()    "
   ]
  },
  {
   "cell_type": "code",
   "execution_count": 181,
   "id": "4ca63449",
   "metadata": {},
   "outputs": [
    {
     "data": {
      "text/plain": [
       "'this is fantastic'"
      ]
     },
     "execution_count": 181,
     "metadata": {},
     "output_type": "execute_result"
    }
   ],
   "source": [
    "var12"
   ]
  },
  {
   "cell_type": "code",
   "execution_count": 182,
   "id": "2e88de22",
   "metadata": {},
   "outputs": [
    {
     "data": {
      "text/plain": [
       "'this is fantastic'"
      ]
     },
     "execution_count": 182,
     "metadata": {},
     "output_type": "execute_result"
    }
   ],
   "source": [
    "var12"
   ]
  },
  {
   "cell_type": "code",
   "execution_count": 185,
   "id": "abc5ebe9",
   "metadata": {},
   "outputs": [
    {
     "name": "stdout",
     "output_type": "stream",
     "text": [
      "this should work\n"
     ]
    }
   ],
   "source": [
    "def local_var():\n",
    "    global f1\n",
    "    f1= 'this should work'\n",
    "    print(f1)\n",
    "    \n",
    "local_var()"
   ]
  },
  {
   "cell_type": "code",
   "execution_count": 186,
   "id": "c64b2357",
   "metadata": {},
   "outputs": [
    {
     "data": {
      "text/plain": [
       "'this should work'"
      ]
     },
     "execution_count": 186,
     "metadata": {},
     "output_type": "execute_result"
    }
   ],
   "source": [
    "f1"
   ]
  },
  {
   "cell_type": "markdown",
   "id": "db1b9b5a",
   "metadata": {},
   "source": [
    "# input"
   ]
  },
  {
   "cell_type": "code",
   "execution_count": 188,
   "id": "bb8bf66b",
   "metadata": {},
   "outputs": [
    {
     "name": "stdout",
     "output_type": "stream",
     "text": [
      "gjknawijoesrg\n"
     ]
    }
   ],
   "source": [
    "name=input()"
   ]
  },
  {
   "cell_type": "code",
   "execution_count": 1,
   "id": "fe706966",
   "metadata": {},
   "outputs": [
    {
     "name": "stdout",
     "output_type": "stream",
     "text": [
      "chekoslovakiya missippi\n"
     ]
    },
    {
     "data": {
      "text/plain": [
       "('user entered', 'missippi')"
      ]
     },
     "execution_count": 1,
     "metadata": {},
     "output_type": "execute_result"
    }
   ],
   "source": [
    "name=input('chekoslovakiya ')\n",
    "\n",
    "('user entered',name)"
   ]
  },
  {
   "cell_type": "code",
   "execution_count": 192,
   "id": "46d0e721",
   "metadata": {},
   "outputs": [
    {
     "name": "stdout",
     "output_type": "stream",
     "text": [
      "enter your name Arun\n"
     ]
    },
    {
     "data": {
      "text/plain": [
       "('user entered', 'Arun')"
      ]
     },
     "execution_count": 192,
     "metadata": {},
     "output_type": "execute_result"
    }
   ],
   "source": [
    "name=input('enter your name ')\n",
    "\n",
    "('user entered', name)"
   ]
  },
  {
   "cell_type": "code",
   "execution_count": 194,
   "id": "302394e3",
   "metadata": {},
   "outputs": [
    {
     "name": "stdout",
     "output_type": "stream",
     "text": [
      "enter your maths score69\n",
      "enter your science score69\n"
     ]
    }
   ],
   "source": [
    "maths=int(input('enter your maths score'))\n",
    "science=int(input('enter your science score'))\n",
    "total_marks= maths + science\n"
   ]
  },
  {
   "cell_type": "code",
   "execution_count": 196,
   "id": "d0e976c6",
   "metadata": {},
   "outputs": [],
   "source": [
    "toal_marks= maths+science"
   ]
  },
  {
   "cell_type": "code",
   "execution_count": 197,
   "id": "e575d7a3",
   "metadata": {},
   "outputs": [
    {
     "data": {
      "text/plain": [
       "138"
      ]
     },
     "execution_count": 197,
     "metadata": {},
     "output_type": "execute_result"
    }
   ],
   "source": [
    "total_marks"
   ]
  },
  {
   "cell_type": "code",
   "execution_count": 198,
   "id": "86829e2f",
   "metadata": {},
   "outputs": [
    {
     "name": "stdout",
     "output_type": "stream",
     "text": [
      "enter your maths score50\n",
      "enter your science score50\n"
     ]
    },
    {
     "data": {
      "text/plain": [
       "('your total marks-', 100)"
      ]
     },
     "execution_count": 198,
     "metadata": {},
     "output_type": "execute_result"
    }
   ],
   "source": [
    "maths=int(input('enter your maths score'))\n",
    "science=int(input('enter your science score'))\n",
    "total_marks= maths + science\n",
    "\n",
    "('your total marks-',total_marks)"
   ]
  },
  {
   "cell_type": "code",
   "execution_count": 201,
   "id": "80286530",
   "metadata": {},
   "outputs": [
    {
     "name": "stdout",
     "output_type": "stream",
     "text": [
      "enter your name1234567\n",
      "enter alphabetical characters only\n"
     ]
    }
   ],
   "source": [
    "name=input('enter your name')\n",
    "if name.isalpha():\n",
    "    print('you entered-',name)\n",
    "else:\n",
    "    print('enter alphabetical characters only')"
   ]
  },
  {
   "cell_type": "code",
   "execution_count": 210,
   "id": "776cac05",
   "metadata": {},
   "outputs": [],
   "source": [
    "def used_car_price(year,brand,kms):\n",
    "    if year==2020:\n",
    "        if brand=='honda_civic':\n",
    "            if 15000>kms>10000:\n",
    "                print('rs 100000 -rs 150000')\n",
    "        elif brand=='hyundai_creta':\n",
    "            if 15000>kms>10000:\n",
    "                print('rs 110000 -rs 140000')\n",
    "        elif brand=='audi_q7':\n",
    "            if 15000>kms>10000:\n",
    "                print('rs 200000 -rs 250000')\n",
    "        else:\n",
    "            print('no stock available right now, please visit after few days')\n",
    "            \n",
    "    elif year==2019:\n",
    "        if brand=='honda_civic':\n",
    "            if 15000>kms>10000:\n",
    "                print('rs 800000 -rs 1100000')\n",
    "        elif brand=='hyundai_creta':\n",
    "            if 15000>kms>10000:\n",
    "                print('rs 700000 -rs 1000000')\n",
    "        elif brand=='audi_q7':\n",
    "            if 15000>kms>10000:\n",
    "                print('rs 1800000 -rs 2100000')\n",
    "        else: print('no stock available right now, please visit after few days')\n",
    "        \n",
    "    else:\n",
    "        print (\"sorrry, we don't have required car in stocks\")"
   ]
  },
  {
   "cell_type": "code",
   "execution_count": 211,
   "id": "52ff9ee9",
   "metadata": {},
   "outputs": [
    {
     "name": "stdout",
     "output_type": "stream",
     "text": [
      "enter car brand-honda_civic\n",
      "enter kilometers-14000\n",
      "enter manufacturing year-2019\n",
      "sorrry, we don't have required car in stocks\n"
     ]
    }
   ],
   "source": [
    "brand=input('enter car brand-')\n",
    "kms=input('enter kilometers-')\n",
    "year=input('enter manufacturing year-')\n",
    "\n",
    "used_car_price(year,brand,kms)"
   ]
  },
  {
   "cell_type": "code",
   "execution_count": null,
   "id": "bcd30877",
   "metadata": {},
   "outputs": [],
   "source": []
  }
 ],
 "metadata": {
  "kernelspec": {
   "display_name": "Python 3 (ipykernel)",
   "language": "python",
   "name": "python3"
  },
  "language_info": {
   "codemirror_mode": {
    "name": "ipython",
    "version": 3
   },
   "file_extension": ".py",
   "mimetype": "text/x-python",
   "name": "python",
   "nbconvert_exporter": "python",
   "pygments_lexer": "ipython3",
   "version": "3.9.12"
  }
 },
 "nbformat": 4,
 "nbformat_minor": 5
}
