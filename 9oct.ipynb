{
 "cells": [
  {
   "cell_type": "markdown",
   "id": "1d11b858",
   "metadata": {},
   "source": [
    "# Dictionary"
   ]
  },
  {
   "cell_type": "code",
   "execution_count": 93,
   "id": "9c3fc60a",
   "metadata": {},
   "outputs": [],
   "source": [
    "dictionary={'key1':'value1','key2':'value2'}"
   ]
  },
  {
   "cell_type": "code",
   "execution_count": 31,
   "id": "55e08130",
   "metadata": {},
   "outputs": [
    {
     "data": {
      "text/plain": [
       "dict"
      ]
     },
     "execution_count": 31,
     "metadata": {},
     "output_type": "execute_result"
    }
   ],
   "source": [
    "type(dictionary)"
   ]
  },
  {
   "cell_type": "code",
   "execution_count": 32,
   "id": "28f60445",
   "metadata": {},
   "outputs": [],
   "source": [
    "dictionary={'roll_no':18,'subject':['maths','science','english'],'marks':[17,18,19]}"
   ]
  },
  {
   "cell_type": "code",
   "execution_count": 33,
   "id": "ff814c19",
   "metadata": {},
   "outputs": [
    {
     "data": {
      "text/plain": [
       "{'roll_no': 18,\n",
       " 'subject': ['maths', 'science', 'english'],\n",
       " 'marks': [17, 18, 19]}"
      ]
     },
     "execution_count": 33,
     "metadata": {},
     "output_type": "execute_result"
    }
   ],
   "source": [
    "dictionary"
   ]
  },
  {
   "cell_type": "code",
   "execution_count": 34,
   "id": "24ae9051",
   "metadata": {},
   "outputs": [
    {
     "data": {
      "text/plain": [
       "[17, 18, 19]"
      ]
     },
     "execution_count": 34,
     "metadata": {},
     "output_type": "execute_result"
    }
   ],
   "source": [
    "dictionary['marks']"
   ]
  },
  {
   "cell_type": "code",
   "execution_count": 35,
   "id": "2e7b4740",
   "metadata": {},
   "outputs": [
    {
     "data": {
      "text/plain": [
       "'maths'"
      ]
     },
     "execution_count": 35,
     "metadata": {},
     "output_type": "execute_result"
    }
   ],
   "source": [
    "dictionary['subject'][0]"
   ]
  },
  {
   "cell_type": "code",
   "execution_count": 36,
   "id": "83d17e05",
   "metadata": {},
   "outputs": [],
   "source": [
    "dictionary['subject'][0]=dictionary['subject'][0]"
   ]
  },
  {
   "cell_type": "code",
   "execution_count": 37,
   "id": "0b8f10e2",
   "metadata": {},
   "outputs": [],
   "source": [
    "dictionary['marks'][2]=dictionary['marks'][2]+1"
   ]
  },
  {
   "cell_type": "code",
   "execution_count": 38,
   "id": "8ade357d",
   "metadata": {},
   "outputs": [
    {
     "data": {
      "text/plain": [
       "[17, 18, 20]"
      ]
     },
     "execution_count": 38,
     "metadata": {},
     "output_type": "execute_result"
    }
   ],
   "source": [
    "dictionary['marks']"
   ]
  },
  {
   "cell_type": "code",
   "execution_count": 39,
   "id": "8423eed8",
   "metadata": {},
   "outputs": [],
   "source": [
    "dictionary['marks'][0]=dictionary['marks'][0]+1"
   ]
  },
  {
   "cell_type": "code",
   "execution_count": 40,
   "id": "71101ba0",
   "metadata": {},
   "outputs": [],
   "source": [
    "dictionary['marks'][1]=dictionary['marks'][1]+1"
   ]
  },
  {
   "cell_type": "code",
   "execution_count": 41,
   "id": "fc3c1589",
   "metadata": {},
   "outputs": [
    {
     "data": {
      "text/plain": [
       "[18, 19, 20]"
      ]
     },
     "execution_count": 41,
     "metadata": {},
     "output_type": "execute_result"
    }
   ],
   "source": [
    "dictionary['marks']"
   ]
  },
  {
   "cell_type": "code",
   "execution_count": 42,
   "id": "f739b230",
   "metadata": {},
   "outputs": [
    {
     "data": {
      "text/plain": [
       "38"
      ]
     },
     "execution_count": 42,
     "metadata": {},
     "output_type": "execute_result"
    }
   ],
   "source": [
    "dictionary['marks'][1]*2"
   ]
  },
  {
   "cell_type": "code",
   "execution_count": 43,
   "id": "c31b0722",
   "metadata": {},
   "outputs": [
    {
     "data": {
      "text/plain": [
       "[18, 19, 20]"
      ]
     },
     "execution_count": 43,
     "metadata": {},
     "output_type": "execute_result"
    }
   ],
   "source": [
    "dictionary['marks']"
   ]
  },
  {
   "cell_type": "code",
   "execution_count": 44,
   "id": "c6c5bb36",
   "metadata": {},
   "outputs": [
    {
     "data": {
      "text/plain": [
       "20"
      ]
     },
     "execution_count": 44,
     "metadata": {},
     "output_type": "execute_result"
    }
   ],
   "source": [
    "dictionary['marks'][1]+1"
   ]
  },
  {
   "cell_type": "code",
   "execution_count": 45,
   "id": "4afd70e5",
   "metadata": {},
   "outputs": [
    {
     "data": {
      "text/plain": [
       "[18, 19, 20]"
      ]
     },
     "execution_count": 45,
     "metadata": {},
     "output_type": "execute_result"
    }
   ],
   "source": [
    "dictionary['marks']"
   ]
  },
  {
   "cell_type": "code",
   "execution_count": 46,
   "id": "15cedaa8",
   "metadata": {},
   "outputs": [],
   "source": [
    "dictionary['marks'][0]+=1"
   ]
  },
  {
   "cell_type": "code",
   "execution_count": 47,
   "id": "1783552e",
   "metadata": {},
   "outputs": [
    {
     "data": {
      "text/plain": [
       "[19, 19, 20]"
      ]
     },
     "execution_count": 47,
     "metadata": {},
     "output_type": "execute_result"
    }
   ],
   "source": [
    "dictionary['marks']"
   ]
  },
  {
   "cell_type": "code",
   "execution_count": 48,
   "id": "03b47b7d",
   "metadata": {},
   "outputs": [],
   "source": [
    "dictionary['marks'][0]-=1"
   ]
  },
  {
   "cell_type": "code",
   "execution_count": 49,
   "id": "f8a1d943",
   "metadata": {},
   "outputs": [
    {
     "data": {
      "text/plain": [
       "[18, 19, 20]"
      ]
     },
     "execution_count": 49,
     "metadata": {},
     "output_type": "execute_result"
    }
   ],
   "source": [
    "dictionary['marks']"
   ]
  },
  {
   "cell_type": "code",
   "execution_count": 50,
   "id": "09a4af7f",
   "metadata": {},
   "outputs": [],
   "source": [
    "dictionary['year']='3rd'"
   ]
  },
  {
   "cell_type": "code",
   "execution_count": 51,
   "id": "809c58dc",
   "metadata": {},
   "outputs": [
    {
     "data": {
      "text/plain": [
       "{'roll_no': 18,\n",
       " 'subject': ['maths', 'science', 'english'],\n",
       " 'marks': [18, 19, 20],\n",
       " 'year': '3rd'}"
      ]
     },
     "execution_count": 51,
     "metadata": {},
     "output_type": "execute_result"
    }
   ],
   "source": [
    "dictionary"
   ]
  },
  {
   "cell_type": "code",
   "execution_count": 52,
   "id": "9e9d1d6d",
   "metadata": {},
   "outputs": [],
   "source": [
    "dictionary.update({'year':'4th'})"
   ]
  },
  {
   "cell_type": "code",
   "execution_count": 53,
   "id": "51f53379",
   "metadata": {},
   "outputs": [
    {
     "data": {
      "text/plain": [
       "{'roll_no': 18,\n",
       " 'subject': ['maths', 'science', 'english'],\n",
       " 'marks': [18, 19, 20],\n",
       " 'year': '4th'}"
      ]
     },
     "execution_count": 53,
     "metadata": {},
     "output_type": "execute_result"
    }
   ],
   "source": [
    "dictionary"
   ]
  },
  {
   "cell_type": "code",
   "execution_count": 54,
   "id": "6cebc542",
   "metadata": {},
   "outputs": [],
   "source": [
    "dictionary['year']='3rd'"
   ]
  },
  {
   "cell_type": "code",
   "execution_count": 55,
   "id": "ad9fe482",
   "metadata": {},
   "outputs": [
    {
     "data": {
      "text/plain": [
       "{'roll_no': 18,\n",
       " 'subject': ['maths', 'science', 'english'],\n",
       " 'marks': [18, 19, 20],\n",
       " 'year': '3rd'}"
      ]
     },
     "execution_count": 55,
     "metadata": {},
     "output_type": "execute_result"
    }
   ],
   "source": [
    "dictionary"
   ]
  },
  {
   "cell_type": "code",
   "execution_count": 56,
   "id": "dfdd274b",
   "metadata": {},
   "outputs": [
    {
     "data": {
      "text/plain": [
       "dict_keys(['roll_no', 'subject', 'marks', 'year'])"
      ]
     },
     "execution_count": 56,
     "metadata": {},
     "output_type": "execute_result"
    }
   ],
   "source": [
    "dictionary.keys()"
   ]
  },
  {
   "cell_type": "code",
   "execution_count": 57,
   "id": "745bfdcf",
   "metadata": {},
   "outputs": [
    {
     "data": {
      "text/plain": [
       "dict_values([18, ['maths', 'science', 'english'], [18, 19, 20], '3rd'])"
      ]
     },
     "execution_count": 57,
     "metadata": {},
     "output_type": "execute_result"
    }
   ],
   "source": [
    "dictionary.values()"
   ]
  },
  {
   "cell_type": "code",
   "execution_count": 58,
   "id": "4bb93ae1",
   "metadata": {},
   "outputs": [
    {
     "data": {
      "text/plain": [
       "dict_items([('roll_no', 18), ('subject', ['maths', 'science', 'english']), ('marks', [18, 19, 20]), ('year', '3rd')])"
      ]
     },
     "execution_count": 58,
     "metadata": {},
     "output_type": "execute_result"
    }
   ],
   "source": [
    "dictionary.items()"
   ]
  },
  {
   "cell_type": "code",
   "execution_count": 59,
   "id": "fd367e43",
   "metadata": {},
   "outputs": [
    {
     "data": {
      "text/plain": [
       "{'roll_no': 18,\n",
       " 'subject': ['maths', 'science', 'english'],\n",
       " 'marks': [18, 19, 20],\n",
       " 'year': '3rd'}"
      ]
     },
     "execution_count": 59,
     "metadata": {},
     "output_type": "execute_result"
    }
   ],
   "source": [
    "dictionary"
   ]
  },
  {
   "cell_type": "markdown",
   "id": "f1806c43",
   "metadata": {},
   "source": [
    "# Else, If ,Elif"
   ]
  },
  {
   "cell_type": "code",
   "execution_count": 65,
   "id": "8d1f6ffb",
   "metadata": {},
   "outputs": [
    {
     "name": "stdout",
     "output_type": "stream",
     "text": [
      "it is less than 10\n"
     ]
    }
   ],
   "source": [
    "i=9\n",
    "\n",
    "\n",
    "if i<10:\n",
    "    print('it is less than 10')\n",
    "    \n",
    "else: \n",
    "    print('something else')"
   ]
  },
  {
   "cell_type": "code",
   "execution_count": 68,
   "id": "5593ca25",
   "metadata": {},
   "outputs": [
    {
     "name": "stdout",
     "output_type": "stream",
     "text": [
      "it is less than 10\n"
     ]
    }
   ],
   "source": [
    "print('it is less than 10') if i<10 else print('it is something else')"
   ]
  },
  {
   "cell_type": "code",
   "execution_count": 72,
   "id": "487628e1",
   "metadata": {},
   "outputs": [],
   "source": [
    "a=80"
   ]
  },
  {
   "cell_type": "code",
   "execution_count": 73,
   "id": "19e92baa",
   "metadata": {},
   "outputs": [
    {
     "name": "stdout",
     "output_type": "stream",
     "text": [
      "it is something else\n"
     ]
    }
   ],
   "source": [
    "print('it is less than 20') if a<20 else print('it is something else')"
   ]
  },
  {
   "cell_type": "code",
   "execution_count": 76,
   "id": "d3d90681",
   "metadata": {},
   "outputs": [
    {
     "name": "stdout",
     "output_type": "stream",
     "text": [
      "it is less than 50\n"
     ]
    }
   ],
   "source": [
    "k=18\n",
    "\n",
    "if k>50:\n",
    "    print('it is greater than 50')\n",
    "    \n",
    "else:\n",
    "    print('it is less than 50')"
   ]
  },
  {
   "cell_type": "code",
   "execution_count": 77,
   "id": "b7ade2e7",
   "metadata": {},
   "outputs": [
    {
     "name": "stdout",
     "output_type": "stream",
     "text": [
      "please add 100 rs worth item to get free shipping\n"
     ]
    }
   ],
   "source": [
    "item1=500\n",
    "item2=400\n",
    "\n",
    "if (item1+item2)>=1000:\n",
    "    print('your order is eligible for free shipping')\n",
    "\n",
    "else:\n",
    "    extra=1000-(item1+item2)\n",
    "    print('please add', extra,'rs worth item to get free shipping')"
   ]
  },
  {
   "cell_type": "code",
   "execution_count": 79,
   "id": "22010cc9",
   "metadata": {},
   "outputs": [
    {
     "name": "stdout",
     "output_type": "stream",
     "text": [
      "please add 630 rs worth items to avail free shipping\n"
     ]
    }
   ],
   "source": [
    "item1=70\n",
    "item2=500\n",
    "\n",
    "if(item1+item2)>=1200:\n",
    "    print('your item is eligible for free shipping')\n",
    "    \n",
    "else:\n",
    "    more=1200-(item1+item2)\n",
    "    print('please add',more,'rs worth items to avail free shipping')"
   ]
  },
  {
   "cell_type": "code",
   "execution_count": 80,
   "id": "ef94cde3",
   "metadata": {},
   "outputs": [
    {
     "name": "stdout",
     "output_type": "stream",
     "text": [
      "both conditions are false\n"
     ]
    }
   ],
   "source": [
    "a=20\n",
    "b=30\n",
    "c=50\n",
    "\n",
    "if a>b and c<b:\n",
    "    print('both the conditions are true')\n",
    "else:\n",
    "    print('both conditions are false')"
   ]
  },
  {
   "cell_type": "code",
   "execution_count": 82,
   "id": "e311d5d3",
   "metadata": {},
   "outputs": [
    {
     "name": "stdout",
     "output_type": "stream",
     "text": [
      "both the conditions are true\n"
     ]
    }
   ],
   "source": [
    "a=20\n",
    "b=30\n",
    "c=50\n",
    "\n",
    "if a<b or c<b:\n",
    "    print('both the conditions are true')\n",
    "else:\n",
    "    print('both conditions are false')"
   ]
  },
  {
   "cell_type": "code",
   "execution_count": 92,
   "id": "31a7af3b",
   "metadata": {},
   "outputs": [
    {
     "name": "stdout",
     "output_type": "stream",
     "text": [
      "30 -fail, study\n"
     ]
    }
   ],
   "source": [
    "marks=30\n",
    "\n",
    "if marks>=60:\n",
    "    if marks>70:\n",
    "        print(marks,'-distinction')\n",
    "    else:\n",
    "        print(marks,'-first class')\n",
    "        \n",
    "elif marks>50 and marks<60:\n",
    "    print(marks,'-second class')\n",
    "      \n",
    "elif marks>=35:\n",
    "    print(marks,'-pass')\n",
    "    \n",
    "else:\n",
    "    print(marks,'-fail, study')"
   ]
  },
  {
   "cell_type": "markdown",
   "id": "336f1f5c",
   "metadata": {},
   "source": [
    "# Range"
   ]
  },
  {
   "cell_type": "code",
   "execution_count": 94,
   "id": "0362acb1",
   "metadata": {},
   "outputs": [
    {
     "name": "stdout",
     "output_type": "stream",
     "text": [
      "range(0, 324923355024)\n"
     ]
    }
   ],
   "source": [
    "print(range(324923355024))"
   ]
  },
  {
   "cell_type": "code",
   "execution_count": 96,
   "id": "1b87997f",
   "metadata": {},
   "outputs": [
    {
     "name": "stdout",
     "output_type": "stream",
     "text": [
      "[0, 1, 2, 3, 4, 5, 6, 7, 8, 9, 10, 11, 12, 13, 14, 15, 16, 17, 18, 19, 20, 21, 22, 23, 24, 25, 26, 27, 28, 29, 30, 31, 32, 33, 34, 35, 36, 37, 38, 39, 40, 41, 42, 43, 44, 45, 46, 47, 48, 49, 50, 51, 52, 53, 54, 55, 56, 57, 58, 59, 60, 61, 62, 63, 64, 65, 66, 67, 68, 69, 70, 71, 72, 73, 74, 75, 76, 77, 78, 79, 80, 81, 82, 83, 84, 85, 86, 87, 88, 89, 90, 91, 92, 93, 94, 95, 96, 97, 98, 99, 100, 101, 102, 103, 104, 105, 106, 107, 108, 109, 110, 111, 112, 113, 114, 115, 116, 117, 118, 119, 120, 121, 122, 123, 124, 125, 126, 127, 128, 129, 130, 131, 132, 133, 134, 135, 136, 137, 138, 139, 140, 141, 142, 143, 144, 145, 146, 147, 148, 149, 150, 151, 152, 153, 154, 155, 156, 157, 158, 159, 160, 161, 162, 163, 164, 165, 166, 167, 168, 169, 170, 171, 172, 173, 174, 175, 176, 177, 178, 179, 180, 181, 182, 183, 184, 185, 186, 187, 188, 189, 190, 191, 192, 193, 194, 195, 196, 197, 198, 199, 200, 201, 202, 203, 204, 205, 206, 207, 208, 209, 210, 211, 212, 213, 214, 215, 216, 217, 218, 219, 220, 221, 222, 223, 224, 225, 226, 227, 228, 229, 230, 231, 232, 233, 234, 235, 236, 237, 238, 239, 240, 241, 242, 243, 244, 245, 246, 247, 248, 249, 250, 251, 252, 253, 254, 255, 256, 257, 258, 259, 260, 261, 262, 263, 264, 265, 266, 267, 268, 269, 270, 271, 272, 273, 274, 275, 276, 277, 278, 279, 280, 281, 282, 283, 284, 285, 286, 287, 288, 289, 290, 291, 292, 293, 294, 295, 296, 297, 298, 299, 300, 301, 302, 303, 304, 305, 306, 307, 308, 309, 310, 311, 312, 313, 314, 315, 316, 317, 318, 319, 320, 321, 322, 323, 324, 325, 326, 327, 328, 329, 330, 331, 332, 333, 334, 335, 336, 337, 338, 339, 340, 341, 342, 343, 344, 345, 346, 347, 348, 349, 350, 351, 352, 353, 354, 355, 356, 357, 358, 359, 360, 361, 362, 363, 364, 365, 366, 367, 368, 369, 370, 371, 372, 373, 374, 375, 376, 377, 378, 379, 380, 381, 382, 383, 384, 385, 386, 387, 388, 389, 390, 391, 392, 393, 394, 395, 396, 397, 398, 399, 400, 401, 402, 403, 404, 405, 406, 407, 408, 409, 410, 411, 412, 413, 414, 415, 416, 417, 418, 419, 420, 421, 422, 423, 424, 425, 426, 427, 428, 429, 430, 431, 432, 433, 434, 435, 436, 437, 438, 439, 440, 441, 442, 443, 444, 445, 446, 447, 448, 449, 450, 451, 452, 453, 454, 455, 456, 457, 458, 459, 460, 461, 462, 463, 464, 465, 466, 467, 468, 469, 470, 471, 472, 473, 474, 475, 476, 477, 478, 479, 480, 481, 482, 483, 484, 485, 486, 487, 488, 489, 490, 491, 492, 493, 494, 495, 496, 497, 498, 499, 500, 501, 502, 503, 504, 505, 506, 507, 508, 509, 510, 511, 512, 513, 514, 515, 516, 517, 518, 519, 520, 521, 522, 523, 524, 525, 526, 527, 528, 529, 530, 531, 532, 533, 534, 535, 536, 537, 538, 539, 540, 541, 542, 543, 544, 545, 546, 547, 548, 549, 550, 551, 552, 553, 554, 555, 556, 557, 558, 559, 560, 561, 562, 563, 564, 565, 566, 567, 568, 569, 570, 571, 572, 573, 574, 575, 576, 577, 578, 579, 580, 581, 582, 583, 584, 585, 586, 587, 588, 589, 590, 591, 592, 593, 594, 595, 596, 597, 598, 599, 600, 601, 602, 603, 604, 605, 606, 607, 608, 609, 610, 611, 612, 613, 614, 615, 616, 617, 618, 619, 620, 621, 622, 623, 624, 625, 626, 627, 628, 629, 630, 631, 632, 633, 634, 635, 636, 637, 638, 639, 640, 641, 642, 643, 644, 645, 646, 647, 648, 649, 650, 651, 652, 653, 654, 655, 656, 657, 658, 659, 660, 661, 662, 663, 664, 665, 666, 667, 668, 669, 670, 671, 672, 673, 674, 675, 676, 677, 678, 679, 680, 681, 682, 683, 684, 685, 686, 687, 688, 689, 690, 691, 692, 693, 694, 695, 696, 697, 698, 699, 700, 701, 702, 703, 704, 705, 706, 707, 708, 709, 710, 711, 712, 713, 714, 715, 716, 717, 718, 719, 720, 721, 722, 723, 724, 725, 726, 727, 728, 729, 730, 731, 732, 733, 734, 735, 736, 737, 738, 739, 740, 741, 742, 743, 744, 745, 746, 747, 748, 749, 750, 751, 752, 753, 754, 755, 756, 757, 758, 759, 760, 761, 762, 763, 764, 765, 766, 767, 768, 769, 770, 771, 772, 773, 774, 775, 776, 777, 778, 779, 780, 781, 782, 783, 784, 785, 786, 787, 788, 789, 790, 791, 792, 793, 794, 795, 796, 797, 798, 799, 800, 801, 802, 803, 804, 805, 806, 807, 808, 809, 810, 811, 812, 813, 814, 815, 816, 817, 818, 819, 820, 821, 822, 823, 824, 825, 826, 827, 828, 829, 830, 831, 832, 833, 834, 835, 836, 837, 838, 839, 840, 841, 842, 843, 844, 845, 846, 847, 848, 849, 850, 851, 852, 853, 854, 855, 856, 857, 858, 859, 860, 861, 862, 863, 864, 865, 866, 867, 868, 869, 870, 871, 872, 873, 874, 875, 876, 877, 878, 879, 880, 881, 882, 883, 884, 885, 886, 887, 888, 889]\n"
     ]
    }
   ],
   "source": [
    "print(list(range(890)))"
   ]
  },
  {
   "cell_type": "code",
   "execution_count": 99,
   "id": "c6078b36",
   "metadata": {},
   "outputs": [
    {
     "name": "stderr",
     "output_type": "stream",
     "text": [
      "IOPub data rate exceeded.\n",
      "The notebook server will temporarily stop sending output\n",
      "to the client in order to avoid crashing it.\n",
      "To change this limit, set the config variable\n",
      "`--NotebookApp.iopub_data_rate_limit`.\n",
      "\n",
      "Current values:\n",
      "NotebookApp.iopub_data_rate_limit=1000000.0 (bytes/sec)\n",
      "NotebookApp.rate_limit_window=3.0 (secs)\n",
      "\n"
     ]
    }
   ],
   "source": [
    "print(list(range(1234567)))"
   ]
  },
  {
   "cell_type": "code",
   "execution_count": 109,
   "id": "ce467b16",
   "metadata": {},
   "outputs": [],
   "source": [
    "step_size =list(range(1,30,2))"
   ]
  },
  {
   "cell_type": "code",
   "execution_count": 110,
   "id": "d63b4dbb",
   "metadata": {},
   "outputs": [
    {
     "data": {
      "text/plain": [
       "[1, 3, 5, 7, 9, 11, 13, 15, 17, 19, 21, 23, 25, 27, 29]"
      ]
     },
     "execution_count": 110,
     "metadata": {},
     "output_type": "execute_result"
    }
   ],
   "source": [
    "step_size"
   ]
  },
  {
   "cell_type": "code",
   "execution_count": 111,
   "id": "3dbbb10a",
   "metadata": {},
   "outputs": [],
   "source": [
    "step_size=list(range(1,30,3))"
   ]
  },
  {
   "cell_type": "code",
   "execution_count": 112,
   "id": "fea7a176",
   "metadata": {},
   "outputs": [
    {
     "name": "stdout",
     "output_type": "stream",
     "text": [
      "[1, 4, 7, 10, 13, 16, 19, 22, 25, 28]\n"
     ]
    }
   ],
   "source": [
    "print(step_size)"
   ]
  },
  {
   "cell_type": "code",
   "execution_count": 115,
   "id": "5475241f",
   "metadata": {},
   "outputs": [],
   "source": [
    "step_size.reverse()"
   ]
  },
  {
   "cell_type": "code",
   "execution_count": 116,
   "id": "9171d13e",
   "metadata": {},
   "outputs": [
    {
     "data": {
      "text/plain": [
       "[28, 25, 22, 19, 16, 13, 10, 7, 4, 1]"
      ]
     },
     "execution_count": 116,
     "metadata": {},
     "output_type": "execute_result"
    }
   ],
   "source": [
    "step_size"
   ]
  },
  {
   "cell_type": "code",
   "execution_count": 120,
   "id": "2223d549",
   "metadata": {},
   "outputs": [],
   "source": [
    "reverse=list(range(30,1,-2))"
   ]
  },
  {
   "cell_type": "code",
   "execution_count": 121,
   "id": "09e33ff9",
   "metadata": {},
   "outputs": [
    {
     "data": {
      "text/plain": [
       "[30, 28, 26, 24, 22, 20, 18, 16, 14, 12, 10, 8, 6, 4, 2]"
      ]
     },
     "execution_count": 121,
     "metadata": {},
     "output_type": "execute_result"
    }
   ],
   "source": [
    "reverse"
   ]
  },
  {
   "cell_type": "code",
   "execution_count": 128,
   "id": "97670078",
   "metadata": {},
   "outputs": [],
   "source": [
    " salary=[10000,15000,20000,25000,30000,35000,40000,45000,50000,55000]"
   ]
  },
  {
   "cell_type": "markdown",
   "id": "22c84fd4",
   "metadata": {},
   "source": [
    "# for loop\n"
   ]
  },
  {
   "cell_type": "code",
   "execution_count": 129,
   "id": "f6e27de4",
   "metadata": {},
   "outputs": [
    {
     "data": {
      "text/plain": [
       "[10000, 15000, 20000, 25000, 30000, 35000, 40000, 45000, 50000, 55000]"
      ]
     },
     "execution_count": 129,
     "metadata": {},
     "output_type": "execute_result"
    }
   ],
   "source": [
    "salary"
   ]
  },
  {
   "cell_type": "code",
   "execution_count": 130,
   "id": "16c056f8",
   "metadata": {},
   "outputs": [
    {
     "name": "stdout",
     "output_type": "stream",
     "text": [
      "30000\n",
      "35000\n",
      "40000\n",
      "45000\n",
      "50000\n",
      "55000\n"
     ]
    }
   ],
   "source": [
    "\n",
    "\n",
    "for val in salary:\n",
    "    if val>=30000:\n",
    "        print(val)\n",
    "        \n",
    "      "
   ]
  },
  {
   "cell_type": "code",
   "execution_count": 131,
   "id": "82ab5fc9",
   "metadata": {},
   "outputs": [
    {
     "data": {
      "text/plain": [
       "9"
      ]
     },
     "execution_count": 131,
     "metadata": {},
     "output_type": "execute_result"
    }
   ],
   "source": [
    "salary.index(55000)"
   ]
  },
  {
   "cell_type": "code",
   "execution_count": 132,
   "id": "ebc3703e",
   "metadata": {},
   "outputs": [],
   "source": [
    "salary.reverse()"
   ]
  },
  {
   "cell_type": "code",
   "execution_count": 133,
   "id": "581bc87b",
   "metadata": {},
   "outputs": [
    {
     "data": {
      "text/plain": [
       "[55000, 50000, 45000, 40000, 35000, 30000, 25000, 20000, 15000, 10000]"
      ]
     },
     "execution_count": 133,
     "metadata": {},
     "output_type": "execute_result"
    }
   ],
   "source": [
    "salary"
   ]
  },
  {
   "cell_type": "code",
   "execution_count": 134,
   "id": "7d44e66b",
   "metadata": {},
   "outputs": [],
   "source": [
    "salary.sort()"
   ]
  },
  {
   "cell_type": "code",
   "execution_count": 135,
   "id": "f9bd6ddd",
   "metadata": {},
   "outputs": [
    {
     "data": {
      "text/plain": [
       "[10000, 15000, 20000, 25000, 30000, 35000, 40000, 45000, 50000, 55000]"
      ]
     },
     "execution_count": 135,
     "metadata": {},
     "output_type": "execute_result"
    }
   ],
   "source": [
    "salary"
   ]
  },
  {
   "cell_type": "code",
   "execution_count": 136,
   "id": "b1416b75",
   "metadata": {},
   "outputs": [],
   "source": [
    "salary.reverse()"
   ]
  },
  {
   "cell_type": "code",
   "execution_count": 146,
   "id": "20e15a96",
   "metadata": {},
   "outputs": [
    {
     "data": {
      "text/plain": [
       "[55000, 50000, 45000, 40000, 35000, 30000, 25000, 20000, 15000, 10000]"
      ]
     },
     "execution_count": 146,
     "metadata": {},
     "output_type": "execute_result"
    }
   ],
   "source": [
    "salary"
   ]
  },
  {
   "cell_type": "code",
   "execution_count": 148,
   "id": "d662a8ea",
   "metadata": {},
   "outputs": [],
   "source": [
    "student_marks=[40,94,83,23,95,80,69,59,45,51,95,95,50,29,91,59,39,78]"
   ]
  },
  {
   "cell_type": "code",
   "execution_count": 150,
   "id": "7d6bc4e2",
   "metadata": {},
   "outputs": [
    {
     "ename": "TypeError",
     "evalue": "'int' object is not iterable",
     "output_type": "error",
     "traceback": [
      "\u001b[1;31m---------------------------------------------------------------------------\u001b[0m",
      "\u001b[1;31mTypeError\u001b[0m                                 Traceback (most recent call last)",
      "Input \u001b[1;32mIn [150]\u001b[0m, in \u001b[0;36m<cell line: 1>\u001b[1;34m()\u001b[0m\n\u001b[1;32m----> 1\u001b[0m \u001b[38;5;28;01mfor\u001b[39;00m marks \u001b[38;5;129;01min\u001b[39;00m student_marks:\n\u001b[0;32m      3\u001b[0m     \u001b[38;5;28;01mif\u001b[39;00m marks\u001b[38;5;241m>\u001b[39m\u001b[38;5;241m=\u001b[39m\u001b[38;5;241m70\u001b[39m:\n\u001b[0;32m      4\u001b[0m         \u001b[38;5;28mprint\u001b[39m(marks,\u001b[38;5;124m'\u001b[39m\u001b[38;5;124m-distinction\u001b[39m\u001b[38;5;124m'\u001b[39m)\n",
      "\u001b[1;31mTypeError\u001b[0m: 'int' object is not iterable"
     ]
    }
   ],
   "source": [
    "for marks in student_marks:\n",
    "    \n",
    "    if marks>=70:\n",
    "        print(marks,'-distinction')\n",
    "        \n",
    "    elif marks>60 and marks<70:\n",
    "        print(marks,'-fisrt class')\n",
    "        \n",
    "    elif marks>50 and marks<60:\n",
    "        print(marks,'-second class')\n",
    "        \n",
    "    elif marks>35 and marks<50:\n",
    "        print(marks,'-pass')\n",
    "        \n",
    "    elif marks<35:\n",
    "        print(marks,'fail, study!')"
   ]
  },
  {
   "cell_type": "code",
   "execution_count": 151,
   "id": "cce52b56",
   "metadata": {},
   "outputs": [
    {
     "name": "stdout",
     "output_type": "stream",
     "text": [
      "40 -pass\n",
      "94 -distinction\n",
      "83 -distinction\n",
      "23 fail, study!\n",
      "95 -distinction\n",
      "80 -distinction\n",
      "69 -fisrt class\n",
      "59 -second class\n",
      "45 -pass\n",
      "51 -second class\n",
      "95 -distinction\n",
      "95 -distinction\n",
      "29 fail, study!\n",
      "91 -distinction\n",
      "59 -second class\n",
      "39 -pass\n",
      "78 -distinction\n"
     ]
    }
   ],
   "source": [
    "student_marks=[40,94,83,23,95,80,69,59,45,51,95,95,50,29,91,59,39,78]\n",
    "\n",
    "for marks in student_marks:\n",
    "    \n",
    "    if marks>=70:\n",
    "        print(marks,'-distinction')\n",
    "        \n",
    "    elif marks>60 and marks<70:\n",
    "        print(marks,'-fisrt class')\n",
    "        \n",
    "    elif marks>50 and marks<60:\n",
    "        print(marks,'-second class')\n",
    "        \n",
    "    elif marks>35 and marks<50:\n",
    "        print(marks,'-pass')\n",
    "        \n",
    "    elif marks<35:\n",
    "        print(marks,'fail, study!')"
   ]
  },
  {
   "cell_type": "markdown",
   "id": "a903c0a1",
   "metadata": {},
   "source": [
    "# list comprehension\n"
   ]
  },
  {
   "cell_type": "code",
   "execution_count": 152,
   "id": "76e7cda2",
   "metadata": {},
   "outputs": [],
   "source": [
    " salary=[10000,15000,20000,25000,30000,35000,40000,45000,50000,55000]\n",
    "    \n",
    "sal=[val for val in salary if val>30000]"
   ]
  },
  {
   "cell_type": "code",
   "execution_count": 153,
   "id": "ea62a1a7",
   "metadata": {},
   "outputs": [
    {
     "data": {
      "text/plain": [
       "[35000, 40000, 45000, 50000, 55000]"
      ]
     },
     "execution_count": 153,
     "metadata": {},
     "output_type": "execute_result"
    }
   ],
   "source": [
    "sal"
   ]
  },
  {
   "cell_type": "code",
   "execution_count": null,
   "id": "8f99379d",
   "metadata": {},
   "outputs": [],
   "source": []
  }
 ],
 "metadata": {
  "kernelspec": {
   "display_name": "Python 3 (ipykernel)",
   "language": "python",
   "name": "python3"
  },
  "language_info": {
   "codemirror_mode": {
    "name": "ipython",
    "version": 3
   },
   "file_extension": ".py",
   "mimetype": "text/x-python",
   "name": "python",
   "nbconvert_exporter": "python",
   "pygments_lexer": "ipython3",
   "version": "3.9.12"
  }
 },
 "nbformat": 4,
 "nbformat_minor": 5
}
