{
 "cells": [
  {
   "cell_type": "markdown",
   "id": "57138fcc",
   "metadata": {},
   "source": [
    "# Encapsulation"
   ]
  },
  {
   "cell_type": "code",
   "execution_count": 1,
   "id": "c670ca54",
   "metadata": {},
   "outputs": [
    {
     "name": "stdout",
     "output_type": "stream",
     "text": [
      "tyre: \n",
      " brand:ceat\n",
      " belted bias:yes\n",
      " optimum pressure:36\n",
      "engine: \n",
      " fuel type:petrol\n",
      " noise level:1.4\n",
      "Body: \n",
      " Size:hatchbag\n"
     ]
    }
   ],
   "source": [
    "class tyres:\n",
    "    def __init__ (self, brand, belted_bias,opt_pressure):\n",
    "        self.brand=brand\n",
    "        self.belted_bias=belted_bias\n",
    "        self.opt_pressure=opt_pressure\n",
    "        \n",
    "    def __str__(self):\n",
    "        return ('tyre: \\n brand:'+ self.brand+ '\\n belted bias:'+str(self.belted_bias)+'\\n optimum pressure:'+str(self.opt_pressure))\n",
    "    \n",
    "    \n",
    "    \n",
    "class engine:\n",
    "    def __init__(self,fuel_type,noise_level):\n",
    "        self.fuel_type=fuel_type\n",
    "        self.noise_level=noise_level\n",
    "        \n",
    "    def __str__(self):\n",
    "        return(\"engine: \\n fuel type:\"+self.fuel_type+'\\n noise level:'+str(self.noise_level))\n",
    "    \n",
    "class body:\n",
    "    def __init__(self, size):\n",
    "        self.size=size\n",
    "    def __str__(self):\n",
    "        return(\"Body: \\n Size:\"+self.size)\n",
    "    \n",
    "class car:\n",
    "    def __init__(self,tyres,engine,body):\n",
    "        self.tyres=tyres\n",
    "        self.engine=engine\n",
    "        self.body=body\n",
    "    def __str__(self):\n",
    "        return str(self.tyres)+ '\\n' + str(self.engine) + '\\n' +str(self.body)\n",
    "    \n",
    "t=tyres('ceat','yes',36)\n",
    "e=engine('petrol',1.4)\n",
    "b=body('hatchbag')\n",
    "\n",
    "c=car(t,e,b)\n",
    "print(c)"
   ]
  },
  {
   "cell_type": "code",
   "execution_count": 3,
   "id": "8d5e92f7",
   "metadata": {},
   "outputs": [],
   "source": [
    "import sqlite3\n",
    "db=sqlite3.connect('student_database.db')"
   ]
  },
  {
   "cell_type": "code",
   "execution_count": 4,
   "id": "e49b5084",
   "metadata": {},
   "outputs": [],
   "source": [
    "cursor=db.cursor()"
   ]
  },
  {
   "cell_type": "code",
   "execution_count": 4,
   "id": "d0f98c82",
   "metadata": {},
   "outputs": [
    {
     "data": {
      "text/plain": [
       "<sqlite3.Cursor at 0x1b93106e8f0>"
      ]
     },
     "execution_count": 4,
     "metadata": {},
     "output_type": "execute_result"
    }
   ],
   "source": [
    "cursor.execute(\"CREATE TABLE student_learningdata(phone_number INT PRIMARY KEY, email_id TEXT,course_name TEXT, fee_paid INT)\")"
   ]
  },
  {
   "cell_type": "code",
   "execution_count": 5,
   "id": "581821e9",
   "metadata": {},
   "outputs": [],
   "source": [
    "cursor.execute(\"INSERT INTO student_learningdata(phone_number,email_id,course_name,fee_paid) VALUES(1234,'abc9@gmai.com','data sciende',50000)\")\n",
    "\n",
    "db.commit()"
   ]
  },
  {
   "cell_type": "code",
   "execution_count": 6,
   "id": "1aab502c",
   "metadata": {},
   "outputs": [
    {
     "name": "stdout",
     "output_type": "stream",
     "text": [
      "1\n"
     ]
    }
   ],
   "source": [
    "print(cursor.rowcount)"
   ]
  },
  {
   "cell_type": "code",
   "execution_count": 8,
   "id": "ab4175a3",
   "metadata": {},
   "outputs": [
    {
     "name": "stdout",
     "output_type": "stream",
     "text": [
      "(1234, 'abc9@gmai.com', 'data sciende', 50000)\n"
     ]
    }
   ],
   "source": [
    "result=cursor.execute(' SELECT * FROM student_learningdata')\n",
    "for r in result:\n",
    "    print(r)"
   ]
  },
  {
   "cell_type": "code",
   "execution_count": 9,
   "id": "e057bd3a",
   "metadata": {},
   "outputs": [],
   "source": [
    "cursor.execute(\"INSERT INTO student_learningdata VALUES(0987654321,'qwerty123@gmail.com','data science',50000),(482959,'mukul@gmail.com','software developer',100000)\")\n",
    "\n",
    "db.commit()"
   ]
  },
  {
   "cell_type": "code",
   "execution_count": 11,
   "id": "9ca0659a",
   "metadata": {},
   "outputs": [
    {
     "name": "stdout",
     "output_type": "stream",
     "text": [
      "2 record(s) inserted\n"
     ]
    }
   ],
   "source": [
    "print(cursor.rowcount,'record(s) inserted')"
   ]
  },
  {
   "cell_type": "code",
   "execution_count": 18,
   "id": "c68900dd",
   "metadata": {},
   "outputs": [
    {
     "name": "stdout",
     "output_type": "stream",
     "text": [
      "20 records inserted\n"
     ]
    }
   ],
   "source": [
    "with open('practice.txt','r') as file:\n",
    "    no_records=0\n",
    "    for row in file:\n",
    "        cursor.execute('INSERT INTO student_learningdata VALUES (?,?,?,?)',row.split(\",\"))\n",
    "        db.commit()\n",
    "        no_records +=1\n",
    "        \n",
    "print(no_records,'records inserted')"
   ]
  },
  {
   "cell_type": "code",
   "execution_count": 20,
   "id": "fe5fa15e",
   "metadata": {},
   "outputs": [
    {
     "name": "stdout",
     "output_type": "stream",
     "text": [
      "(1234, 'abc9@gmai.com', 'data sciende', 50000)\n",
      "(987654321, 'qwerty123@gmail.com', 'data science', 50000)\n",
      "(482959, 'mukul@gmail.com', 'software developer', 100000)\n",
      "(9988776604, 'student4@gmail.com', 'Digital Marketing', 38000)\n",
      "(9988776605, 'student5@gmail.com', 'Data Science', 133000)\n",
      "(9988776606, 'student6@gmail.com', 'Data Science', 34000)\n",
      "(9988776607, 'student7@gmail.com', 'Data Science', 33000)\n",
      "(9988776608, 'student8@gmail.com', 'Data Science', 129000)\n",
      "(9988776609, 'student9@gmail.com', 'Data Science', 40000)\n",
      "(9988776610, 'student10@gmail.com', 'Data Analytics', 32500)\n",
      "(9988776611, 'student11@gmail.com', 'Data Science', 41500)\n",
      "(9988776612, 'student12@gmail.com', 'Digital Marketing', 31000)\n",
      "(9988776613, 'student13@gmail.com', 'Digital Marketing', 23000)\n",
      "(9988776614, 'student14@gmail.com', 'Data Science', 24000)\n",
      "(9988776615, 'student15@gmail.com', 'Data Science', 23000)\n",
      "(9988776616, 'student16@gmail.com', 'Data Science', 122500)\n",
      "(9988776617, 'student17@gmail.com', 'Data Science', 29000)\n",
      "(9988776618, 'student18@gmail.com', 'Data Science', 140000)\n",
      "(9988776619, 'student19@gmail.com', 'Data Analytics', 32500)\n",
      "(9988776620, 'student20@gmail.com', 'Inv Banking', 41500)\n",
      "(9988776621, 'student21@gmail.com', 'Data Science', 131000)\n",
      "(9988776622, 'student22@gmail.com', 'Data Science', 23000)\n",
      "(9988776623, 'student23@gmail.com', 'Data Science', 24000)\n"
     ]
    }
   ],
   "source": [
    "results= cursor.execute('SELECT * FROM student_learningdata')\n",
    "for r in results:\n",
    "    print(r)"
   ]
  },
  {
   "cell_type": "code",
   "execution_count": 5,
   "id": "b85c5f8e",
   "metadata": {},
   "outputs": [
    {
     "name": "stdout",
     "output_type": "stream",
     "text": [
      "(1234, 'abc9@gmai.com', 'data sciende', 50000)\n",
      "(987654321, 'qwerty123@gmail.com', 'data science', 50000)\n",
      "(482959, 'mukul@gmail.com', 'software developer', 100000)\n",
      "(9988776604, 'student4@gmail.com', 'Digital Marketing', 38000)\n",
      "(9988776605, 'student5@gmail.com', 'Data Science', 133000)\n",
      "(9988776606, 'student6@gmail.com', 'Data Science', 34000)\n",
      "(9988776607, 'student7@gmail.com', 'Data Science', 33000)\n",
      "(9988776608, 'student8@gmail.com', 'Data Science', 129000)\n",
      "(9988776609, 'student9@gmail.com', 'Data Science', 40000)\n",
      "(9988776610, 'student10@gmail.com', 'Data Analytics', 32500)\n",
      "(9988776611, 'student11@gmail.com', 'Data Science', 41500)\n",
      "(9988776612, 'student12@gmail.com', 'Digital Marketing', 31000)\n",
      "(9988776613, 'student13@gmail.com', 'Digital Marketing', 23000)\n",
      "(9988776614, 'student14@gmail.com', 'Data Science', 24000)\n",
      "(9988776615, 'student15@gmail.com', 'Data Science', 23000)\n",
      "(9988776616, 'student16@gmail.com', 'Data Science', 122500)\n",
      "(9988776617, 'student17@gmail.com', 'Data Science', 29000)\n",
      "(9988776618, 'student18@gmail.com', 'Data Science', 140000)\n",
      "(9988776619, 'student19@gmail.com', 'Data Analytics', 32500)\n",
      "(9988776620, 'student20@gmail.com', 'Inv Banking', 41500)\n",
      "(9988776621, 'student21@gmail.com', 'Data Science', 131000)\n",
      "(9988776622, 'student22@gmail.com', 'Data Science', 23000)\n",
      "(9988776623, 'student23@gmail.com', 'Data Science', 24000)\n"
     ]
    }
   ],
   "source": [
    "ty= cursor.execute('select * from student_learningdata ')\n",
    "for r in ty:\n",
    "    print (r)\n",
    "    \n",
    "    \n"
   ]
  },
  {
   "cell_type": "code",
   "execution_count": null,
   "id": "33bd1206",
   "metadata": {},
   "outputs": [],
   "source": []
  }
 ],
 "metadata": {
  "kernelspec": {
   "display_name": "Python 3 (ipykernel)",
   "language": "python",
   "name": "python3"
  },
  "language_info": {
   "codemirror_mode": {
    "name": "ipython",
    "version": 3
   },
   "file_extension": ".py",
   "mimetype": "text/x-python",
   "name": "python",
   "nbconvert_exporter": "python",
   "pygments_lexer": "ipython3",
   "version": "3.9.12"
  }
 },
 "nbformat": 4,
 "nbformat_minor": 5
}
