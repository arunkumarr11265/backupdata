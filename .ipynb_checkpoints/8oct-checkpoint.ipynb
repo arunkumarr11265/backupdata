{
 "cells": [
  {
   "cell_type": "code",
   "execution_count": 359,
   "id": "3079b920",
   "metadata": {},
   "outputs": [],
   "source": [
    "employee=[]"
   ]
  },
  {
   "cell_type": "code",
   "execution_count": 360,
   "id": "bab74123",
   "metadata": {},
   "outputs": [],
   "source": [
    "employee.append('radha')"
   ]
  },
  {
   "cell_type": "code",
   "execution_count": 361,
   "id": "32f385c6",
   "metadata": {},
   "outputs": [],
   "source": [
    "employee.append('ram')"
   ]
  },
  {
   "cell_type": "code",
   "execution_count": 362,
   "id": "cacfe726",
   "metadata": {},
   "outputs": [
    {
     "data": {
      "text/plain": [
       "['radha', 'ram']"
      ]
     },
     "execution_count": 362,
     "metadata": {},
     "output_type": "execute_result"
    }
   ],
   "source": [
    "employee"
   ]
  },
  {
   "cell_type": "code",
   "execution_count": 363,
   "id": "b4e06f28",
   "metadata": {},
   "outputs": [],
   "source": [
    "employee.insert(1,'mukul')"
   ]
  },
  {
   "cell_type": "code",
   "execution_count": 364,
   "id": "2e5872aa",
   "metadata": {},
   "outputs": [],
   "source": [
    "employee.insert(2,'hrithik')"
   ]
  },
  {
   "cell_type": "code",
   "execution_count": 365,
   "id": "e6ab80ed",
   "metadata": {},
   "outputs": [
    {
     "data": {
      "text/plain": [
       "['radha', 'mukul', 'hrithik', 'ram']"
      ]
     },
     "execution_count": 365,
     "metadata": {},
     "output_type": "execute_result"
    }
   ],
   "source": [
    "employee"
   ]
  },
  {
   "cell_type": "code",
   "execution_count": 366,
   "id": "ea1ade2a",
   "metadata": {},
   "outputs": [
    {
     "data": {
      "text/plain": [
       "<function list.reverse()>"
      ]
     },
     "execution_count": 366,
     "metadata": {},
     "output_type": "execute_result"
    }
   ],
   "source": [
    "employee.reverse"
   ]
  },
  {
   "cell_type": "code",
   "execution_count": 367,
   "id": "9400f2e7",
   "metadata": {},
   "outputs": [],
   "source": [
    "employee.insert(1,'arun')"
   ]
  },
  {
   "cell_type": "code",
   "execution_count": 368,
   "id": "76b93b48",
   "metadata": {},
   "outputs": [
    {
     "data": {
      "text/plain": [
       "['radha', 'arun', 'mukul', 'hrithik', 'ram']"
      ]
     },
     "execution_count": 368,
     "metadata": {},
     "output_type": "execute_result"
    }
   ],
   "source": [
    "employee"
   ]
  },
  {
   "cell_type": "code",
   "execution_count": 369,
   "id": "7642cc70",
   "metadata": {},
   "outputs": [],
   "source": [
    "employee.insert(-4,'shyam')"
   ]
  },
  {
   "cell_type": "code",
   "execution_count": 370,
   "id": "3e169989",
   "metadata": {},
   "outputs": [
    {
     "data": {
      "text/plain": [
       "['radha', 'shyam', 'arun', 'mukul', 'hrithik', 'ram']"
      ]
     },
     "execution_count": 370,
     "metadata": {},
     "output_type": "execute_result"
    }
   ],
   "source": [
    "employee"
   ]
  },
  {
   "cell_type": "code",
   "execution_count": 371,
   "id": "0859418d",
   "metadata": {},
   "outputs": [
    {
     "ename": "SyntaxError",
     "evalue": "unexpected EOF while parsing (1097125724.py, line 1)",
     "output_type": "error",
     "traceback": [
      "\u001b[1;36m  Input \u001b[1;32mIn [371]\u001b[1;36m\u001b[0m\n\u001b[1;33m    [employee.insert(2,'shankar')\u001b[0m\n\u001b[1;37m                                 ^\u001b[0m\n\u001b[1;31mSyntaxError\u001b[0m\u001b[1;31m:\u001b[0m unexpected EOF while parsing\n"
     ]
    }
   ],
   "source": [
    "[employee.insert(2,'shankar')"
   ]
  },
  {
   "cell_type": "code",
   "execution_count": 372,
   "id": "dffb9314",
   "metadata": {},
   "outputs": [
    {
     "data": {
      "text/plain": [
       "['radha', 'shyam', 'arun', 'mukul', 'hrithik', 'ram']"
      ]
     },
     "execution_count": 372,
     "metadata": {},
     "output_type": "execute_result"
    }
   ],
   "source": [
    "employee"
   ]
  },
  {
   "cell_type": "code",
   "execution_count": 373,
   "id": "4c5125cd",
   "metadata": {},
   "outputs": [
    {
     "ename": "ValueError",
     "evalue": "list.remove(x): x not in list",
     "output_type": "error",
     "traceback": [
      "\u001b[1;31m---------------------------------------------------------------------------\u001b[0m",
      "\u001b[1;31mValueError\u001b[0m                                Traceback (most recent call last)",
      "Input \u001b[1;32mIn [373]\u001b[0m, in \u001b[0;36m<cell line: 1>\u001b[1;34m()\u001b[0m\n\u001b[1;32m----> 1\u001b[0m \u001b[43memployee\u001b[49m\u001b[38;5;241;43m.\u001b[39;49m\u001b[43mremove\u001b[49m\u001b[43m(\u001b[49m\u001b[38;5;124;43m'\u001b[39;49m\u001b[38;5;124;43m-1\u001b[39;49m\u001b[38;5;124;43m'\u001b[39;49m\u001b[43m)\u001b[49m\n",
      "\u001b[1;31mValueError\u001b[0m: list.remove(x): x not in list"
     ]
    }
   ],
   "source": [
    "employee.remove('-1')"
   ]
  },
  {
   "cell_type": "code",
   "execution_count": 374,
   "id": "6ab147b2",
   "metadata": {},
   "outputs": [],
   "source": [
    "emp_salary=[10000,12000,15000,18000,20000,2000,25000]"
   ]
  },
  {
   "cell_type": "code",
   "execution_count": 375,
   "id": "8b761265",
   "metadata": {},
   "outputs": [
    {
     "data": {
      "text/plain": [
       "[10000, 12000, 15000, 18000, 20000, 2000, 25000]"
      ]
     },
     "execution_count": 375,
     "metadata": {},
     "output_type": "execute_result"
    }
   ],
   "source": [
    "emp_salary"
   ]
  },
  {
   "cell_type": "code",
   "execution_count": 376,
   "id": "10b3cb1f",
   "metadata": {},
   "outputs": [
    {
     "data": {
      "text/plain": [
       "6"
      ]
     },
     "execution_count": 376,
     "metadata": {},
     "output_type": "execute_result"
    }
   ],
   "source": [
    "len(employee)"
   ]
  },
  {
   "cell_type": "code",
   "execution_count": 377,
   "id": "54eaf86f",
   "metadata": {},
   "outputs": [
    {
     "data": {
      "text/plain": [
       "7"
      ]
     },
     "execution_count": 377,
     "metadata": {},
     "output_type": "execute_result"
    }
   ],
   "source": [
    "len(emp_salary)"
   ]
  },
  {
   "cell_type": "code",
   "execution_count": 378,
   "id": "29994502",
   "metadata": {},
   "outputs": [
    {
     "data": {
      "text/plain": [
       "'arun'"
      ]
     },
     "execution_count": 378,
     "metadata": {},
     "output_type": "execute_result"
    }
   ],
   "source": [
    "employee[2]"
   ]
  },
  {
   "cell_type": "code",
   "execution_count": 379,
   "id": "552d6cee",
   "metadata": {},
   "outputs": [
    {
     "data": {
      "text/plain": [
       "'ram'"
      ]
     },
     "execution_count": 379,
     "metadata": {},
     "output_type": "execute_result"
    }
   ],
   "source": [
    "employee[-1]"
   ]
  },
  {
   "cell_type": "code",
   "execution_count": 380,
   "id": "ade136a0",
   "metadata": {},
   "outputs": [],
   "source": [
    "employee[-1]='ramesh'"
   ]
  },
  {
   "cell_type": "code",
   "execution_count": 381,
   "id": "1d44bfb8",
   "metadata": {},
   "outputs": [
    {
     "data": {
      "text/plain": [
       "['radha', 'shyam', 'arun', 'mukul', 'hrithik', 'ramesh']"
      ]
     },
     "execution_count": 381,
     "metadata": {},
     "output_type": "execute_result"
    }
   ],
   "source": [
    "employee"
   ]
  },
  {
   "cell_type": "code",
   "execution_count": 382,
   "id": "b4cadf62",
   "metadata": {},
   "outputs": [
    {
     "data": {
      "text/plain": [
       "[10000, 12000, 15000, 18000, 20000, 2000, 25000]"
      ]
     },
     "execution_count": 382,
     "metadata": {},
     "output_type": "execute_result"
    }
   ],
   "source": [
    "emp_salary"
   ]
  },
  {
   "cell_type": "code",
   "execution_count": 383,
   "id": "58f9bb5a",
   "metadata": {},
   "outputs": [
    {
     "data": {
      "text/plain": [
       "[15000, 18000, 20000, 2000, 25000]"
      ]
     },
     "execution_count": 383,
     "metadata": {},
     "output_type": "execute_result"
    }
   ],
   "source": [
    "emp_salary[2:]"
   ]
  },
  {
   "cell_type": "code",
   "execution_count": 384,
   "id": "c6ce03fb",
   "metadata": {},
   "outputs": [
    {
     "data": {
      "text/plain": [
       "[10000, 12000, 15000, 18000]"
      ]
     },
     "execution_count": 384,
     "metadata": {},
     "output_type": "execute_result"
    }
   ],
   "source": [
    "emp_salary[:-3]"
   ]
  },
  {
   "cell_type": "code",
   "execution_count": 385,
   "id": "7e35b645",
   "metadata": {},
   "outputs": [
    {
     "data": {
      "text/plain": [
       "[10000, 12000, 15000, 18000]"
      ]
     },
     "execution_count": 385,
     "metadata": {},
     "output_type": "execute_result"
    }
   ],
   "source": [
    "emp_salary[:4]"
   ]
  },
  {
   "cell_type": "code",
   "execution_count": 386,
   "id": "e52b81d3",
   "metadata": {},
   "outputs": [
    {
     "data": {
      "text/plain": [
       "[10000, 12000, 15000, 18000, 20000, 2000, 25000]"
      ]
     },
     "execution_count": 386,
     "metadata": {},
     "output_type": "execute_result"
    }
   ],
   "source": [
    "emp_salary[:]"
   ]
  },
  {
   "cell_type": "code",
   "execution_count": 387,
   "id": "fb73db46",
   "metadata": {},
   "outputs": [
    {
     "data": {
      "text/plain": [
       "['radha', 'shyam', 'arun', 'mukul', 'hrithik', 'ramesh', 'shikhar']"
      ]
     },
     "execution_count": 387,
     "metadata": {},
     "output_type": "execute_result"
    }
   ],
   "source": [
    "employee+['shikhar']"
   ]
  },
  {
   "cell_type": "code",
   "execution_count": 388,
   "id": "1fecf4e1",
   "metadata": {},
   "outputs": [
    {
     "data": {
      "text/plain": [
       "['radha', 'shyam', 'arun', 'mukul', 'hrithik', 'ramesh']"
      ]
     },
     "execution_count": 388,
     "metadata": {},
     "output_type": "execute_result"
    }
   ],
   "source": [
    "employee"
   ]
  },
  {
   "cell_type": "code",
   "execution_count": 389,
   "id": "b3c589db",
   "metadata": {},
   "outputs": [],
   "source": [
    "employee=employee+['shikhar']"
   ]
  },
  {
   "cell_type": "code",
   "execution_count": 390,
   "id": "7cb51ab3",
   "metadata": {},
   "outputs": [
    {
     "data": {
      "text/plain": [
       "['radha', 'shyam', 'arun', 'mukul', 'hrithik', 'ramesh', 'shikhar']"
      ]
     },
     "execution_count": 390,
     "metadata": {},
     "output_type": "execute_result"
    }
   ],
   "source": [
    "employee"
   ]
  },
  {
   "cell_type": "code",
   "execution_count": 391,
   "id": "2abe2fae",
   "metadata": {},
   "outputs": [
    {
     "data": {
      "text/plain": [
       "['radha',\n",
       " 'shyam',\n",
       " 'arun',\n",
       " 'mukul',\n",
       " 'hrithik',\n",
       " 'ramesh',\n",
       " 'shikhar',\n",
       " 'radha',\n",
       " 'shyam',\n",
       " 'arun',\n",
       " 'mukul',\n",
       " 'hrithik',\n",
       " 'ramesh',\n",
       " 'shikhar']"
      ]
     },
     "execution_count": 391,
     "metadata": {},
     "output_type": "execute_result"
    }
   ],
   "source": [
    "employee*2"
   ]
  },
  {
   "cell_type": "code",
   "execution_count": 392,
   "id": "75926e18",
   "metadata": {},
   "outputs": [
    {
     "data": {
      "text/plain": [
       "['radha', 'shyam', 'arun', 'mukul', 'hrithik', 'ramesh', 'shikhar']"
      ]
     },
     "execution_count": 392,
     "metadata": {},
     "output_type": "execute_result"
    }
   ],
   "source": [
    "employee"
   ]
  },
  {
   "cell_type": "code",
   "execution_count": 393,
   "id": "e450ea1f",
   "metadata": {},
   "outputs": [
    {
     "data": {
      "text/plain": [
       "[10000,\n",
       " 12000,\n",
       " 15000,\n",
       " 18000,\n",
       " 20000,\n",
       " 2000,\n",
       " 25000,\n",
       " 10000,\n",
       " 12000,\n",
       " 15000,\n",
       " 18000,\n",
       " 20000,\n",
       " 2000,\n",
       " 25000]"
      ]
     },
     "execution_count": 393,
     "metadata": {},
     "output_type": "execute_result"
    }
   ],
   "source": [
    "emp_salary*2"
   ]
  },
  {
   "cell_type": "code",
   "execution_count": 394,
   "id": "d83584ae",
   "metadata": {},
   "outputs": [
    {
     "data": {
      "text/plain": [
       "[10000, 12000, 15000, 18000, 20000, 2000, 25000]"
      ]
     },
     "execution_count": 394,
     "metadata": {},
     "output_type": "execute_result"
    }
   ],
   "source": [
    "emp_salary"
   ]
  },
  {
   "cell_type": "code",
   "execution_count": 395,
   "id": "6ac27a5d",
   "metadata": {},
   "outputs": [
    {
     "name": "stdout",
     "output_type": "stream",
     "text": [
      "==========================================================================================\n",
      "                                             data trained                                                            \n",
      "==========================================================================================\n"
     ]
    }
   ],
   "source": [
    "print('='*90)\n",
    "print('                                             data trained                                                            ')\n",
    "print('='*90)"
   ]
  },
  {
   "cell_type": "code",
   "execution_count": 396,
   "id": "8c1d198b",
   "metadata": {},
   "outputs": [],
   "source": [
    "marks=[45,100,69,67,93,100,93,6,100,94,100,68,29,37,100,95,98,100,38,46,69,30,100,75,95,97,100,32,21,100,80,91,100]"
   ]
  },
  {
   "cell_type": "code",
   "execution_count": 397,
   "id": "49df9405",
   "metadata": {},
   "outputs": [
    {
     "data": {
      "text/plain": [
       "10"
      ]
     },
     "execution_count": 397,
     "metadata": {},
     "output_type": "execute_result"
    }
   ],
   "source": [
    "marks.count(100)"
   ]
  },
  {
   "cell_type": "code",
   "execution_count": 398,
   "id": "e84fc016",
   "metadata": {},
   "outputs": [
    {
     "data": {
      "text/plain": [
       "2"
      ]
     },
     "execution_count": 398,
     "metadata": {},
     "output_type": "execute_result"
    }
   ],
   "source": [
    "marks.count(95)"
   ]
  },
  {
   "cell_type": "code",
   "execution_count": 399,
   "id": "6df0b073",
   "metadata": {},
   "outputs": [
    {
     "data": {
      "text/plain": [
       "0"
      ]
     },
     "execution_count": 399,
     "metadata": {},
     "output_type": "execute_result"
    }
   ],
   "source": [
    "marks.count(96)"
   ]
  },
  {
   "cell_type": "code",
   "execution_count": 400,
   "id": "568a9df0",
   "metadata": {},
   "outputs": [
    {
     "data": {
      "text/plain": [
       "2"
      ]
     },
     "execution_count": 400,
     "metadata": {},
     "output_type": "execute_result"
    }
   ],
   "source": [
    "marks.count(93)"
   ]
  },
  {
   "cell_type": "code",
   "execution_count": 401,
   "id": "b9ebd5bb",
   "metadata": {},
   "outputs": [
    {
     "data": {
      "text/plain": [
       "7"
      ]
     },
     "execution_count": 401,
     "metadata": {},
     "output_type": "execute_result"
    }
   ],
   "source": [
    "marks.index(6)"
   ]
  },
  {
   "cell_type": "code",
   "execution_count": 402,
   "id": "faeb4244",
   "metadata": {},
   "outputs": [
    {
     "data": {
      "text/plain": [
       "4"
      ]
     },
     "execution_count": 402,
     "metadata": {},
     "output_type": "execute_result"
    }
   ],
   "source": [
    "employee.index('hrithik')"
   ]
  },
  {
   "cell_type": "code",
   "execution_count": 403,
   "id": "364e2be4",
   "metadata": {},
   "outputs": [
    {
     "data": {
      "text/plain": [
       "['radha', 'shyam', 'arun', 'mukul', 'hrithik', 'ramesh', 'shikhar']"
      ]
     },
     "execution_count": 403,
     "metadata": {},
     "output_type": "execute_result"
    }
   ],
   "source": [
    "employee"
   ]
  },
  {
   "cell_type": "code",
   "execution_count": 404,
   "id": "085fc4bb",
   "metadata": {},
   "outputs": [],
   "source": [
    "employee.extend(['saurabh','sakshi'])"
   ]
  },
  {
   "cell_type": "code",
   "execution_count": 405,
   "id": "c4abfa45",
   "metadata": {},
   "outputs": [
    {
     "data": {
      "text/plain": [
       "['radha',\n",
       " 'shyam',\n",
       " 'arun',\n",
       " 'mukul',\n",
       " 'hrithik',\n",
       " 'ramesh',\n",
       " 'shikhar',\n",
       " 'saurabh',\n",
       " 'sakshi']"
      ]
     },
     "execution_count": 405,
     "metadata": {},
     "output_type": "execute_result"
    }
   ],
   "source": [
    "employee"
   ]
  },
  {
   "cell_type": "code",
   "execution_count": 406,
   "id": "f37b40fe",
   "metadata": {},
   "outputs": [],
   "source": [
    "employee.remove('saurabh')"
   ]
  },
  {
   "cell_type": "code",
   "execution_count": 407,
   "id": "2c03899d",
   "metadata": {},
   "outputs": [
    {
     "data": {
      "text/plain": [
       "['radha', 'shyam', 'arun', 'mukul', 'hrithik', 'ramesh', 'shikhar', 'sakshi']"
      ]
     },
     "execution_count": 407,
     "metadata": {},
     "output_type": "execute_result"
    }
   ],
   "source": [
    "employee"
   ]
  },
  {
   "cell_type": "code",
   "execution_count": 408,
   "id": "7355aec6",
   "metadata": {},
   "outputs": [],
   "source": [
    "employee.append('saurabh')"
   ]
  },
  {
   "cell_type": "code",
   "execution_count": 409,
   "id": "772667f7",
   "metadata": {},
   "outputs": [
    {
     "data": {
      "text/plain": [
       "['radha',\n",
       " 'shyam',\n",
       " 'arun',\n",
       " 'mukul',\n",
       " 'hrithik',\n",
       " 'ramesh',\n",
       " 'shikhar',\n",
       " 'sakshi',\n",
       " 'saurabh']"
      ]
     },
     "execution_count": 409,
     "metadata": {},
     "output_type": "execute_result"
    }
   ],
   "source": [
    "employee"
   ]
  },
  {
   "cell_type": "code",
   "execution_count": 410,
   "id": "806cd44f",
   "metadata": {},
   "outputs": [
    {
     "data": {
      "text/plain": [
       "'saurabh'"
      ]
     },
     "execution_count": 410,
     "metadata": {},
     "output_type": "execute_result"
    }
   ],
   "source": [
    "employee.pop()"
   ]
  },
  {
   "cell_type": "code",
   "execution_count": 411,
   "id": "8c127578",
   "metadata": {},
   "outputs": [
    {
     "data": {
      "text/plain": [
       "['radha', 'shyam', 'arun', 'mukul', 'hrithik', 'ramesh', 'shikhar', 'sakshi']"
      ]
     },
     "execution_count": 411,
     "metadata": {},
     "output_type": "execute_result"
    }
   ],
   "source": [
    "employee"
   ]
  },
  {
   "cell_type": "code",
   "execution_count": 412,
   "id": "cb67b34a",
   "metadata": {},
   "outputs": [
    {
     "ename": "TypeError",
     "evalue": "'str' object cannot be interpreted as an integer",
     "output_type": "error",
     "traceback": [
      "\u001b[1;31m---------------------------------------------------------------------------\u001b[0m",
      "\u001b[1;31mTypeError\u001b[0m                                 Traceback (most recent call last)",
      "Input \u001b[1;32mIn [412]\u001b[0m, in \u001b[0;36m<cell line: 1>\u001b[1;34m()\u001b[0m\n\u001b[1;32m----> 1\u001b[0m \u001b[43memployee\u001b[49m\u001b[38;5;241;43m.\u001b[39;49m\u001b[43mpop\u001b[49m\u001b[43m(\u001b[49m\u001b[38;5;124;43m'\u001b[39;49m\u001b[38;5;124;43msakshi\u001b[39;49m\u001b[38;5;124;43m'\u001b[39;49m\u001b[43m)\u001b[49m\n",
      "\u001b[1;31mTypeError\u001b[0m: 'str' object cannot be interpreted as an integer"
     ]
    }
   ],
   "source": [
    "employee.pop('sakshi')"
   ]
  },
  {
   "cell_type": "code",
   "execution_count": 413,
   "id": "6a829ec3",
   "metadata": {},
   "outputs": [
    {
     "data": {
      "text/plain": [
       "'sakshi'"
      ]
     },
     "execution_count": 413,
     "metadata": {},
     "output_type": "execute_result"
    }
   ],
   "source": [
    "employee.pop(-1)"
   ]
  },
  {
   "cell_type": "code",
   "execution_count": 414,
   "id": "55feedc5",
   "metadata": {},
   "outputs": [
    {
     "data": {
      "text/plain": [
       "['radha', 'shyam', 'arun', 'mukul', 'hrithik', 'ramesh', 'shikhar']"
      ]
     },
     "execution_count": 414,
     "metadata": {},
     "output_type": "execute_result"
    }
   ],
   "source": [
    "employee"
   ]
  },
  {
   "cell_type": "code",
   "execution_count": 415,
   "id": "3abc6ec0",
   "metadata": {},
   "outputs": [
    {
     "name": "stdout",
     "output_type": "stream",
     "text": [
      "['radha', 'shyam', 'arun', 'mukul', 'hrithik', 'ramesh', 'shikhar']\n"
     ]
    }
   ],
   "source": [
    "print(employee)"
   ]
  },
  {
   "cell_type": "code",
   "execution_count": 416,
   "id": "7fddb212",
   "metadata": {},
   "outputs": [
    {
     "name": "stdout",
     "output_type": "stream",
     "text": [
      "[10000, 12000, 15000, 18000, 20000, 2000, 25000]\n"
     ]
    }
   ],
   "source": [
    "print(emp_salary)"
   ]
  },
  {
   "cell_type": "code",
   "execution_count": 417,
   "id": "a41e0694",
   "metadata": {},
   "outputs": [
    {
     "name": "stdout",
     "output_type": "stream",
     "text": [
      "[45, 100, 69, 67, 93, 100, 93, 6, 100, 94, 100, 68, 29, 37, 100, 95, 98, 100, 38, 46, 69, 30, 100, 75, 95, 97, 100, 32, 21, 100, 80, 91, 100]\n"
     ]
    }
   ],
   "source": [
    "print(marks)"
   ]
  },
  {
   "cell_type": "code",
   "execution_count": 418,
   "id": "60ac98f0",
   "metadata": {},
   "outputs": [],
   "source": [
    "employee.reverse()"
   ]
  },
  {
   "cell_type": "code",
   "execution_count": 419,
   "id": "7817216e",
   "metadata": {},
   "outputs": [
    {
     "data": {
      "text/plain": [
       "['shikhar', 'ramesh', 'hrithik', 'mukul', 'arun', 'shyam', 'radha']"
      ]
     },
     "execution_count": 419,
     "metadata": {},
     "output_type": "execute_result"
    }
   ],
   "source": [
    "employee"
   ]
  },
  {
   "cell_type": "code",
   "execution_count": 420,
   "id": "5afacd75",
   "metadata": {},
   "outputs": [
    {
     "ename": "NameError",
     "evalue": "name 'emplolyee' is not defined",
     "output_type": "error",
     "traceback": [
      "\u001b[1;31m---------------------------------------------------------------------------\u001b[0m",
      "\u001b[1;31mNameError\u001b[0m                                 Traceback (most recent call last)",
      "Input \u001b[1;32mIn [420]\u001b[0m, in \u001b[0;36m<cell line: 1>\u001b[1;34m()\u001b[0m\n\u001b[1;32m----> 1\u001b[0m \u001b[43memplolyee\u001b[49m\u001b[38;5;241m.\u001b[39mreverse[\u001b[38;5;241m5\u001b[39m:]\n",
      "\u001b[1;31mNameError\u001b[0m: name 'emplolyee' is not defined"
     ]
    }
   ],
   "source": [
    "emplolyee.reverse[5:]"
   ]
  },
  {
   "cell_type": "code",
   "execution_count": 421,
   "id": "a7196780",
   "metadata": {},
   "outputs": [],
   "source": [
    "employee.reverse()"
   ]
  },
  {
   "cell_type": "code",
   "execution_count": 422,
   "id": "8126f2ea",
   "metadata": {},
   "outputs": [
    {
     "data": {
      "text/plain": [
       "['radha', 'shyam', 'arun', 'mukul', 'hrithik', 'ramesh', 'shikhar']"
      ]
     },
     "execution_count": 422,
     "metadata": {},
     "output_type": "execute_result"
    }
   ],
   "source": [
    "employee"
   ]
  },
  {
   "cell_type": "code",
   "execution_count": 423,
   "id": "4234f2f7",
   "metadata": {},
   "outputs": [],
   "source": [
    "employee.reverse()"
   ]
  },
  {
   "cell_type": "code",
   "execution_count": 424,
   "id": "8ca6ccc6",
   "metadata": {},
   "outputs": [
    {
     "data": {
      "text/plain": [
       "['shikhar', 'ramesh', 'hrithik', 'mukul', 'arun', 'shyam', 'radha']"
      ]
     },
     "execution_count": 424,
     "metadata": {},
     "output_type": "execute_result"
    }
   ],
   "source": [
    "employee"
   ]
  },
  {
   "cell_type": "code",
   "execution_count": 425,
   "id": "9d1fdd60",
   "metadata": {},
   "outputs": [
    {
     "data": {
      "text/plain": [
       "<function list.count(value, /)>"
      ]
     },
     "execution_count": 425,
     "metadata": {},
     "output_type": "execute_result"
    }
   ],
   "source": [
    "employee.count"
   ]
  },
  {
   "cell_type": "code",
   "execution_count": 426,
   "id": "db4d3f16",
   "metadata": {},
   "outputs": [
    {
     "data": {
      "text/plain": [
       "['shikhar', 'ramesh', 'hrithik', 'mukul', 'arun', 'shyam', 'radha']"
      ]
     },
     "execution_count": 426,
     "metadata": {},
     "output_type": "execute_result"
    }
   ],
   "source": [
    "employee"
   ]
  },
  {
   "cell_type": "code",
   "execution_count": 427,
   "id": "a4d8a966",
   "metadata": {},
   "outputs": [],
   "source": [
    "employee.sort()"
   ]
  },
  {
   "cell_type": "code",
   "execution_count": 428,
   "id": "a923e9bc",
   "metadata": {},
   "outputs": [
    {
     "data": {
      "text/plain": [
       "['arun', 'hrithik', 'mukul', 'radha', 'ramesh', 'shikhar', 'shyam']"
      ]
     },
     "execution_count": 428,
     "metadata": {},
     "output_type": "execute_result"
    }
   ],
   "source": [
    "employee"
   ]
  },
  {
   "cell_type": "code",
   "execution_count": 429,
   "id": "00b904cf",
   "metadata": {},
   "outputs": [],
   "source": [
    "marks.sort()"
   ]
  },
  {
   "cell_type": "code",
   "execution_count": 430,
   "id": "7826c0f9",
   "metadata": {},
   "outputs": [
    {
     "data": {
      "text/plain": [
       "[6,\n",
       " 21,\n",
       " 29,\n",
       " 30,\n",
       " 32,\n",
       " 37,\n",
       " 38,\n",
       " 45,\n",
       " 46,\n",
       " 67,\n",
       " 68,\n",
       " 69,\n",
       " 69,\n",
       " 75,\n",
       " 80,\n",
       " 91,\n",
       " 93,\n",
       " 93,\n",
       " 94,\n",
       " 95,\n",
       " 95,\n",
       " 97,\n",
       " 98,\n",
       " 100,\n",
       " 100,\n",
       " 100,\n",
       " 100,\n",
       " 100,\n",
       " 100,\n",
       " 100,\n",
       " 100,\n",
       " 100,\n",
       " 100]"
      ]
     },
     "execution_count": 430,
     "metadata": {},
     "output_type": "execute_result"
    }
   ],
   "source": [
    "marks"
   ]
  },
  {
   "cell_type": "code",
   "execution_count": 431,
   "id": "e1dbd6e4",
   "metadata": {},
   "outputs": [],
   "source": [
    "marks.sort(reverse=True)"
   ]
  },
  {
   "cell_type": "code",
   "execution_count": 432,
   "id": "6a0fa945",
   "metadata": {},
   "outputs": [
    {
     "data": {
      "text/plain": [
       "[100,\n",
       " 100,\n",
       " 100,\n",
       " 100,\n",
       " 100,\n",
       " 100,\n",
       " 100,\n",
       " 100,\n",
       " 100,\n",
       " 100,\n",
       " 98,\n",
       " 97,\n",
       " 95,\n",
       " 95,\n",
       " 94,\n",
       " 93,\n",
       " 93,\n",
       " 91,\n",
       " 80,\n",
       " 75,\n",
       " 69,\n",
       " 69,\n",
       " 68,\n",
       " 67,\n",
       " 46,\n",
       " 45,\n",
       " 38,\n",
       " 37,\n",
       " 32,\n",
       " 30,\n",
       " 29,\n",
       " 21,\n",
       " 6]"
      ]
     },
     "execution_count": 432,
     "metadata": {},
     "output_type": "execute_result"
    }
   ],
   "source": [
    "marks"
   ]
  },
  {
   "cell_type": "code",
   "execution_count": 433,
   "id": "4ca8c517",
   "metadata": {},
   "outputs": [
    {
     "data": {
      "text/plain": [
       "['arun', 'hrithik', 'mukul', 'radha', 'ramesh', 'shikhar', 'shyam']"
      ]
     },
     "execution_count": 433,
     "metadata": {},
     "output_type": "execute_result"
    }
   ],
   "source": [
    "employee"
   ]
  },
  {
   "cell_type": "code",
   "execution_count": 434,
   "id": "80af6b0c",
   "metadata": {},
   "outputs": [],
   "source": [
    "employee.append('gaurav')"
   ]
  },
  {
   "cell_type": "code",
   "execution_count": 435,
   "id": "c9d02fbc",
   "metadata": {},
   "outputs": [
    {
     "data": {
      "text/plain": [
       "['arun', 'hrithik', 'mukul', 'radha', 'ramesh', 'shikhar', 'shyam', 'gaurav']"
      ]
     },
     "execution_count": 435,
     "metadata": {},
     "output_type": "execute_result"
    }
   ],
   "source": [
    "employee"
   ]
  },
  {
   "cell_type": "code",
   "execution_count": 436,
   "id": "23df9b80",
   "metadata": {},
   "outputs": [
    {
     "data": {
      "text/plain": [
       "1"
      ]
     },
     "execution_count": 436,
     "metadata": {},
     "output_type": "execute_result"
    }
   ],
   "source": [
    "employee.count('hrithik')"
   ]
  },
  {
   "cell_type": "code",
   "execution_count": 437,
   "id": "89aea287",
   "metadata": {},
   "outputs": [
    {
     "data": {
      "text/plain": [
       "<function list.extend(iterable, /)>"
      ]
     },
     "execution_count": 437,
     "metadata": {},
     "output_type": "execute_result"
    }
   ],
   "source": [
    "employee.extend"
   ]
  },
  {
   "cell_type": "code",
   "execution_count": 438,
   "id": "1cced0be",
   "metadata": {},
   "outputs": [
    {
     "data": {
      "text/plain": [
       "7"
      ]
     },
     "execution_count": 438,
     "metadata": {},
     "output_type": "execute_result"
    }
   ],
   "source": [
    "employee.index('gaurav')"
   ]
  },
  {
   "cell_type": "code",
   "execution_count": 439,
   "id": "232b3cdf",
   "metadata": {},
   "outputs": [
    {
     "data": {
      "text/plain": [
       "['arun', 'hrithik', 'mukul', 'radha', 'ramesh', 'shikhar', 'shyam', 'gaurav']"
      ]
     },
     "execution_count": 439,
     "metadata": {},
     "output_type": "execute_result"
    }
   ],
   "source": [
    "employee"
   ]
  },
  {
   "cell_type": "code",
   "execution_count": 440,
   "id": "ea731bb6",
   "metadata": {},
   "outputs": [
    {
     "data": {
      "text/plain": [
       "<function list.insert(index, object, /)>"
      ]
     },
     "execution_count": 440,
     "metadata": {},
     "output_type": "execute_result"
    }
   ],
   "source": [
    "employee.insert"
   ]
  },
  {
   "cell_type": "code",
   "execution_count": 441,
   "id": "5366a535",
   "metadata": {},
   "outputs": [],
   "source": [
    "employee.insert(3,'gaurav')"
   ]
  },
  {
   "cell_type": "code",
   "execution_count": 442,
   "id": "fea6988d",
   "metadata": {},
   "outputs": [
    {
     "data": {
      "text/plain": [
       "['arun',\n",
       " 'hrithik',\n",
       " 'mukul',\n",
       " 'gaurav',\n",
       " 'radha',\n",
       " 'ramesh',\n",
       " 'shikhar',\n",
       " 'shyam',\n",
       " 'gaurav']"
      ]
     },
     "execution_count": 442,
     "metadata": {},
     "output_type": "execute_result"
    }
   ],
   "source": [
    "employee"
   ]
  },
  {
   "cell_type": "code",
   "execution_count": 443,
   "id": "d3192a87",
   "metadata": {},
   "outputs": [
    {
     "data": {
      "text/plain": [
       "'gaurav'"
      ]
     },
     "execution_count": 443,
     "metadata": {},
     "output_type": "execute_result"
    }
   ],
   "source": [
    "employee.pop(-1)"
   ]
  },
  {
   "cell_type": "code",
   "execution_count": 444,
   "id": "caf77142",
   "metadata": {},
   "outputs": [
    {
     "data": {
      "text/plain": [
       "['arun', 'hrithik', 'mukul', 'gaurav', 'radha', 'ramesh', 'shikhar', 'shyam']"
      ]
     },
     "execution_count": 444,
     "metadata": {},
     "output_type": "execute_result"
    }
   ],
   "source": [
    "employee"
   ]
  },
  {
   "cell_type": "code",
   "execution_count": 445,
   "id": "7064d8b2",
   "metadata": {},
   "outputs": [],
   "source": [
    "employee.remove('radha')"
   ]
  },
  {
   "cell_type": "code",
   "execution_count": 446,
   "id": "b2829eed",
   "metadata": {},
   "outputs": [
    {
     "data": {
      "text/plain": [
       "['arun', 'hrithik', 'mukul', 'gaurav', 'ramesh', 'shikhar', 'shyam']"
      ]
     },
     "execution_count": 446,
     "metadata": {},
     "output_type": "execute_result"
    }
   ],
   "source": [
    "employee"
   ]
  },
  {
   "cell_type": "code",
   "execution_count": 447,
   "id": "e859e4cc",
   "metadata": {},
   "outputs": [
    {
     "name": "stdout",
     "output_type": "stream",
     "text": [
      "['arun', 'hrithik', 'mukul', 'gaurav', 'ramesh', 'shikhar', 'shyam']\n"
     ]
    }
   ],
   "source": [
    "print(employee)"
   ]
  },
  {
   "cell_type": "code",
   "execution_count": 448,
   "id": "2ea1c167",
   "metadata": {},
   "outputs": [
    {
     "data": {
      "text/plain": [
       "<function list.reverse()>"
      ]
     },
     "execution_count": 448,
     "metadata": {},
     "output_type": "execute_result"
    }
   ],
   "source": [
    "employee.reverse"
   ]
  },
  {
   "cell_type": "code",
   "execution_count": 449,
   "id": "b2b9393f",
   "metadata": {},
   "outputs": [],
   "source": [
    "employee.reverse()"
   ]
  },
  {
   "cell_type": "code",
   "execution_count": 450,
   "id": "81eb6cb4",
   "metadata": {},
   "outputs": [
    {
     "data": {
      "text/plain": [
       "['shyam', 'shikhar', 'ramesh', 'gaurav', 'mukul', 'hrithik', 'arun']"
      ]
     },
     "execution_count": 450,
     "metadata": {},
     "output_type": "execute_result"
    }
   ],
   "source": [
    "employee"
   ]
  },
  {
   "cell_type": "code",
   "execution_count": 451,
   "id": "5a37f5b8",
   "metadata": {},
   "outputs": [
    {
     "data": {
      "text/plain": [
       "<function list.sort(*, key=None, reverse=False)>"
      ]
     },
     "execution_count": 451,
     "metadata": {},
     "output_type": "execute_result"
    }
   ],
   "source": [
    "employee.sort"
   ]
  },
  {
   "cell_type": "code",
   "execution_count": 452,
   "id": "0fb24565",
   "metadata": {},
   "outputs": [],
   "source": [
    "employee.sort()"
   ]
  },
  {
   "cell_type": "code",
   "execution_count": 453,
   "id": "9f1eaf86",
   "metadata": {},
   "outputs": [
    {
     "data": {
      "text/plain": [
       "['arun', 'gaurav', 'hrithik', 'mukul', 'ramesh', 'shikhar', 'shyam']"
      ]
     },
     "execution_count": 453,
     "metadata": {},
     "output_type": "execute_result"
    }
   ],
   "source": [
    "employee"
   ]
  },
  {
   "cell_type": "code",
   "execution_count": 454,
   "id": "d3a86b7f",
   "metadata": {},
   "outputs": [],
   "source": [
    "cities=('Delhi','Banglore','Mumbai','Jaipur')"
   ]
  },
  {
   "cell_type": "code",
   "execution_count": 455,
   "id": "bbcdd94a",
   "metadata": {},
   "outputs": [
    {
     "data": {
      "text/plain": [
       "list"
      ]
     },
     "execution_count": 455,
     "metadata": {},
     "output_type": "execute_result"
    }
   ],
   "source": [
    "type(emp_salary)"
   ]
  },
  {
   "cell_type": "code",
   "execution_count": 456,
   "id": "79ed96a5",
   "metadata": {},
   "outputs": [
    {
     "data": {
      "text/plain": [
       "tuple"
      ]
     },
     "execution_count": 456,
     "metadata": {},
     "output_type": "execute_result"
    }
   ],
   "source": [
    "type(cities)"
   ]
  },
  {
   "cell_type": "code",
   "execution_count": 457,
   "id": "d9b6e7ca",
   "metadata": {},
   "outputs": [
    {
     "data": {
      "text/plain": [
       "<function tuple.count(value, /)>"
      ]
     },
     "execution_count": 457,
     "metadata": {},
     "output_type": "execute_result"
    }
   ],
   "source": [
    " cities.count"
   ]
  },
  {
   "cell_type": "code",
   "execution_count": 458,
   "id": "2d820425",
   "metadata": {},
   "outputs": [
    {
     "data": {
      "text/plain": [
       "1"
      ]
     },
     "execution_count": 458,
     "metadata": {},
     "output_type": "execute_result"
    }
   ],
   "source": [
    "cities.count('Delhi')"
   ]
  },
  {
   "cell_type": "code",
   "execution_count": 459,
   "id": "6b14dbe7",
   "metadata": {},
   "outputs": [
    {
     "data": {
      "text/plain": [
       "<function tuple.index(value, start=0, stop=9223372036854775807, /)>"
      ]
     },
     "execution_count": 459,
     "metadata": {},
     "output_type": "execute_result"
    }
   ],
   "source": [
    "cities.index"
   ]
  },
  {
   "cell_type": "code",
   "execution_count": 460,
   "id": "b41adbd1",
   "metadata": {},
   "outputs": [
    {
     "data": {
      "text/plain": [
       "3"
      ]
     },
     "execution_count": 460,
     "metadata": {},
     "output_type": "execute_result"
    }
   ],
   "source": [
    "cities.index('Jaipur')"
   ]
  },
  {
   "cell_type": "code",
   "execution_count": 461,
   "id": "a0dbf0cb",
   "metadata": {},
   "outputs": [
    {
     "data": {
      "text/plain": [
       "tuple"
      ]
     },
     "execution_count": 461,
     "metadata": {},
     "output_type": "execute_result"
    }
   ],
   "source": [
    "type(cities)"
   ]
  },
  {
   "cell_type": "code",
   "execution_count": 462,
   "id": "0a51b7da",
   "metadata": {},
   "outputs": [],
   "source": [
    "cities=list(cities)"
   ]
  },
  {
   "cell_type": "code",
   "execution_count": 463,
   "id": "8a9becbd",
   "metadata": {},
   "outputs": [
    {
     "data": {
      "text/plain": [
       "['Delhi', 'Banglore', 'Mumbai', 'Jaipur']"
      ]
     },
     "execution_count": 463,
     "metadata": {},
     "output_type": "execute_result"
    }
   ],
   "source": [
    "cities"
   ]
  },
  {
   "cell_type": "code",
   "execution_count": 464,
   "id": "2abb2079",
   "metadata": {},
   "outputs": [
    {
     "data": {
      "text/plain": [
       "list"
      ]
     },
     "execution_count": 464,
     "metadata": {},
     "output_type": "execute_result"
    }
   ],
   "source": [
    "type(cities)"
   ]
  },
  {
   "cell_type": "code",
   "execution_count": 466,
   "id": "c6dd1057",
   "metadata": {},
   "outputs": [],
   "source": [
    "cities.append('Hyderabad')"
   ]
  },
  {
   "cell_type": "code",
   "execution_count": null,
   "id": "e35b2b72",
   "metadata": {},
   "outputs": [],
   "source": []
  }
 ],
 "metadata": {
  "kernelspec": {
   "display_name": "Python 3 (ipykernel)",
   "language": "python",
   "name": "python3"
  },
  "language_info": {
   "codemirror_mode": {
    "name": "ipython",
    "version": 3
   },
   "file_extension": ".py",
   "mimetype": "text/x-python",
   "name": "python",
   "nbconvert_exporter": "python",
   "pygments_lexer": "ipython3",
   "version": "3.9.12"
  }
 },
 "nbformat": 4,
 "nbformat_minor": 5
}
