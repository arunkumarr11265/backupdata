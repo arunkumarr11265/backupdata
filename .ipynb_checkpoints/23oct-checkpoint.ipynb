{
 "cells": [
  {
   "cell_type": "code",
   "execution_count": 3,
   "id": "fa12c324",
   "metadata": {},
   "outputs": [],
   "source": [
    "marks_1=55\n",
    "subject= 'Data Science'\n",
    "marks_2=44"
   ]
  },
  {
   "cell_type": "code",
   "execution_count": 4,
   "id": "5e3743e2",
   "metadata": {},
   "outputs": [
    {
     "name": "stdout",
     "output_type": "stream",
     "text": [
      "you are adding integer to string, make sure the data types are matching.\n"
     ]
    }
   ],
   "source": [
    "try:\n",
    "    total=marks_1+subject\n",
    "    \n",
    "except TypeError:\n",
    "    print('you are adding integer to string, make sure the data types are matching.')\n",
    "    \n",
    "else:\n",
    "    print(\"total marks=\", total)"
   ]
  },
  {
   "cell_type": "code",
   "execution_count": 5,
   "id": "81e5ad47",
   "metadata": {},
   "outputs": [
    {
     "name": "stdout",
     "output_type": "stream",
     "text": [
      "total marls= 99\n"
     ]
    }
   ],
   "source": [
    "try:\n",
    "    total=marks_1+marks_2\n",
    "    \n",
    "except TypeError:\n",
    "    print('you are adding integer to string, make sure the data types are matching')\n",
    "    \n",
    "else:\n",
    "    print('total marls=',total)"
   ]
  },
  {
   "cell_type": "code",
   "execution_count": 6,
   "id": "86e1f297",
   "metadata": {},
   "outputs": [
    {
     "name": "stdout",
     "output_type": "stream",
     "text": [
      "you are adding integer to string, make sure the data types are matching.\n"
     ]
    }
   ],
   "source": [
    "try:\n",
    "    total=marks_1+subject\n",
    "    \n",
    "except:\n",
    "    print('you are adding integer to string, make sure the data types are matching.')\n",
    "    \n",
    "else:\n",
    "    print(\"total marks=\", total)"
   ]
  },
  {
   "cell_type": "code",
   "execution_count": 7,
   "id": "dec296e5",
   "metadata": {},
   "outputs": [
    {
     "name": "stdout",
     "output_type": "stream",
     "text": [
      "you are adding integer to string, make sure the data types are matching.\n"
     ]
    }
   ],
   "source": [
    "try:\n",
    "    total=marks_1+subject\n",
    "    \n",
    "except:\n",
    "    print('you are adding integer to string, make sure the data types are matching.')\n",
    "    \n",
    "else:\n",
    "    print(\"total marks=\", total)"
   ]
  },
  {
   "cell_type": "code",
   "execution_count": 8,
   "id": "bbc91d3f",
   "metadata": {},
   "outputs": [
    {
     "name": "stdout",
     "output_type": "stream",
     "text": [
      "enter your car number asdfg\n",
      "enter your name \n",
      "enter your mobile number \n",
      "customer name field is required. \n",
      "\n",
      "the customer mobile number is required.\n"
     ]
    }
   ],
   "source": [
    "try:\n",
    "    car_number=input('enter your car number ')\n",
    "    name=input('enter your name ')\n",
    "    mobile=input('enter your mobile number ')\n",
    "    \n",
    "    if car_number=='':\n",
    "        raise exception()\n",
    "    elif name=='':\n",
    "        raise exception()\n",
    "    elif mobile=='':\n",
    "        raise exception()\n",
    "    else:\n",
    "        pass\n",
    "\n",
    "except:\n",
    "    if car_number=='':\n",
    "        print('\\n the regisration number field is required. \\n')\n",
    "    if name=='':\n",
    "        print('customer name field is required. \\n')\n",
    "    if mobile=='':\n",
    "        print('the customer mobile number is required.')\n",
    "        \n",
    "else:\n",
    "    print(' Thank hyou for all the details.')\n",
    "        \n",
    "    "
   ]
  },
  {
   "cell_type": "code",
   "execution_count": 9,
   "id": "d651c965",
   "metadata": {},
   "outputs": [
    {
     "name": "stdout",
     "output_type": "stream",
     "text": [
      "enter your car number\n",
      "enter your namezxcv\n",
      "enter your mobile number1234\n",
      "the regisration number field is required.\n"
     ]
    }
   ],
   "source": [
    "try:\n",
    "    car_number=input('enter your car number')\n",
    "    name=input('enter your name')\n",
    "    mobile=input('enter your mobile number')\n",
    "    \n",
    "    if car_number=='':\n",
    "        raise exception()\n",
    "    elif name=='':\n",
    "        raise exception()\n",
    "    elif mobile=='':\n",
    "        raise exception()\n",
    "    else:\n",
    "        pass\n",
    "\n",
    "except:\n",
    "    if car_number=='':\n",
    "        print('the regisration number field is required.')\n",
    "    if name=='':\n",
    "        print('customer name field is required.')\n",
    "    if mobile=='':\n",
    "        print('the customer mobile number is required.')\n",
    "        \n",
    "else:\n",
    "    print(' Thank hyou for all the details.')\n",
    "    "
   ]
  },
  {
   "cell_type": "code",
   "execution_count": 10,
   "id": "ee22ba62",
   "metadata": {},
   "outputs": [
    {
     "name": "stdout",
     "output_type": "stream",
     "text": [
      "enter your car number 123456\n",
      "enter your name qwert\n",
      "enter your mobile number 1234\n",
      " Thank you for all the details.\n"
     ]
    }
   ],
   "source": [
    "try:\n",
    "    car_number=input('enter your car number ')\n",
    "    name=input('enter your name ')\n",
    "    mobile=input('enter your mobile number ')\n",
    "    \n",
    "    if car_number=='':\n",
    "        raise exception()\n",
    "    elif name=='':\n",
    "        raise exception()\n",
    "    elif mobile=='':\n",
    "        raise exception()\n",
    "    else:\n",
    "        pass\n",
    "\n",
    "except:\n",
    "    if car_number=='':\n",
    "        print('\\n the regisration number field is required. \\n')\n",
    "    if name=='':\n",
    "        print('customer name field is required. \\n')\n",
    "    if mobile=='':\n",
    "        print('the customer mobile number is required.')\n",
    "        \n",
    "else:\n",
    "    print(' Thank you for all the details.')"
   ]
  },
  {
   "cell_type": "code",
   "execution_count": 11,
   "id": "b83dfba9",
   "metadata": {},
   "outputs": [],
   "source": [
    "def mob_num():\n",
    "    try:\n",
    "        n=int(input('Please enter your mobile number. '))\n",
    "    except:\n",
    "        print('looks like you did not enter an integer.')\n",
    "    else:\n",
    "        print('Thank you for entering your details.')"
   ]
  },
  {
   "cell_type": "code",
   "execution_count": 12,
   "id": "aac3f45a",
   "metadata": {},
   "outputs": [
    {
     "name": "stdout",
     "output_type": "stream",
     "text": [
      "Please enter your mobile number. gg\n",
      "looks like you did not enter an integer.\n"
     ]
    }
   ],
   "source": [
    "mob_num()"
   ]
  },
  {
   "cell_type": "code",
   "execution_count": 13,
   "id": "12089e51",
   "metadata": {},
   "outputs": [
    {
     "name": "stdout",
     "output_type": "stream",
     "text": [
      "Please enter your mobile number. 1123456789\n",
      "Thank you for entering your details.\n"
     ]
    }
   ],
   "source": [
    "mob_num()\n"
   ]
  },
  {
   "cell_type": "code",
   "execution_count": 14,
   "id": "12c7c3be",
   "metadata": {},
   "outputs": [
    {
     "ename": "SyntaxError",
     "evalue": "invalid syntax (1159846202.py, line 8)",
     "output_type": "error",
     "traceback": [
      "\u001b[1;36m  Input \u001b[1;32mIn [14]\u001b[1;36m\u001b[0m\n\u001b[1;33m    else:\u001b[0m\n\u001b[1;37m    ^\u001b[0m\n\u001b[1;31mSyntaxError\u001b[0m\u001b[1;31m:\u001b[0m invalid syntax\n"
     ]
    }
   ],
   "source": [
    "def m():\n",
    "    while True:\n",
    "        try:\n",
    "            number=int(input('please enter your mobile number:-'))\n",
    "            if len(str(number))!=10:\n",
    "                 print('mobile number should be of 10 digits')\n",
    "            continue\n",
    "        else:\n",
    "            print('thank you for sharing your details.')\n",
    "            break\n",
    "        except:\n",
    "            print('looks like you did not enter an integer.')\n",
    "            continue\n",
    "       "
   ]
  },
  {
   "cell_type": "code",
   "execution_count": 2,
   "id": "0f27dbbe",
   "metadata": {},
   "outputs": [
    {
     "ename": "NameError",
     "evalue": "name 'm' is not defined",
     "output_type": "error",
     "traceback": [
      "\u001b[1;31m---------------------------------------------------------------------------\u001b[0m",
      "\u001b[1;31mNameError\u001b[0m                                 Traceback (most recent call last)",
      "Input \u001b[1;32mIn [2]\u001b[0m, in \u001b[0;36m<cell line: 1>\u001b[1;34m()\u001b[0m\n\u001b[1;32m----> 1\u001b[0m \u001b[43mm\u001b[49m()\n",
      "\u001b[1;31mNameError\u001b[0m: name 'm' is not defined"
     ]
    }
   ],
   "source": [
    "m()"
   ]
  },
  {
   "cell_type": "code",
   "execution_count": 21,
   "id": "c9bff81b",
   "metadata": {},
   "outputs": [],
   "source": [
    "def mobile_no():\n",
    "    while True:\n",
    "        try:\n",
    "            m=int(input('enter your mobile number:-'))\n",
    "            \n",
    "            if len(str(m))<10:\n",
    "                print('The no. you have entered is less than 10 digits, please check it again.')\n",
    "                continue\n",
    "            elif len(str(m))>10:\n",
    "                print('the no. you have entered is more than 10 digits, please check it again')\n",
    "                continue\n",
    "            else:\n",
    "                print('thank you')\n",
    "                break\n",
    "                \n",
    "        except:\n",
    "                print('mobile number should be an integer')\n",
    "                continue"
   ]
  },
  {
   "cell_type": "code",
   "execution_count": 22,
   "id": "e3547e3d",
   "metadata": {},
   "outputs": [
    {
     "name": "stdout",
     "output_type": "stream",
     "text": [
      "enter your mobile number:-1\n",
      "The no. you have entered is less than 10 digits, please check it again.\n",
      "enter your mobile number:-12345678900\n",
      "the no. you have entered is more than 10 digits, please check it again\n",
      "enter your mobile number:-1234567890\n",
      "thank you\n"
     ]
    }
   ],
   "source": [
    "mobile_no()"
   ]
  },
  {
   "cell_type": "markdown",
   "id": "f8dcfe97",
   "metadata": {},
   "source": [
    "# Object oriented programming\n"
   ]
  },
  {
   "cell_type": "code",
   "execution_count": 25,
   "id": "0f7419e3",
   "metadata": {},
   "outputs": [],
   "source": [
    "class account:\n",
    "    pass\n",
    "    "
   ]
  },
  {
   "cell_type": "code",
   "execution_count": 26,
   "id": "db1efe52",
   "metadata": {},
   "outputs": [],
   "source": [
    "class account:\n",
    "    def __init__(self,name,last_name,city,user_id,password,phone):\n",
    "        self.name      = name\n",
    "        self.last_name = last_name\n",
    "        self.city      = city\n",
    "        self.user_id   = user_id\n",
    "        self.password  = password\n",
    "        self.phone     = phone"
   ]
  },
  {
   "cell_type": "code",
   "execution_count": 29,
   "id": "c1f5e375",
   "metadata": {},
   "outputs": [
    {
     "data": {
      "text/plain": [
       "__main__.account"
      ]
     },
     "execution_count": 29,
     "metadata": {},
     "output_type": "execute_result"
    }
   ],
   "source": [
    "account\n"
   ]
  },
  {
   "cell_type": "code",
   "execution_count": 134,
   "id": "257dd5bd",
   "metadata": {},
   "outputs": [
    {
     "name": "stdout",
     "output_type": "stream",
     "text": [
      "enter your name-arun\n",
      "enter your last name-kumar\n",
      "enter your city-delhi\n",
      "enter your user id-qwerty\n",
      "enter your password-12345\n",
      "enter your phone number-234567890\n"
     ]
    }
   ],
   "source": [
    "class Account:\n",
    "    def __init__ (self,name       = input('enter your name-'),\n",
    "                       last_name  = input('enter your last name-'),\n",
    "                       city       = input('enter your city-'),\n",
    "                  user_id= input('enter your user id-'),\n",
    "                  password= input('enter your password-'),\n",
    "                  phone= input('enter your phone number-')):\n",
    "        self.name= name\n",
    "        self.last_name= last_name\n",
    "        self.city= city\n",
    "        self.user_id= user_id\n",
    "        self.password= password\n",
    "        self.phone= phone\n",
    "        \n",
    "    def login(self):\n",
    "        while True:\n",
    "            id= input ('email- ')\n",
    "            password= input('password- ')\n",
    "            if id==self.user_id and password==self.password:\n",
    "                print('you are successfully logged in')\n",
    "                break\n",
    "            else:\n",
    "                print('user id or password is invalid')\n",
    "                continue\n",
    "                \n",
    "                \n",
    "                 "
   ]
  },
  {
   "cell_type": "code",
   "execution_count": 135,
   "id": "54d7fddb",
   "metadata": {},
   "outputs": [],
   "source": [
    "bank=Account()"
   ]
  },
  {
   "cell_type": "code",
   "execution_count": 136,
   "id": "25a0b8a1",
   "metadata": {},
   "outputs": [
    {
     "name": "stdout",
     "output_type": "stream",
     "text": [
      "email- qwerty\n",
      "password- 12345\n",
      "you are successfully logged in\n"
     ]
    }
   ],
   "source": [
    "bank.login()"
   ]
  },
  {
   "cell_type": "markdown",
   "id": "1ae2e636",
   "metadata": {},
   "source": [
    "# inheritance"
   ]
  },
  {
   "cell_type": "code",
   "execution_count": 161,
   "id": "5593a9be",
   "metadata": {},
   "outputs": [],
   "source": [
    "class User_account(Account):\n",
    "    def __init__(self,acc_number,balance, *args):\n",
    "        super(User_account,self).__init__(*args)\n",
    "        self.acc_number  = acc_number\n",
    "        self.balance         = balance\n",
    "        \n",
    "    def user_details(self):\n",
    "        while True:\n",
    "            account=int(input('enter your account number'))\n",
    "            if account==self.acc_number:\n",
    "                print('name=',self.name)\n",
    "                print('account number=',self.acc_number)\n",
    "                print('your balance=',self.balance)\n",
    "                break  \n",
    "        \n",
    "            else:\n",
    "                print('account number is invalid')\n",
    "                continue\n",
    "                \n",
    "    def deposit(self):\n",
    "        print('your previous balance=',self.balance)\n",
    "        add_cash= int(input('deposit cash='))\n",
    "        self.balance += add_cash\n",
    "        print('\\n Axis bank: rs',add_cash,'deposited in your account',self.acc_number,'. Your current balance is',self.balance)\n",
    "       \n",
    "                \n",
    "                \n",
    "   \n",
    "        \n",
    "                      \n",
    "    def transfer(self):\n",
    "        print('your previous account balance-',self.balance)\n",
    "        withdraw=int(input('how much do you want to withdraw'))\n",
    "        if withdraw<=self.balance:\n",
    "                self.balance-=withdraw\n",
    "                print('Axis bank: rs',withdraw,'withdrawn from your account',self.account_number,\n",
    "                            'and your new cureent balance is',self.balance)\n",
    "                      \n",
    "        else:\n",
    "            print('\\n Alert: your have insufficient amount in your account for the transaction!')"
   ]
  },
  {
   "cell_type": "code",
   "execution_count": 162,
   "id": "431e903d",
   "metadata": {},
   "outputs": [],
   "source": [
    "bank_details=User_account(1234,0)"
   ]
  },
  {
   "cell_type": "code",
   "execution_count": 163,
   "id": "c4e03648",
   "metadata": {},
   "outputs": [
    {
     "name": "stdout",
     "output_type": "stream",
     "text": [
      "email- qwerty\n",
      "password- 12345\n",
      "you are successfully logged in\n"
     ]
    }
   ],
   "source": [
    "bank_details.login()"
   ]
  },
  {
   "cell_type": "code",
   "execution_count": 164,
   "id": "6e7505df",
   "metadata": {},
   "outputs": [
    {
     "name": "stdout",
     "output_type": "stream",
     "text": [
      "enter your account number123\n",
      "account number is invalid\n",
      "enter your account number1234\n",
      "name= arun\n",
      "account number= 1234\n",
      "your balance= 0\n"
     ]
    }
   ],
   "source": [
    "bank_details.user_details()"
   ]
  },
  {
   "cell_type": "code",
   "execution_count": null,
   "id": "e57c8ad7",
   "metadata": {},
   "outputs": [],
   "source": []
  },
  {
   "cell_type": "code",
   "execution_count": null,
   "id": "3d927273",
   "metadata": {},
   "outputs": [],
   "source": []
  },
  {
   "cell_type": "code",
   "execution_count": null,
   "id": "70ce7bf4",
   "metadata": {},
   "outputs": [],
   "source": []
  },
  {
   "cell_type": "code",
   "execution_count": null,
   "id": "128fb275",
   "metadata": {},
   "outputs": [],
   "source": []
  },
  {
   "cell_type": "code",
   "execution_count": null,
   "id": "e78f391c",
   "metadata": {},
   "outputs": [],
   "source": []
  },
  {
   "cell_type": "code",
   "execution_count": null,
   "id": "a0de83d6",
   "metadata": {},
   "outputs": [],
   "source": []
  }
 ],
 "metadata": {
  "kernelspec": {
   "display_name": "Python 3 (ipykernel)",
   "language": "python",
   "name": "python3"
  },
  "language_info": {
   "codemirror_mode": {
    "name": "ipython",
    "version": 3
   },
   "file_extension": ".py",
   "mimetype": "text/x-python",
   "name": "python",
   "nbconvert_exporter": "python",
   "pygments_lexer": "ipython3",
   "version": "3.9.12"
  }
 },
 "nbformat": 4,
 "nbformat_minor": 5
}
