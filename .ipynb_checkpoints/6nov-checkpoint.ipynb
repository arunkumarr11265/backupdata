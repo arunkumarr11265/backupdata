{
 "cells": [
  {
   "cell_type": "code",
   "execution_count": 2,
   "id": "9d7bc58c",
   "metadata": {},
   "outputs": [],
   "source": [
    "import numpy as np"
   ]
  },
  {
   "cell_type": "code",
   "execution_count": 3,
   "id": "bfe8d0b9",
   "metadata": {},
   "outputs": [],
   "source": [
    "np.random.seed(7)"
   ]
  },
  {
   "cell_type": "code",
   "execution_count": 5,
   "id": "9452eadd",
   "metadata": {},
   "outputs": [
    {
     "name": "stdout",
     "output_type": "stream",
     "text": [
      "[[0.07630829 0.77991879 0.43840923]\n",
      " [0.72346518 0.97798951 0.53849587]\n",
      " [0.50112046 0.07205113 0.26843898]]\n"
     ]
    }
   ],
   "source": [
    "print(np.random.rand(3,3))"
   ]
  },
  {
   "cell_type": "code",
   "execution_count": 7,
   "id": "0d034a4f",
   "metadata": {},
   "outputs": [
    {
     "name": "stdout",
     "output_type": "stream",
     "text": [
      "[[-0.08313583  0.07072914 -0.33420021]\n",
      " [ 0.87389381  0.10357395  0.07066062]\n",
      " [-1.10711737  0.79418452  1.17666305]]\n"
     ]
    }
   ],
   "source": [
    "print(np.random.randn(3,3))"
   ]
  },
  {
   "cell_type": "code",
   "execution_count": 13,
   "id": "26a121fa",
   "metadata": {},
   "outputs": [
    {
     "name": "stdout",
     "output_type": "stream",
     "text": [
      "[2 1 1 2 1]\n"
     ]
    }
   ],
   "source": [
    "print(np.random.randint(1,4,5))"
   ]
  },
  {
   "cell_type": "code",
   "execution_count": 19,
   "id": "862b8dfb",
   "metadata": {},
   "outputs": [
    {
     "name": "stdout",
     "output_type": "stream",
     "text": [
      "[[2688 1452  918 2193 2026   12  809 1573]\n",
      " [  70 1949 2098  367 2539 2485 2033  648]\n",
      " [2141 1520 1851 2739 2895  560 1663  959]\n",
      " [ 462 1130 1102 1092 1928 1441  332  231]\n",
      " [ 608  764 2127 2476 1613 1659 2017 2429]\n",
      " [ 521 1717 1631 2914 1744 2455  185 2230]\n",
      " [1571 1805  261   45 1336 1301  812 2482]]\n"
     ]
    }
   ],
   "source": [
    "print(np.random.randint(1,3000,(7,8)))"
   ]
  },
  {
   "cell_type": "code",
   "execution_count": 32,
   "id": "2e327be0",
   "metadata": {},
   "outputs": [
    {
     "name": "stdout",
     "output_type": "stream",
     "text": [
      "your OTp is:- [9430]\n",
      "please enter you otp here12\n",
      "please enter correct OTP\n",
      "your OTp is:- [6837]\n",
      "please enter you otp here6837\n",
      "you are successfully logged in\n"
     ]
    }
   ],
   "source": [
    "while True:\n",
    "    otp=np.random.randint(1000,10000,1)\n",
    "    print('your OTp is:-',otp)\n",
    "    user_otp=int(input('please enter you otp here'))\n",
    "    if user_otp==otp:\n",
    "        print('you are successfully logged in')\n",
    "        break\n",
    "    else:\n",
    "        print('please enter correct OTP')\n",
    "        "
   ]
  },
  {
   "cell_type": "code",
   "execution_count": 36,
   "id": "3e866b51",
   "metadata": {},
   "outputs": [
    {
     "name": "stdout",
     "output_type": "stream",
     "text": [
      "your OTp is:- [4088]\n",
      "please enter you otp herea\n",
      "OTP is integer only\n",
      "your OTp is:- [6500]\n",
      "please enter you otp here6500\n",
      "you are successfully logged in\n"
     ]
    }
   ],
   "source": [
    "while True:\n",
    "    try:\n",
    "        otp=np.random.randint(1000,10000,1)\n",
    "        print('your OTp is:-',otp)\n",
    "        user_otp=int(input('please enter you otp here'))\n",
    "        if user_otp==otp:\n",
    "            print('you are successfully logged in')\n",
    "            break\n",
    "        else:\n",
    "            print('please enter correct OTP')\n",
    "            continue\n",
    "    except:\n",
    "        print('OTP is integer only')"
   ]
  },
  {
   "cell_type": "code",
   "execution_count": 37,
   "id": "43a14f41",
   "metadata": {},
   "outputs": [],
   "source": [
    "import numpy as np"
   ]
  },
  {
   "cell_type": "code",
   "execution_count": 38,
   "id": "663ca221",
   "metadata": {},
   "outputs": [],
   "source": [
    "from numpy.random import randint as ri"
   ]
  },
  {
   "cell_type": "code",
   "execution_count": 55,
   "id": "5d7f76fe",
   "metadata": {},
   "outputs": [],
   "source": [
    "a=ri(30,200,20)"
   ]
  },
  {
   "cell_type": "code",
   "execution_count": 56,
   "id": "f8377804",
   "metadata": {},
   "outputs": [
    {
     "name": "stdout",
     "output_type": "stream",
     "text": [
      "[ 41  77 169  66  83  37 179 156  49 116  75 156 111  63  38 146  48 111\n",
      " 133 158]\n"
     ]
    }
   ],
   "source": [
    "print(a)"
   ]
  },
  {
   "cell_type": "code",
   "execution_count": 57,
   "id": "163f7fd8",
   "metadata": {},
   "outputs": [],
   "source": [
    "x=a.reshape(4,5)"
   ]
  },
  {
   "cell_type": "code",
   "execution_count": 58,
   "id": "5c190cc7",
   "metadata": {},
   "outputs": [
    {
     "data": {
      "text/plain": [
       "array([[ 41,  77, 169,  66,  83],\n",
       "       [ 37, 179, 156,  49, 116],\n",
       "       [ 75, 156, 111,  63,  38],\n",
       "       [146,  48, 111, 133, 158]])"
      ]
     },
     "execution_count": 58,
     "metadata": {},
     "output_type": "execute_result"
    }
   ],
   "source": [
    "x"
   ]
  },
  {
   "cell_type": "code",
   "execution_count": 86,
   "id": "205b3737",
   "metadata": {},
   "outputs": [
    {
     "name": "stdout",
     "output_type": "stream",
     "text": [
      "97.0\n"
     ]
    }
   ],
   "source": [
    "print(np.median(x))"
   ]
  },
  {
   "cell_type": "code",
   "execution_count": 59,
   "id": "ca09ff60",
   "metadata": {},
   "outputs": [
    {
     "name": "stdout",
     "output_type": "stream",
     "text": [
      "37\n"
     ]
    }
   ],
   "source": [
    "print(a.min())"
   ]
  },
  {
   "cell_type": "code",
   "execution_count": 60,
   "id": "1cffdb08",
   "metadata": {},
   "outputs": [
    {
     "name": "stdout",
     "output_type": "stream",
     "text": [
      "179\n"
     ]
    }
   ],
   "source": [
    "print(a.max())"
   ]
  },
  {
   "cell_type": "code",
   "execution_count": 61,
   "id": "32656cee",
   "metadata": {},
   "outputs": [
    {
     "name": "stdout",
     "output_type": "stream",
     "text": [
      "37\n"
     ]
    }
   ],
   "source": [
    "print(np.min(x))"
   ]
  },
  {
   "cell_type": "code",
   "execution_count": 62,
   "id": "547e2083",
   "metadata": {},
   "outputs": [
    {
     "name": "stdout",
     "output_type": "stream",
     "text": [
      "179\n"
     ]
    }
   ],
   "source": [
    "print(np.max(x))"
   ]
  },
  {
   "cell_type": "code",
   "execution_count": 63,
   "id": "3b346c6e",
   "metadata": {},
   "outputs": [
    {
     "name": "stdout",
     "output_type": "stream",
     "text": [
      "100.6\n"
     ]
    }
   ],
   "source": [
    "print(np.mean(a))"
   ]
  },
  {
   "cell_type": "code",
   "execution_count": 64,
   "id": "0a68af4e",
   "metadata": {},
   "outputs": [
    {
     "name": "stdout",
     "output_type": "stream",
     "text": [
      "100.6\n"
     ]
    }
   ],
   "source": [
    "print(a.mean())"
   ]
  },
  {
   "cell_type": "code",
   "execution_count": 68,
   "id": "c361f707",
   "metadata": {},
   "outputs": [
    {
     "name": "stdout",
     "output_type": "stream",
     "text": [
      "[[ 37  38  41  48  49]\n",
      " [ 63  66  75  77  83]\n",
      " [111 111 116 133 146]\n",
      " [156 156 158 169 179]]\n"
     ]
    }
   ],
   "source": [
    "print(np.sort(x))"
   ]
  },
  {
   "cell_type": "code",
   "execution_count": 70,
   "id": "3e535355",
   "metadata": {},
   "outputs": [
    {
     "name": "stdout",
     "output_type": "stream",
     "text": [
      "[[ 37  38  41  48  49]\n",
      " [ 63  66  75  77  83]\n",
      " [111 111 116 133 146]\n",
      " [156 156 158 169 179]]\n"
     ]
    }
   ],
   "source": [
    "print(np.sort(x,axis=0))"
   ]
  },
  {
   "cell_type": "code",
   "execution_count": 71,
   "id": "31c88285",
   "metadata": {},
   "outputs": [],
   "source": [
    "q=ri(100,999,40)"
   ]
  },
  {
   "cell_type": "code",
   "execution_count": 72,
   "id": "60a54caa",
   "metadata": {},
   "outputs": [
    {
     "name": "stdout",
     "output_type": "stream",
     "text": [
      "[684 252 368 789 326 295 224 708 830 437 815 229 905 905 596 959 823 655\n",
      " 278 952 294 211 236 862 674 184 413 483 558 260 354 990 849 934 992 807\n",
      " 128 793 179 529]\n"
     ]
    }
   ],
   "source": [
    "print(q)"
   ]
  },
  {
   "cell_type": "code",
   "execution_count": 77,
   "id": "891558ba",
   "metadata": {},
   "outputs": [],
   "source": [
    "w=q.reshape(5,8)"
   ]
  },
  {
   "cell_type": "code",
   "execution_count": 78,
   "id": "f114f5de",
   "metadata": {},
   "outputs": [
    {
     "name": "stdout",
     "output_type": "stream",
     "text": [
      "[[684 252 368 789 326 295 224 708]\n",
      " [830 437 815 229 905 905 596 959]\n",
      " [823 655 278 952 294 211 236 862]\n",
      " [674 184 413 483 558 260 354 990]\n",
      " [849 934 992 807 128 793 179 529]]\n"
     ]
    }
   ],
   "source": [
    "print(w)"
   ]
  },
  {
   "cell_type": "code",
   "execution_count": 79,
   "id": "c6707ec3",
   "metadata": {},
   "outputs": [
    {
     "name": "stdout",
     "output_type": "stream",
     "text": [
      "[[224 252 295 326 368 684 708 789]\n",
      " [229 437 596 815 830 905 905 959]\n",
      " [211 236 278 294 655 823 862 952]\n",
      " [184 260 354 413 483 558 674 990]\n",
      " [128 179 529 793 807 849 934 992]]\n"
     ]
    }
   ],
   "source": [
    "print(np.sort(w))"
   ]
  },
  {
   "cell_type": "code",
   "execution_count": 80,
   "id": "85eaaf79",
   "metadata": {},
   "outputs": [
    {
     "name": "stdout",
     "output_type": "stream",
     "text": [
      "[[674 184 278 229 128 211 179 529]\n",
      " [684 252 368 483 294 260 224 708]\n",
      " [823 437 413 789 326 295 236 862]\n",
      " [830 655 815 807 558 793 354 959]\n",
      " [849 934 992 952 905 905 596 990]]\n"
     ]
    }
   ],
   "source": [
    "print(np.sort(w,axis=0))"
   ]
  },
  {
   "cell_type": "code",
   "execution_count": 82,
   "id": "d15d84db",
   "metadata": {},
   "outputs": [],
   "source": [
    "r=np.sort(w)"
   ]
  },
  {
   "cell_type": "code",
   "execution_count": 83,
   "id": "fd733906",
   "metadata": {},
   "outputs": [
    {
     "name": "stdout",
     "output_type": "stream",
     "text": [
      "[[224 252 295 326 368 684 708 789]\n",
      " [229 437 596 815 830 905 905 959]\n",
      " [211 236 278 294 655 823 862 952]\n",
      " [184 260 354 413 483 558 674 990]\n",
      " [128 179 529 793 807 849 934 992]]\n"
     ]
    }
   ],
   "source": [
    "print(r)"
   ]
  },
  {
   "cell_type": "code",
   "execution_count": 84,
   "id": "44754a6a",
   "metadata": {},
   "outputs": [
    {
     "name": "stdout",
     "output_type": "stream",
     "text": [
      "[[128 179 278 294 368 558 674 789]\n",
      " [184 236 295 326 483 684 708 952]\n",
      " [211 252 354 413 655 823 862 959]\n",
      " [224 260 529 793 807 849 905 990]\n",
      " [229 437 596 815 830 905 934 992]]\n"
     ]
    }
   ],
   "source": [
    "print(np.sort(r,axis=0))"
   ]
  },
  {
   "cell_type": "markdown",
   "id": "c801067f",
   "metadata": {},
   "source": [
    "## numpy conditions\n"
   ]
  },
  {
   "cell_type": "code",
   "execution_count": 106,
   "id": "7349244a",
   "metadata": {},
   "outputs": [],
   "source": [
    "emp_salary=np.random.randint(10,50,10)"
   ]
  },
  {
   "cell_type": "code",
   "execution_count": 107,
   "id": "eec6b42f",
   "metadata": {},
   "outputs": [
    {
     "name": "stdout",
     "output_type": "stream",
     "text": [
      "[36 44 26 29 44 20 14 13 14 17]\n"
     ]
    }
   ],
   "source": [
    "print(emp_salary)"
   ]
  },
  {
   "cell_type": "code",
   "execution_count": 108,
   "id": "37223ed3",
   "metadata": {},
   "outputs": [
    {
     "name": "stdout",
     "output_type": "stream",
     "text": [
      "(array([5, 6, 7, 8, 9], dtype=int64),)\n"
     ]
    }
   ],
   "source": [
    "print(np.where(emp_salary<25))"
   ]
  },
  {
   "cell_type": "code",
   "execution_count": 109,
   "id": "d1772481",
   "metadata": {},
   "outputs": [
    {
     "data": {
      "text/plain": [
       "array([20, 14, 13, 14, 17])"
      ]
     },
     "execution_count": 109,
     "metadata": {},
     "output_type": "execute_result"
    }
   ],
   "source": [
    "emp_salary[np.where(emp_salary<25)]"
   ]
  },
  {
   "cell_type": "code",
   "execution_count": 110,
   "id": "30482acf",
   "metadata": {},
   "outputs": [
    {
     "data": {
      "text/plain": [
       "array([36, 44, 26, 29, 44, 20, 20, 20, 20, 20])"
      ]
     },
     "execution_count": 110,
     "metadata": {},
     "output_type": "execute_result"
    }
   ],
   "source": [
    "np.clip(emp_salary,a_min=20,a_max=50)"
   ]
  },
  {
   "cell_type": "code",
   "execution_count": 112,
   "id": "e3a36046",
   "metadata": {},
   "outputs": [],
   "source": [
    "c=np.random.randint(15,80,15)"
   ]
  },
  {
   "cell_type": "code",
   "execution_count": 113,
   "id": "a6e3beaf",
   "metadata": {},
   "outputs": [
    {
     "name": "stdout",
     "output_type": "stream",
     "text": [
      "[73 17 54 71 19 15 67 35 46 64 37 45 79 49 35]\n"
     ]
    }
   ],
   "source": [
    "print(c)"
   ]
  },
  {
   "cell_type": "code",
   "execution_count": 114,
   "id": "e2645dd4",
   "metadata": {},
   "outputs": [
    {
     "name": "stdout",
     "output_type": "stream",
     "text": [
      "15\n"
     ]
    }
   ],
   "source": [
    "print(np.min(c))"
   ]
  },
  {
   "cell_type": "code",
   "execution_count": 115,
   "id": "a7cfd938",
   "metadata": {},
   "outputs": [
    {
     "name": "stdout",
     "output_type": "stream",
     "text": [
      "15\n"
     ]
    }
   ],
   "source": [
    "print(c.min())"
   ]
  },
  {
   "cell_type": "code",
   "execution_count": 116,
   "id": "350ed6cb",
   "metadata": {},
   "outputs": [
    {
     "name": "stdout",
     "output_type": "stream",
     "text": [
      "79\n"
     ]
    }
   ],
   "source": [
    "print(np.max(c))"
   ]
  },
  {
   "cell_type": "code",
   "execution_count": 117,
   "id": "f1c7f315",
   "metadata": {},
   "outputs": [
    {
     "name": "stdout",
     "output_type": "stream",
     "text": [
      "79\n"
     ]
    }
   ],
   "source": [
    "print(c.max())"
   ]
  },
  {
   "cell_type": "code",
   "execution_count": 118,
   "id": "69efe826",
   "metadata": {},
   "outputs": [
    {
     "name": "stdout",
     "output_type": "stream",
     "text": [
      "(array([1, 4, 5], dtype=int64),)\n"
     ]
    }
   ],
   "source": [
    "print(np.where(c<25))"
   ]
  },
  {
   "cell_type": "code",
   "execution_count": 125,
   "id": "cdbecd39",
   "metadata": {},
   "outputs": [
    {
     "name": "stdout",
     "output_type": "stream",
     "text": [
      "(array([ 0,  2,  3,  6,  9, 12], dtype=int64),)\n"
     ]
    }
   ],
   "source": [
    "print(np.where(c>50))"
   ]
  },
  {
   "cell_type": "code",
   "execution_count": 121,
   "id": "1ea07361",
   "metadata": {},
   "outputs": [
    {
     "data": {
      "text/plain": [
       "array([17, 19, 15])"
      ]
     },
     "execution_count": 121,
     "metadata": {},
     "output_type": "execute_result"
    }
   ],
   "source": [
    "c[np.where(c<25)]"
   ]
  },
  {
   "cell_type": "code",
   "execution_count": 123,
   "id": "1df38543",
   "metadata": {},
   "outputs": [
    {
     "data": {
      "text/plain": [
       "array([50, 20, 50, 50, 20, 20, 50, 35, 46, 50, 37, 45, 50, 49, 35])"
      ]
     },
     "execution_count": 123,
     "metadata": {},
     "output_type": "execute_result"
    }
   ],
   "source": [
    "np.clip(c,a_min=20,a_max=50)"
   ]
  },
  {
   "cell_type": "code",
   "execution_count": 128,
   "id": "661eec7a",
   "metadata": {},
   "outputs": [],
   "source": [
    "ar=np.arange(10,30)"
   ]
  },
  {
   "cell_type": "code",
   "execution_count": 129,
   "id": "9ea90bcc",
   "metadata": {},
   "outputs": [
    {
     "name": "stdout",
     "output_type": "stream",
     "text": [
      "[10 11 12 13 14 15 16 17 18 19 20 21 22 23 24 25 26 27 28 29]\n"
     ]
    }
   ],
   "source": [
    "print(ar)"
   ]
  },
  {
   "cell_type": "code",
   "execution_count": 130,
   "id": "5ce694a0",
   "metadata": {},
   "outputs": [
    {
     "name": "stdout",
     "output_type": "stream",
     "text": [
      "17\n"
     ]
    }
   ],
   "source": [
    "print(ar[7])"
   ]
  },
  {
   "cell_type": "code",
   "execution_count": 131,
   "id": "93eb2a4e",
   "metadata": {},
   "outputs": [
    {
     "ename": "TypeError",
     "evalue": "'numpy.ndarray' object is not callable",
     "output_type": "error",
     "traceback": [
      "\u001b[1;31m---------------------------------------------------------------------------\u001b[0m",
      "\u001b[1;31mTypeError\u001b[0m                                 Traceback (most recent call last)",
      "Input \u001b[1;32mIn [131]\u001b[0m, in \u001b[0;36m<cell line: 1>\u001b[1;34m()\u001b[0m\n\u001b[1;32m----> 1\u001b[0m \u001b[38;5;28mprint\u001b[39m(\u001b[43mar\u001b[49m\u001b[43m(\u001b[49m\u001b[38;5;241;43m7\u001b[39;49m\u001b[43m)\u001b[49m)\n",
      "\u001b[1;31mTypeError\u001b[0m: 'numpy.ndarray' object is not callable"
     ]
    }
   ],
   "source": [
    "print(ar(7))"
   ]
  },
  {
   "cell_type": "code",
   "execution_count": 132,
   "id": "065d35a2",
   "metadata": {},
   "outputs": [
    {
     "name": "stdout",
     "output_type": "stream",
     "text": [
      "29\n"
     ]
    }
   ],
   "source": [
    "print(ar.max())"
   ]
  },
  {
   "cell_type": "code",
   "execution_count": 135,
   "id": "ac2ebec9",
   "metadata": {},
   "outputs": [
    {
     "name": "stdout",
     "output_type": "stream",
     "text": [
      "29\n"
     ]
    }
   ],
   "source": [
    "print(ar[19])"
   ]
  },
  {
   "cell_type": "code",
   "execution_count": 137,
   "id": "33081645",
   "metadata": {},
   "outputs": [
    {
     "name": "stdout",
     "output_type": "stream",
     "text": [
      "[12 14 16 18 20]\n"
     ]
    }
   ],
   "source": [
    "print(ar[[2,4,6,8,10]])"
   ]
  },
  {
   "cell_type": "code",
   "execution_count": 138,
   "id": "175b203d",
   "metadata": {},
   "outputs": [],
   "source": [
    "ad=np.arange(1,10)"
   ]
  },
  {
   "cell_type": "code",
   "execution_count": 139,
   "id": "9148eb90",
   "metadata": {},
   "outputs": [
    {
     "name": "stdout",
     "output_type": "stream",
     "text": [
      "[1 2 3 4 5 6 7 8 9]\n"
     ]
    }
   ],
   "source": [
    "print(ad)"
   ]
  },
  {
   "cell_type": "code",
   "execution_count": 140,
   "id": "be0840dc",
   "metadata": {},
   "outputs": [
    {
     "data": {
      "text/plain": [
       "array([[1, 2, 3],\n",
       "       [4, 5, 6],\n",
       "       [7, 8, 9]])"
      ]
     },
     "execution_count": 140,
     "metadata": {},
     "output_type": "execute_result"
    }
   ],
   "source": [
    "ad.reshape(3,3)"
   ]
  },
  {
   "cell_type": "code",
   "execution_count": 141,
   "id": "ed4f4587",
   "metadata": {},
   "outputs": [],
   "source": [
    "q=ad.reshape(3,3)"
   ]
  },
  {
   "cell_type": "code",
   "execution_count": 142,
   "id": "a3c080ca",
   "metadata": {},
   "outputs": [
    {
     "name": "stdout",
     "output_type": "stream",
     "text": [
      "[[1 2 3]\n",
      " [4 5 6]\n",
      " [7 8 9]]\n"
     ]
    }
   ],
   "source": [
    "print(q)"
   ]
  },
  {
   "cell_type": "code",
   "execution_count": 146,
   "id": "0fbb9ade",
   "metadata": {},
   "outputs": [
    {
     "data": {
      "text/plain": [
       "6"
      ]
     },
     "execution_count": 146,
     "metadata": {},
     "output_type": "execute_result"
    }
   ],
   "source": [
    "q[1][2]"
   ]
  },
  {
   "cell_type": "code",
   "execution_count": 147,
   "id": "44e1278e",
   "metadata": {},
   "outputs": [
    {
     "data": {
      "text/plain": [
       "array([4, 5, 6])"
      ]
     },
     "execution_count": 147,
     "metadata": {},
     "output_type": "execute_result"
    }
   ],
   "source": [
    "q[1]"
   ]
  },
  {
   "cell_type": "code",
   "execution_count": 157,
   "id": "e5f9a628",
   "metadata": {},
   "outputs": [
    {
     "data": {
      "text/plain": [
       "array([[4, 5],\n",
       "       [7, 8]])"
      ]
     },
     "execution_count": 157,
     "metadata": {},
     "output_type": "execute_result"
    }
   ],
   "source": [
    "q[1:,:2]"
   ]
  },
  {
   "cell_type": "code",
   "execution_count": 163,
   "id": "0f8e3d93",
   "metadata": {},
   "outputs": [
    {
     "data": {
      "text/plain": [
       "array([[5, 6]])"
      ]
     },
     "execution_count": 163,
     "metadata": {},
     "output_type": "execute_result"
    }
   ],
   "source": [
    "q[1:2,[1,2]]"
   ]
  },
  {
   "cell_type": "code",
   "execution_count": 165,
   "id": "919e36ba",
   "metadata": {},
   "outputs": [],
   "source": [
    "q[0,1]=35"
   ]
  },
  {
   "cell_type": "code",
   "execution_count": 166,
   "id": "1c50ad3c",
   "metadata": {},
   "outputs": [
    {
     "name": "stdout",
     "output_type": "stream",
     "text": [
      "[[ 1 35  3]\n",
      " [ 4  5  6]\n",
      " [ 7  8  9]]\n"
     ]
    }
   ],
   "source": [
    "print(q)"
   ]
  },
  {
   "cell_type": "code",
   "execution_count": 168,
   "id": "b72fbf99",
   "metadata": {},
   "outputs": [],
   "source": [
    "q[1,0]=100"
   ]
  },
  {
   "cell_type": "code",
   "execution_count": 169,
   "id": "e9a1de45",
   "metadata": {},
   "outputs": [
    {
     "name": "stdout",
     "output_type": "stream",
     "text": [
      "[[  1  35   3]\n",
      " [100   5   6]\n",
      " [  7   8   9]]\n"
     ]
    }
   ],
   "source": [
    "print(q)"
   ]
  },
  {
   "cell_type": "code",
   "execution_count": 173,
   "id": "1a902d6c",
   "metadata": {},
   "outputs": [],
   "source": [
    "m=np.random.randint(10,100,15)"
   ]
  },
  {
   "cell_type": "code",
   "execution_count": 174,
   "id": "c17967bb",
   "metadata": {},
   "outputs": [
    {
     "name": "stdout",
     "output_type": "stream",
     "text": [
      "[27 20 10 10 45 38 51 45 95 55 98 70 96 97 21]\n"
     ]
    }
   ],
   "source": [
    "print(m)"
   ]
  },
  {
   "cell_type": "raw",
   "id": "2646e9f4",
   "metadata": {},
   "source": []
  },
  {
   "cell_type": "code",
   "execution_count": null,
   "id": "a449b1ad",
   "metadata": {},
   "outputs": [],
   "source": []
  }
 ],
 "metadata": {
  "kernelspec": {
   "display_name": "Python 3 (ipykernel)",
   "language": "python",
   "name": "python3"
  },
  "language_info": {
   "codemirror_mode": {
    "name": "ipython",
    "version": 3
   },
   "file_extension": ".py",
   "mimetype": "text/x-python",
   "name": "python",
   "nbconvert_exporter": "python",
   "pygments_lexer": "ipython3",
   "version": "3.9.12"
  }
 },
 "nbformat": 4,
 "nbformat_minor": 5
}
