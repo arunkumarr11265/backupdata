{
 "cells": [
  {
   "cell_type": "markdown",
   "id": "461f20cb",
   "metadata": {},
   "source": [
    "# functions\n"
   ]
  },
  {
   "cell_type": "code",
   "execution_count": 41,
   "id": "56bf8573",
   "metadata": {},
   "outputs": [],
   "source": [
    "def say_hello():\n",
    "    print('this is just an example')"
   ]
  },
  {
   "cell_type": "code",
   "execution_count": 42,
   "id": "f13954eb",
   "metadata": {},
   "outputs": [
    {
     "name": "stdout",
     "output_type": "stream",
     "text": [
      "this is just an example\n"
     ]
    }
   ],
   "source": [
    "say_hello()"
   ]
  },
  {
   "cell_type": "code",
   "execution_count": 43,
   "id": "60bd3d89",
   "metadata": {},
   "outputs": [],
   "source": [
    "def greeting(name):\n",
    "    print('hello',name)"
   ]
  },
  {
   "cell_type": "code",
   "execution_count": 44,
   "id": "15eda20b",
   "metadata": {},
   "outputs": [
    {
     "name": "stdout",
     "output_type": "stream",
     "text": [
      "hello good morning\n"
     ]
    }
   ],
   "source": [
    "greeting('good morning')"
   ]
  },
  {
   "cell_type": "code",
   "execution_count": 45,
   "id": "93c95055",
   "metadata": {},
   "outputs": [],
   "source": [
    "def sal_incr(fixed_sal,house_rent):\n",
    "    total_sal=(fixed_sal+house_rent)\n",
    "    \n",
    "    if total_sal<=9000:\n",
    "        total_sal+1000\n",
    "    \n",
    "    else:\n",
    "        total_sal+500"
   ]
  },
  {
   "cell_type": "code",
   "execution_count": 46,
   "id": "d991c171",
   "metadata": {},
   "outputs": [
    {
     "name": "stdout",
     "output_type": "stream",
     "text": [
      "your new salary- None\n"
     ]
    }
   ],
   "source": [
    "print('your new salary-',sal_incr(2000,6000))"
   ]
  },
  {
   "cell_type": "code",
   "execution_count": 47,
   "id": "ab118c12",
   "metadata": {},
   "outputs": [],
   "source": [
    "def sal_incr(fixed_sal,house_rent):\n",
    "    total_sal=(fixed_sal+house_rent)\n",
    "    \n",
    "    if total_sal<=9000:\n",
    "        return total_sal+1000\n",
    "    \n",
    "    else:\n",
    "        return total_sal+500"
   ]
  },
  {
   "cell_type": "code",
   "execution_count": 48,
   "id": "4acd9b65",
   "metadata": {},
   "outputs": [
    {
     "name": "stdout",
     "output_type": "stream",
     "text": [
      "your new salary- 10500\n"
     ]
    }
   ],
   "source": [
    "print('your new salary-',sal_incr(6000,4000))"
   ]
  },
  {
   "cell_type": "code",
   "execution_count": 95,
   "id": "48f680b8",
   "metadata": {},
   "outputs": [],
   "source": [
    "def used_car_price(year,brand,kms):\n",
    "    if year==2020:\n",
    "        if brand=='honda_civic':\n",
    "            if 15000>kms>10000:\n",
    "                print('rs 100000 -rs 150000')\n",
    "        elif brand=='hyundai_creta':\n",
    "            if 15000>kms>10000:\n",
    "                print('rs 110000 -rs 140000')\n",
    "        elif brand=='audi_q7':\n",
    "            if 15000>kms>10000:\n",
    "                print('rs 200000 -rs 250000')\n",
    "        else:\n",
    "            print('no stock available right now, please visit after few days')\n",
    "            \n",
    "    elif year==2019:\n",
    "        if brand=='honda_civic':\n",
    "            if 15000>kms>10000:\n",
    "                print('rs 800000 -rs 1100000')\n",
    "        elif brand=='hyundai_creta':\n",
    "            if 15000>kms>10000:\n",
    "                print('rs 700000 -rs 1000000')\n",
    "        elif brand=='audi_q7':\n",
    "            if 15000>kms>10000:\n",
    "                print('rs 1800000 -rs 2100000')\n",
    "        else: print('no stock available right now, please visit after few days')\n",
    "9           \n",
    "    else:\n",
    "        print (\"sorrry, we don't have required car in stocks\")"
   ]
  },
  {
   "cell_type": "code",
   "execution_count": 99,
   "id": "4c91a2ea",
   "metadata": {},
   "outputs": [
    {
     "name": "stdout",
     "output_type": "stream",
     "text": [
      "rs 100000 -rs 150000\n"
     ]
    }
   ],
   "source": [
    " \n",
    "used_car_price(2020,'honda_civic',13000)"
   ]
  },
  {
   "cell_type": "code",
   "execution_count": 97,
   "id": "f13c3779",
   "metadata": {},
   "outputs": [
    {
     "name": "stdout",
     "output_type": "stream",
     "text": [
      "rs 1800000 -rs 2100000\n"
     ]
    }
   ],
   "source": [
    "used_car_price(2019,'audi_q7',11000)"
   ]
  },
  {
   "cell_type": "markdown",
   "id": "af164e6b",
   "metadata": {},
   "source": [
    "# lambda function"
   ]
  },
  {
   "cell_type": "code",
   "execution_count": 100,
   "id": "74cb96f8",
   "metadata": {},
   "outputs": [
    {
     "data": {
      "text/plain": [
       "<function __main__.<lambda>(arguments)>"
      ]
     },
     "execution_count": 100,
     "metadata": {},
     "output_type": "execute_result"
    }
   ],
   "source": [
    "lambda arguments : expression"
   ]
  },
  {
   "cell_type": "code",
   "execution_count": 101,
   "id": "6a683ce5",
   "metadata": {},
   "outputs": [],
   "source": [
    "add_num=lambda y:y+70"
   ]
  },
  {
   "cell_type": "code",
   "execution_count": 102,
   "id": "57f0c6cb",
   "metadata": {},
   "outputs": [
    {
     "name": "stdout",
     "output_type": "stream",
     "text": [
      "100\n"
     ]
    }
   ],
   "source": [
    "print(add_num(30))"
   ]
  },
  {
   "cell_type": "code",
   "execution_count": 103,
   "id": "e53a33ee",
   "metadata": {},
   "outputs": [],
   "source": [
    "num=lambda a,b:a*b"
   ]
  },
  {
   "cell_type": "code",
   "execution_count": 104,
   "id": "6df6a7d8",
   "metadata": {},
   "outputs": [
    {
     "name": "stdout",
     "output_type": "stream",
     "text": [
      "3430\n"
     ]
    }
   ],
   "source": [
    "print(num(70,49))"
   ]
  },
  {
   "cell_type": "code",
   "execution_count": 109,
   "id": "27cc0fbc",
   "metadata": {},
   "outputs": [],
   "source": [
    "f=lambda b,c:b/c"
   ]
  },
  {
   "cell_type": "code",
   "execution_count": 110,
   "id": "b103e6a4",
   "metadata": {},
   "outputs": [
    {
     "name": "stdout",
     "output_type": "stream",
     "text": [
      "5.0\n"
     ]
    }
   ],
   "source": [
    "print(f(10,2))"
   ]
  },
  {
   "cell_type": "markdown",
   "id": "fdb59fb4",
   "metadata": {},
   "source": [
    "## *args and **kwargs"
   ]
  },
  {
   "cell_type": "code",
   "execution_count": 111,
   "id": "dece290a",
   "metadata": {},
   "outputs": [],
   "source": [
    "def my_fun(*args):\n",
    "    for i in args:\n",
    "        print('my args', i)"
   ]
  },
  {
   "cell_type": "code",
   "execution_count": 112,
   "id": "f31c07b7",
   "metadata": {},
   "outputs": [
    {
     "name": "stdout",
     "output_type": "stream",
     "text": [
      "my args india\n",
      "my args delhi\n",
      "my args 110059\n",
      "my args 432\n",
      "my args 18\n",
      "my args 95\n"
     ]
    }
   ],
   "source": [
    "my_fun('india','delhi',110059,432,18,95)"
   ]
  },
  {
   "cell_type": "code",
   "execution_count": 116,
   "id": "7af5e129",
   "metadata": {},
   "outputs": [],
   "source": [
    "def my_kwargs(**kwargs):\n",
    "    for key,value in kwargs.items():\n",
    "        \n",
    "        print (key,'=',value)"
   ]
  },
  {
   "cell_type": "code",
   "execution_count": 117,
   "id": "abcefb8a",
   "metadata": {},
   "outputs": [
    {
     "name": "stdout",
     "output_type": "stream",
     "text": [
      "students = ['ramesh', 'shekhar']\n",
      "marks = [70, 75]\n"
     ]
    }
   ],
   "source": [
    "my_kwargs(students=['ramesh','shekhar'],marks=[70,75])"
   ]
  },
  {
   "cell_type": "markdown",
   "id": "c8a22745",
   "metadata": {},
   "source": [
    "# string indexing"
   ]
  },
  {
   "cell_type": "code",
   "execution_count": 120,
   "id": "4743aec6",
   "metadata": {},
   "outputs": [],
   "source": [
    "s='this batch rocks'"
   ]
  },
  {
   "cell_type": "code",
   "execution_count": 122,
   "id": "4ff03a00",
   "metadata": {},
   "outputs": [
    {
     "data": {
      "text/plain": [
       "'his ba'"
      ]
     },
     "execution_count": 122,
     "metadata": {},
     "output_type": "execute_result"
    }
   ],
   "source": [
    "s[1:7]"
   ]
  },
  {
   "cell_type": "code",
   "execution_count": 123,
   "id": "92618b3f",
   "metadata": {},
   "outputs": [
    {
     "data": {
      "text/plain": [
       "'ti ac o'"
      ]
     },
     "execution_count": 123,
     "metadata": {},
     "output_type": "execute_result"
    }
   ],
   "source": [
    "s[0:14:2]"
   ]
  },
  {
   "cell_type": "code",
   "execution_count": 124,
   "id": "b744df59",
   "metadata": {},
   "outputs": [
    {
     "data": {
      "text/plain": [
       "'h t c'"
      ]
     },
     "execution_count": 124,
     "metadata": {},
     "output_type": "execute_result"
    }
   ],
   "source": [
    "s[1:15:3]"
   ]
  },
  {
   "cell_type": "markdown",
   "id": "2b096158",
   "metadata": {},
   "source": [
    "## map"
   ]
  },
  {
   "cell_type": "code",
   "execution_count": 125,
   "id": "681bf640",
   "metadata": {},
   "outputs": [],
   "source": [
    "def grace_marks(marks):\n",
    "    if marks==33:\n",
    "        return (marks+2)\n",
    "    elif marks==34:\n",
    "        return (marks+1)\n",
    "    \n",
    "    else:\n",
    "        return marks"
   ]
  },
  {
   "cell_type": "code",
   "execution_count": null,
   "id": "21604f70",
   "metadata": {},
   "outputs": [],
   "source": []
  }
 ],
 "metadata": {
  "kernelspec": {
   "display_name": "Python 3 (ipykernel)",
   "language": "python",
   "name": "python3"
  },
  "language_info": {
   "codemirror_mode": {
    "name": "ipython",
    "version": 3
   },
   "file_extension": ".py",
   "mimetype": "text/x-python",
   "name": "python",
   "nbconvert_exporter": "python",
   "pygments_lexer": "ipython3",
   "version": "3.9.12"
  }
 },
 "nbformat": 4,
 "nbformat_minor": 5
}
