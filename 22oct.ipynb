{
 "cells": [
  {
   "cell_type": "code",
   "execution_count": 3,
   "id": "cadb88dc",
   "metadata": {},
   "outputs": [
    {
     "name": "stdout",
     "output_type": "stream",
     "text": [
      "0\n",
      "1\n",
      "2\n",
      "3\n",
      "4\n",
      "5\n",
      "6\n",
      "7\n",
      "8\n",
      "9\n"
     ]
    }
   ],
   "source": [
    "for n in range(10):\n",
    "    print(n)"
   ]
  },
  {
   "cell_type": "code",
   "execution_count": 14,
   "id": "a8cb03f7",
   "metadata": {},
   "outputs": [
    {
     "name": "stdout",
     "output_type": "stream",
     "text": [
      "0\n",
      "2\n",
      "4\n",
      "6\n",
      "8\n"
     ]
    }
   ],
   "source": [
    "for n in range(10):\n",
    "    if n%2==0:\n",
    "        print(n)\n",
    "    "
   ]
  },
  {
   "cell_type": "code",
   "execution_count": 17,
   "id": "0b6a10c2",
   "metadata": {},
   "outputs": [],
   "source": [
    "price=500\n",
    "tax=(2/100)* price\n"
   ]
  },
  {
   "cell_type": "code",
   "execution_count": 18,
   "id": "8086159a",
   "metadata": {},
   "outputs": [
    {
     "data": {
      "text/plain": [
       "10.0"
      ]
     },
     "execution_count": 18,
     "metadata": {},
     "output_type": "execute_result"
    }
   ],
   "source": [
    "tax"
   ]
  },
  {
   "cell_type": "code",
   "execution_count": 20,
   "id": "dad26826",
   "metadata": {},
   "outputs": [],
   "source": [
    "final_price=tax+price"
   ]
  },
  {
   "cell_type": "code",
   "execution_count": 21,
   "id": "35835328",
   "metadata": {},
   "outputs": [
    {
     "data": {
      "text/plain": [
       "510.0"
      ]
     },
     "execution_count": 21,
     "metadata": {},
     "output_type": "execute_result"
    }
   ],
   "source": [
    "final_price"
   ]
  },
  {
   "cell_type": "code",
   "execution_count": 22,
   "id": "bcd8e7b8",
   "metadata": {},
   "outputs": [],
   "source": [
    "m=500"
   ]
  },
  {
   "cell_type": "code",
   "execution_count": 27,
   "id": "97c2f178",
   "metadata": {},
   "outputs": [
    {
     "name": "stdout",
     "output_type": "stream",
     "text": [
      "m is a multiple of 10\n"
     ]
    }
   ],
   "source": [
    "if m%10==0:\n",
    "    print('m is a multiple of 10')\n",
    "elif m%5==0:\n",
    "    print('m is a multiple of 5')\n",
    "else:\n",
    "    print('m is not a multiple of 10,5')"
   ]
  },
  {
   "cell_type": "code",
   "execution_count": 28,
   "id": "a849e72c",
   "metadata": {},
   "outputs": [],
   "source": [
    "city=['Delhi','Mumbai','Jaipur']"
   ]
  },
  {
   "cell_type": "code",
   "execution_count": 29,
   "id": "79a1dc82",
   "metadata": {},
   "outputs": [
    {
     "data": {
      "text/plain": [
       "list"
      ]
     },
     "execution_count": 29,
     "metadata": {},
     "output_type": "execute_result"
    }
   ],
   "source": [
    "type(city)"
   ]
  },
  {
   "cell_type": "code",
   "execution_count": 30,
   "id": "011c92b3",
   "metadata": {},
   "outputs": [
    {
     "data": {
      "text/plain": [
       "3"
      ]
     },
     "execution_count": 30,
     "metadata": {},
     "output_type": "execute_result"
    }
   ],
   "source": [
    "len(city)"
   ]
  },
  {
   "cell_type": "code",
   "execution_count": 31,
   "id": "7c6727cd",
   "metadata": {},
   "outputs": [],
   "source": [
    "p=city"
   ]
  },
  {
   "cell_type": "code",
   "execution_count": 32,
   "id": "6c8eacf4",
   "metadata": {},
   "outputs": [
    {
     "data": {
      "text/plain": [
       "['Delhi', 'Mumbai', 'Jaipur']"
      ]
     },
     "execution_count": 32,
     "metadata": {},
     "output_type": "execute_result"
    }
   ],
   "source": [
    "p"
   ]
  },
  {
   "cell_type": "code",
   "execution_count": 33,
   "id": "5e96af0b",
   "metadata": {},
   "outputs": [
    {
     "name": "stdout",
     "output_type": "stream",
     "text": [
      "Delhi\n",
      "Mumbai\n",
      "Jaipur\n"
     ]
    }
   ],
   "source": [
    "for q in p:\n",
    "    print (q)"
   ]
  },
  {
   "cell_type": "code",
   "execution_count": 34,
   "id": "0b59167b",
   "metadata": {},
   "outputs": [
    {
     "name": "stdout",
     "output_type": "stream",
     "text": [
      "Delhi\n",
      "D\n",
      "e\n",
      "l\n",
      "h\n",
      "i\n",
      "Mumbai\n",
      "M\n",
      "u\n",
      "m\n",
      "b\n",
      "a\n",
      "i\n",
      "Jaipur\n",
      "J\n",
      "a\n",
      "i\n",
      "p\n",
      "u\n",
      "r\n"
     ]
    }
   ],
   "source": [
    "for q in p:\n",
    "    print(q)\n",
    "    for w in q:\n",
    "        print(w)"
   ]
  },
  {
   "cell_type": "markdown",
   "id": "c58b29a9",
   "metadata": {},
   "source": [
    "# orielly publications"
   ]
  },
  {
   "cell_type": "markdown",
   "id": "da652078",
   "metadata": {},
   "source": [
    "## books\n",
    "\n",
    "#### . python programming amazon\n",
    "#### . statistics- think stats\n",
    "#### . SQL- SQl programming\n",
    "#### . Data Science- hands on machine learning, with scikit learn, keras and tensorflow"
   ]
  },
  {
   "cell_type": "code",
   "execution_count": 42,
   "id": "79ac3f09",
   "metadata": {},
   "outputs": [
    {
     "ename": "TypeError",
     "evalue": "list indices must be integers or slices, not str",
     "output_type": "error",
     "traceback": [
      "\u001b[1;31m---------------------------------------------------------------------------\u001b[0m",
      "\u001b[1;31mTypeError\u001b[0m                                 Traceback (most recent call last)",
      "Input \u001b[1;32mIn [42]\u001b[0m, in \u001b[0;36m<cell line: 1>\u001b[1;34m()\u001b[0m\n\u001b[1;32m----> 1\u001b[0m \u001b[43mp\u001b[49m\u001b[43m[\u001b[49m\u001b[38;5;124;43m'\u001b[39;49m\u001b[38;5;124;43mcity\u001b[39;49m\u001b[38;5;124;43m'\u001b[39;49m\u001b[43m]\u001b[49m[\u001b[38;5;241m0\u001b[39m]\u001b[38;5;241m+\u001b[39mp[\u001b[38;5;124m'\u001b[39m\u001b[38;5;124mcity\u001b[39m\u001b[38;5;124m'\u001b[39m][\u001b[38;5;241m1\u001b[39m]\n",
      "\u001b[1;31mTypeError\u001b[0m: list indices must be integers or slices, not str"
     ]
    }
   ],
   "source": [
    "p['city'][0]+p['city'][1]\n"
   ]
  },
  {
   "cell_type": "code",
   "execution_count": 38,
   "id": "22ece388",
   "metadata": {},
   "outputs": [
    {
     "data": {
      "text/plain": [
       "['Delhi', 'Mumbai', 'Jaipur']"
      ]
     },
     "execution_count": 38,
     "metadata": {},
     "output_type": "execute_result"
    }
   ],
   "source": [
    "p"
   ]
  },
  {
   "cell_type": "code",
   "execution_count": 39,
   "id": "5e13fa64",
   "metadata": {},
   "outputs": [
    {
     "data": {
      "text/plain": [
       "'Mumbai'"
      ]
     },
     "execution_count": 39,
     "metadata": {},
     "output_type": "execute_result"
    }
   ],
   "source": [
    "p[1]"
   ]
  },
  {
   "cell_type": "code",
   "execution_count": 40,
   "id": "7898a48f",
   "metadata": {},
   "outputs": [
    {
     "data": {
      "text/plain": [
       "'MumbaiDelhi'"
      ]
     },
     "execution_count": 40,
     "metadata": {},
     "output_type": "execute_result"
    }
   ],
   "source": [
    "p[1]+p[0]"
   ]
  },
  {
   "cell_type": "code",
   "execution_count": 44,
   "id": "f4bbd09d",
   "metadata": {},
   "outputs": [
    {
     "data": {
      "text/plain": [
       "'Delhi, Mumbai'"
      ]
     },
     "execution_count": 44,
     "metadata": {},
     "output_type": "execute_result"
    }
   ],
   "source": [
    "p[0]+', '+p[1]"
   ]
  },
  {
   "cell_type": "code",
   "execution_count": 45,
   "id": "fbebb103",
   "metadata": {},
   "outputs": [],
   "source": [
    "p.reverse()"
   ]
  },
  {
   "cell_type": "code",
   "execution_count": 46,
   "id": "206ab93c",
   "metadata": {},
   "outputs": [
    {
     "data": {
      "text/plain": [
       "['Jaipur', 'Mumbai', 'Delhi']"
      ]
     },
     "execution_count": 46,
     "metadata": {},
     "output_type": "execute_result"
    }
   ],
   "source": [
    "p"
   ]
  },
  {
   "cell_type": "code",
   "execution_count": 48,
   "id": "a927c991",
   "metadata": {},
   "outputs": [
    {
     "name": "stderr",
     "output_type": "stream",
     "text": [
      "<>:1: SyntaxWarning: \"is\" with a literal. Did you mean \"==\"?\n",
      "<>:1: SyntaxWarning: \"is\" with a literal. Did you mean \"==\"?\n",
      "C:\\Users\\arunk\\AppData\\Local\\Temp\\ipykernel_10572\\897239664.py:1: SyntaxWarning: \"is\" with a literal. Did you mean \"==\"?\n",
      "  11 is 12\n"
     ]
    },
    {
     "data": {
      "text/plain": [
       "False"
      ]
     },
     "execution_count": 48,
     "metadata": {},
     "output_type": "execute_result"
    }
   ],
   "source": [
    "11 is 12"
   ]
  },
  {
   "cell_type": "code",
   "execution_count": 49,
   "id": "86afa713",
   "metadata": {},
   "outputs": [],
   "source": [
    "h=list(range(11))"
   ]
  },
  {
   "cell_type": "code",
   "execution_count": 50,
   "id": "57e85c15",
   "metadata": {},
   "outputs": [
    {
     "data": {
      "text/plain": [
       "[0, 1, 2, 3, 4, 5, 6, 7, 8, 9, 10]"
      ]
     },
     "execution_count": 50,
     "metadata": {},
     "output_type": "execute_result"
    }
   ],
   "source": [
    "h"
   ]
  },
  {
   "cell_type": "code",
   "execution_count": 51,
   "id": "a80268bb",
   "metadata": {},
   "outputs": [],
   "source": [
    "def do(h):\n",
    "    return h*10"
   ]
  },
  {
   "cell_type": "code",
   "execution_count": 52,
   "id": "04bb7bab",
   "metadata": {},
   "outputs": [
    {
     "data": {
      "text/plain": [
       "<map at 0x1f5f3459ca0>"
      ]
     },
     "execution_count": 52,
     "metadata": {},
     "output_type": "execute_result"
    }
   ],
   "source": [
    "map(do,h)"
   ]
  },
  {
   "cell_type": "code",
   "execution_count": 53,
   "id": "e4c3ba28",
   "metadata": {},
   "outputs": [
    {
     "data": {
      "text/plain": [
       "[0, 10, 20, 30, 40, 50, 60, 70, 80, 90, 100]"
      ]
     },
     "execution_count": 53,
     "metadata": {},
     "output_type": "execute_result"
    }
   ],
   "source": [
    "list(map(do,h))"
   ]
  },
  {
   "cell_type": "code",
   "execution_count": 54,
   "id": "c9d49664",
   "metadata": {},
   "outputs": [],
   "source": [
    "k=list(map(do,h))"
   ]
  },
  {
   "cell_type": "code",
   "execution_count": 55,
   "id": "c6c00a27",
   "metadata": {},
   "outputs": [
    {
     "data": {
      "text/plain": [
       "[0, 10, 20, 30, 40, 50, 60, 70, 80, 90, 100]"
      ]
     },
     "execution_count": 55,
     "metadata": {},
     "output_type": "execute_result"
    }
   ],
   "source": [
    "k"
   ]
  },
  {
   "cell_type": "code",
   "execution_count": 59,
   "id": "68d4f385",
   "metadata": {},
   "outputs": [],
   "source": [
    "def op(k):\n",
    "    if k%20==0:\n",
    "        return k"
   ]
  },
  {
   "cell_type": "code",
   "execution_count": 60,
   "id": "b365b6d0",
   "metadata": {},
   "outputs": [
    {
     "data": {
      "text/plain": [
       "<filter at 0x1f5f345c130>"
      ]
     },
     "execution_count": 60,
     "metadata": {},
     "output_type": "execute_result"
    }
   ],
   "source": [
    "filter(op,k)"
   ]
  },
  {
   "cell_type": "code",
   "execution_count": 61,
   "id": "2a574a65",
   "metadata": {},
   "outputs": [
    {
     "data": {
      "text/plain": [
       "[20, 40, 60, 80, 100]"
      ]
     },
     "execution_count": 61,
     "metadata": {},
     "output_type": "execute_result"
    }
   ],
   "source": [
    "list(filter(op,k))"
   ]
  },
  {
   "cell_type": "code",
   "execution_count": 62,
   "id": "57209cab",
   "metadata": {},
   "outputs": [
    {
     "data": {
      "text/plain": [
       "<enumerate at 0x1f5f347ca00>"
      ]
     },
     "execution_count": 62,
     "metadata": {},
     "output_type": "execute_result"
    }
   ],
   "source": [
    "enumerate(p)"
   ]
  },
  {
   "cell_type": "code",
   "execution_count": 63,
   "id": "805b8518",
   "metadata": {},
   "outputs": [
    {
     "data": {
      "text/plain": [
       "[(0, 'Jaipur'), (1, 'Mumbai'), (2, 'Delhi')]"
      ]
     },
     "execution_count": 63,
     "metadata": {},
     "output_type": "execute_result"
    }
   ],
   "source": [
    "list(enumerate(p))"
   ]
  },
  {
   "cell_type": "code",
   "execution_count": null,
   "id": "64d5b943",
   "metadata": {},
   "outputs": [],
   "source": []
  }
 ],
 "metadata": {
  "kernelspec": {
   "display_name": "Python 3 (ipykernel)",
   "language": "python",
   "name": "python3"
  },
  "language_info": {
   "codemirror_mode": {
    "name": "ipython",
    "version": 3
   },
   "file_extension": ".py",
   "mimetype": "text/x-python",
   "name": "python",
   "nbconvert_exporter": "python",
   "pygments_lexer": "ipython3",
   "version": "3.9.12"
  }
 },
 "nbformat": 4,
 "nbformat_minor": 5
}
