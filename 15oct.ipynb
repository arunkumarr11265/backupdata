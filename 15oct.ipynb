{
 "cells": [
  {
   "cell_type": "markdown",
   "id": "9da8e3e4",
   "metadata": {},
   "source": [
    "# for loop"
   ]
  },
  {
   "cell_type": "code",
   "execution_count": 1,
   "id": "e99d50ed",
   "metadata": {},
   "outputs": [],
   "source": [
    "cities=['Banglore','Delhi','Mumbai','Agra','Noida']"
   ]
  },
  {
   "cell_type": "code",
   "execution_count": 2,
   "id": "fd67c629",
   "metadata": {},
   "outputs": [
    {
     "name": "stdout",
     "output_type": "stream",
     "text": [
      "['Banglore', 'Delhi', 'Mumbai', 'Agra', 'Noida']\n"
     ]
    }
   ],
   "source": [
    "print(cities)"
   ]
  },
  {
   "cell_type": "code",
   "execution_count": 3,
   "id": "640b6fd4",
   "metadata": {},
   "outputs": [
    {
     "name": "stdout",
     "output_type": "stream",
     "text": [
      "Banglore\n",
      "Delhi\n",
      "Mumbai\n",
      "Agra\n",
      "Noida\n"
     ]
    }
   ],
   "source": [
    "for names in cities:\n",
    "    print(names)"
   ]
  },
  {
   "cell_type": "code",
   "execution_count": 4,
   "id": "b1354063",
   "metadata": {},
   "outputs": [],
   "source": [
    "salaries=[1500,2000,2500,3000,3500,4000,4500]"
   ]
  },
  {
   "cell_type": "code",
   "execution_count": 5,
   "id": "226b7a84",
   "metadata": {},
   "outputs": [
    {
     "name": "stdout",
     "output_type": "stream",
     "text": [
      "2500\n",
      "3000\n",
      "3500\n",
      "4000\n",
      "4500\n"
     ]
    }
   ],
   "source": [
    "for salary in salaries:\n",
    "    if salary >=2500:\n",
    "        print(salary)"
   ]
  },
  {
   "cell_type": "code",
   "execution_count": 6,
   "id": "a92235b0",
   "metadata": {},
   "outputs": [],
   "source": [
    "student_marks=[25,5,86,97,89,47,34,47,4,8,34,25,17,80,56,78,34,78,98,93,73,19,100,54]"
   ]
  },
  {
   "cell_type": "code",
   "execution_count": 7,
   "id": "e65edcc0",
   "metadata": {},
   "outputs": [
    {
     "name": "stdout",
     "output_type": "stream",
     "text": [
      "25 -fail,study!\n",
      "5 -fail,study!\n",
      "86 -distinctions\n",
      "97 -distinctions\n",
      "89 -distinctions\n",
      "47 -pass\n",
      "34 -fail,study!\n",
      "47 -pass\n",
      "4 -fail,study!\n",
      "8 -fail,study!\n",
      "34 -fail,study!\n",
      "25 -fail,study!\n",
      "17 -fail,study!\n",
      "80 -distinctions\n",
      "56 -second class\n",
      "78 -distinctions\n",
      "34 -fail,study!\n",
      "78 -distinctions\n",
      "98 -distinctions\n",
      "93 -distinctions\n",
      "73 -distinctions\n",
      "19 -fail,study!\n",
      "100 -distinctions\n",
      "54 -second class\n"
     ]
    }
   ],
   "source": [
    "for marks in student_marks:\n",
    "    if marks>70:\n",
    "        print(marks,'-distinctions')\n",
    "        \n",
    "    elif marks>60 and marks<70:\n",
    "        print(marks,'-first class')\n",
    "        \n",
    "    elif marks>50 and marks<60:\n",
    "        print(marks,'-second class')\\\n",
    "        \n",
    "    if marks<50:\n",
    "            if marks>35 and marks<50:\n",
    "                print(marks,'-pass')\n",
    "            else:\n",
    "                print(marks,'-fail,study!')"
   ]
  },
  {
   "cell_type": "markdown",
   "id": "80840c6e",
   "metadata": {},
   "source": [
    "# for loop with else"
   ]
  },
  {
   "cell_type": "code",
   "execution_count": 8,
   "id": "9c49d82d",
   "metadata": {},
   "outputs": [],
   "source": [
    "numbers=[1,2,3,4,5,6,7,8,9]"
   ]
  },
  {
   "cell_type": "code",
   "execution_count": 9,
   "id": "b5468be1",
   "metadata": {},
   "outputs": [
    {
     "name": "stdout",
     "output_type": "stream",
     "text": [
      "multiplication table for 1\n",
      "1\n",
      "2\n",
      "3\n",
      "4\n",
      "5\n",
      "6\n",
      "7\n",
      "8\n",
      "9\n",
      "10\n",
      "\n",
      "\n",
      "multiplication table for 2\n",
      "2\n",
      "4\n",
      "6\n",
      "8\n",
      "10\n",
      "12\n",
      "14\n",
      "16\n",
      "18\n",
      "20\n",
      "\n",
      "\n",
      "multiplication table for 3\n",
      "3\n",
      "6\n",
      "9\n",
      "12\n",
      "15\n",
      "18\n",
      "21\n",
      "24\n",
      "27\n",
      "30\n",
      "\n",
      "\n",
      "multiplication table for 4\n",
      "4\n",
      "8\n",
      "12\n",
      "16\n",
      "20\n",
      "24\n",
      "28\n",
      "32\n",
      "36\n",
      "40\n",
      "\n",
      "\n",
      "multiplication table for 5\n",
      "5\n",
      "10\n",
      "15\n",
      "20\n",
      "25\n",
      "30\n",
      "35\n",
      "40\n",
      "45\n",
      "50\n",
      "\n",
      "\n",
      "multiplication table for 6\n",
      "6\n",
      "12\n",
      "18\n",
      "24\n",
      "30\n",
      "36\n",
      "42\n",
      "48\n",
      "54\n",
      "60\n",
      "\n",
      "\n",
      "multiplication table for 7\n",
      "7\n",
      "14\n",
      "21\n",
      "28\n",
      "35\n",
      "42\n",
      "49\n",
      "56\n",
      "63\n",
      "70\n",
      "\n",
      "\n",
      "multiplication table for 8\n",
      "8\n",
      "16\n",
      "24\n",
      "32\n",
      "40\n",
      "48\n",
      "56\n",
      "64\n",
      "72\n",
      "80\n",
      "\n",
      "\n",
      "multiplication table for 9\n",
      "9\n",
      "18\n",
      "27\n",
      "36\n",
      "45\n",
      "54\n",
      "63\n",
      "72\n",
      "81\n",
      "90\n",
      "\n",
      "\n",
      "********************\n",
      "end of multiplication table\n",
      "********************\n"
     ]
    }
   ],
   "source": [
    "for num in numbers:\n",
    "    print('multiplication table for', num)\n",
    "    for m in range(1,11):\n",
    "        print(num*m)\n",
    "        if m==10:\n",
    "            print('\\n')\n",
    "            \n",
    "else:\n",
    "    print('*'*20)\n",
    "    print('end of multiplication table')\n",
    "    print('*'*20)"
   ]
  },
  {
   "cell_type": "code",
   "execution_count": 10,
   "id": "29dd7655",
   "metadata": {},
   "outputs": [],
   "source": [
    "numbers=[21,22,23,24,25,26,27,28,29]"
   ]
  },
  {
   "cell_type": "code",
   "execution_count": 11,
   "id": "0599a16b",
   "metadata": {},
   "outputs": [
    {
     "name": "stdout",
     "output_type": "stream",
     "text": [
      "table for- 21\n",
      "21\n",
      "42\n",
      "63\n",
      "84\n",
      "105\n",
      "126\n",
      "147\n",
      "168\n",
      "189\n",
      "210\n",
      "\n",
      "\n",
      "table for- 22\n",
      "22\n",
      "44\n",
      "66\n",
      "88\n",
      "110\n",
      "132\n",
      "154\n",
      "176\n",
      "198\n",
      "220\n",
      "\n",
      "\n",
      "table for- 23\n",
      "23\n",
      "46\n",
      "69\n",
      "92\n",
      "115\n",
      "138\n",
      "161\n",
      "184\n",
      "207\n",
      "230\n",
      "\n",
      "\n",
      "table for- 24\n",
      "24\n",
      "48\n",
      "72\n",
      "96\n",
      "120\n",
      "144\n",
      "168\n",
      "192\n",
      "216\n",
      "240\n",
      "\n",
      "\n",
      "table for- 25\n",
      "25\n",
      "50\n",
      "75\n",
      "100\n",
      "125\n",
      "150\n",
      "175\n",
      "200\n",
      "225\n",
      "250\n",
      "\n",
      "\n",
      "table for- 26\n",
      "26\n",
      "52\n",
      "78\n",
      "104\n",
      "130\n",
      "156\n",
      "182\n",
      "208\n",
      "234\n",
      "260\n",
      "\n",
      "\n",
      "table for- 27\n",
      "27\n",
      "54\n",
      "81\n",
      "108\n",
      "135\n",
      "162\n",
      "189\n",
      "216\n",
      "243\n",
      "270\n",
      "\n",
      "\n",
      "table for- 28\n",
      "28\n",
      "56\n",
      "84\n",
      "112\n",
      "140\n",
      "168\n",
      "196\n",
      "224\n",
      "252\n",
      "280\n",
      "\n",
      "\n",
      "table for- 29\n",
      "29\n",
      "58\n",
      "87\n",
      "116\n",
      "145\n",
      "174\n",
      "203\n",
      "232\n",
      "261\n",
      "290\n",
      "\n",
      "\n"
     ]
    }
   ],
   "source": [
    "for digit in numbers:\n",
    "    print('table for-', digit)\n",
    "    for e in range(1,11):\n",
    "        print(digit*e)\n",
    "        if e==10:\n",
    "            print('\\n')"
   ]
  },
  {
   "cell_type": "markdown",
   "id": "7faa72ff",
   "metadata": {},
   "source": [
    "# While loop"
   ]
  },
  {
   "cell_type": "code",
   "execution_count": 26,
   "id": "5ea36465",
   "metadata": {},
   "outputs": [],
   "source": [
    "q=0"
   ]
  },
  {
   "cell_type": "code",
   "execution_count": 27,
   "id": "9bbc201a",
   "metadata": {},
   "outputs": [
    {
     "name": "stdout",
     "output_type": "stream",
     "text": [
      "dt\n",
      "dt\n",
      "dt\n",
      "dt\n",
      "dt\n",
      "dt\n",
      "dt\n",
      "dt\n",
      "dt\n",
      "dt\n"
     ]
    }
   ],
   "source": [
    "while q<10:\n",
    "    q=q+1\n",
    "    print('dt')"
   ]
  },
  {
   "cell_type": "code",
   "execution_count": 28,
   "id": "c50adf79",
   "metadata": {},
   "outputs": [],
   "source": [
    "i=0"
   ]
  },
  {
   "cell_type": "code",
   "execution_count": 29,
   "id": "94d74952",
   "metadata": {},
   "outputs": [
    {
     "name": "stdout",
     "output_type": "stream",
     "text": [
      "1 dt\n",
      "2 dt\n",
      "3 dt\n",
      "4 dt\n",
      "5 dt\n",
      "6 dt\n",
      "7 dt\n",
      "8 dt\n",
      "9 dt\n",
      "10 dt\n"
     ]
    }
   ],
   "source": [
    "while i<10:\n",
    "    i=i+1\n",
    "    print(i,'dt')"
   ]
  },
  {
   "cell_type": "code",
   "execution_count": 30,
   "id": "b1b3bd20",
   "metadata": {},
   "outputs": [
    {
     "name": "stdout",
     "output_type": "stream",
     "text": [
      "time.struct_time(tm_year=2022, tm_mon=10, tm_mday=20, tm_hour=15, tm_min=55, tm_sec=55, tm_wday=3, tm_yday=293, tm_isdst=0)\n"
     ]
    }
   ],
   "source": [
    "import time\n",
    "result=time.localtime()\n",
    "print(result)"
   ]
  },
  {
   "cell_type": "code",
   "execution_count": 33,
   "id": "8ee7ab8e",
   "metadata": {},
   "outputs": [
    {
     "name": "stdout",
     "output_type": "stream",
     "text": [
      "wake up!\n"
     ]
    }
   ],
   "source": [
    "while True:\n",
    "    result=time.localtime()\n",
    "    if result.tm_hour==15 and result.tm_min==59:\n",
    "        print('wake up!')\n",
    "        break"
   ]
  },
  {
   "cell_type": "markdown",
   "id": "97c86b6b",
   "metadata": {},
   "source": [
    "# Enumerate"
   ]
  },
  {
   "cell_type": "code",
   "execution_count": 34,
   "id": "d8f5cc37",
   "metadata": {},
   "outputs": [],
   "source": [
    "students=['arun','hrithik','mukul','gaurav']"
   ]
  },
  {
   "cell_type": "code",
   "execution_count": 35,
   "id": "940ca050",
   "metadata": {},
   "outputs": [
    {
     "name": "stdout",
     "output_type": "stream",
     "text": [
      "(0, 'arun')\n",
      "(1, 'hrithik')\n",
      "(2, 'mukul')\n",
      "(3, 'gaurav')\n"
     ]
    }
   ],
   "source": [
    "for name in enumerate(students):\n",
    "    print(name)"
   ]
  },
  {
   "cell_type": "code",
   "execution_count": 36,
   "id": "7c8d6fa7",
   "metadata": {},
   "outputs": [],
   "source": [
    "students.sort()"
   ]
  },
  {
   "cell_type": "code",
   "execution_count": 37,
   "id": "406a7d92",
   "metadata": {},
   "outputs": [
    {
     "data": {
      "text/plain": [
       "['arun', 'gaurav', 'hrithik', 'mukul']"
      ]
     },
     "execution_count": 37,
     "metadata": {},
     "output_type": "execute_result"
    }
   ],
   "source": [
    "students"
   ]
  },
  {
   "cell_type": "code",
   "execution_count": 41,
   "id": "0b0e1b62",
   "metadata": {},
   "outputs": [
    {
     "name": "stdout",
     "output_type": "stream",
     "text": [
      "(0, 'arun')\n",
      "(1, 'gaurav')\n",
      "(2, 'hrithik')\n",
      "(3, 'mukul')\n"
     ]
    }
   ],
   "source": [
    "for name in enumerate(students):\n",
    "    print(name)"
   ]
  },
  {
   "cell_type": "code",
   "execution_count": 42,
   "id": "d848036a",
   "metadata": {},
   "outputs": [
    {
     "name": "stdout",
     "output_type": "stream",
     "text": [
      "(1, 'arun')\n",
      "(2, 'gaurav')\n",
      "(3, 'hrithik')\n",
      "(4, 'mukul')\n"
     ]
    }
   ],
   "source": [
    "for name in enumerate(students,1):\n",
    "    print(name)"
   ]
  },
  {
   "cell_type": "markdown",
   "id": "d2805586",
   "metadata": {},
   "source": [
    "# zip"
   ]
  },
  {
   "cell_type": "code",
   "execution_count": 47,
   "id": "e880cb58",
   "metadata": {},
   "outputs": [],
   "source": [
    "students=['arun','hrithik','mukul','gaurav']\n",
    "marks=[10,9,10,1]"
   ]
  },
  {
   "cell_type": "code",
   "execution_count": 48,
   "id": "f3caa3c2",
   "metadata": {},
   "outputs": [],
   "source": [
    "student_details=list(zip(students,marks))"
   ]
  },
  {
   "cell_type": "code",
   "execution_count": 49,
   "id": "752d9a6c",
   "metadata": {},
   "outputs": [
    {
     "data": {
      "text/plain": [
       "[('arun', 10), ('hrithik', 9), ('mukul', 10), ('gaurav', 1)]"
      ]
     },
     "execution_count": 49,
     "metadata": {},
     "output_type": "execute_result"
    }
   ],
   "source": [
    "student_details"
   ]
  },
  {
   "cell_type": "markdown",
   "id": "2c483a89",
   "metadata": {},
   "source": [
    "# unzip"
   ]
  },
  {
   "cell_type": "code",
   "execution_count": 51,
   "id": "5df4d71f",
   "metadata": {},
   "outputs": [],
   "source": [
    "students,marks=zip(*student_details)"
   ]
  },
  {
   "cell_type": "code",
   "execution_count": 52,
   "id": "2684204e",
   "metadata": {},
   "outputs": [
    {
     "data": {
      "text/plain": [
       "('arun', 'hrithik', 'mukul', 'gaurav')"
      ]
     },
     "execution_count": 52,
     "metadata": {},
     "output_type": "execute_result"
    }
   ],
   "source": [
    "students"
   ]
  },
  {
   "cell_type": "code",
   "execution_count": 53,
   "id": "64ac94b8",
   "metadata": {},
   "outputs": [
    {
     "data": {
      "text/plain": [
       "(10, 9, 10, 1)"
      ]
     },
     "execution_count": 53,
     "metadata": {},
     "output_type": "execute_result"
    }
   ],
   "source": [
    "marks"
   ]
  },
  {
   "cell_type": "markdown",
   "id": "106558ae",
   "metadata": {},
   "source": [
    "# break"
   ]
  },
  {
   "cell_type": "code",
   "execution_count": 64,
   "id": "406f4adf",
   "metadata": {},
   "outputs": [],
   "source": [
    "cities=['delhi','noida','mumbai','banglore','ranchi']"
   ]
  },
  {
   "cell_type": "code",
   "execution_count": 67,
   "id": "474d432a",
   "metadata": {},
   "outputs": [
    {
     "name": "stdout",
     "output_type": "stream",
     "text": [
      "banglore\n"
     ]
    }
   ],
   "source": [
    "for imp in cities:\n",
    "    if imp=='banglore':\n",
    "        print(imp)"
   ]
  },
  {
   "cell_type": "code",
   "execution_count": 68,
   "id": "4d4c6f65",
   "metadata": {},
   "outputs": [
    {
     "name": "stdout",
     "output_type": "stream",
     "text": [
      "delhi\n",
      "noida\n",
      "mumbai\n",
      "banglore\n"
     ]
    }
   ],
   "source": [
    "for imp in cities:\n",
    "    if imp=='ranchi':\n",
    "        break\n",
    "    print(imp)"
   ]
  },
  {
   "cell_type": "code",
   "execution_count": 81,
   "id": "fc097432",
   "metadata": {},
   "outputs": [],
   "source": [
    "student_marks=[25,5,86,97,89,47,34,47,4,8,34,25,17,80,56,78,34,78,98,93,73,19,100,54]\n",
    "\n"
   ]
  },
  {
   "cell_type": "code",
   "execution_count": 82,
   "id": "13879673",
   "metadata": {},
   "outputs": [
    {
     "data": {
      "text/plain": [
       "[25,\n",
       " 5,\n",
       " 86,\n",
       " 97,\n",
       " 89,\n",
       " 47,\n",
       " 34,\n",
       " 47,\n",
       " 4,\n",
       " 8,\n",
       " 34,\n",
       " 25,\n",
       " 17,\n",
       " 80,\n",
       " 56,\n",
       " 78,\n",
       " 34,\n",
       " 78,\n",
       " 98,\n",
       " 93,\n",
       " 73,\n",
       " 19,\n",
       " 100,\n",
       " 54]"
      ]
     },
     "execution_count": 82,
     "metadata": {},
     "output_type": "execute_result"
    }
   ],
   "source": [
    "student_marks"
   ]
  },
  {
   "cell_type": "code",
   "execution_count": 110,
   "id": "314e85fa",
   "metadata": {},
   "outputs": [
    {
     "name": "stdout",
     "output_type": "stream",
     "text": [
      "25\n",
      "5\n",
      "4\n",
      "8\n",
      "25\n",
      "17\n",
      "19\n"
     ]
    }
   ],
   "source": [
    "for marks in student_marks:\n",
    "    if marks>25:\n",
    "        continue\n",
    "    print(marks)"
   ]
  },
  {
   "cell_type": "code",
   "execution_count": 112,
   "id": "eb80255f",
   "metadata": {},
   "outputs": [],
   "source": [
    "salary=[2000,3000,4000,4500,5000,7000,3500]"
   ]
  },
  {
   "cell_type": "code",
   "execution_count": 115,
   "id": "e09e581c",
   "metadata": {},
   "outputs": [
    {
     "name": "stdout",
     "output_type": "stream",
     "text": [
      "2000\n",
      "3000\n",
      "4000\n"
     ]
    }
   ],
   "source": [
    "for val in salary:\n",
    "    if val>4000:\n",
    "        break\n",
    "    print(val)"
   ]
  },
  {
   "cell_type": "markdown",
   "id": "845bc3d4",
   "metadata": {},
   "source": [
    "# function\n"
   ]
  },
  {
   "cell_type": "code",
   "execution_count": 124,
   "id": "dc2948c2",
   "metadata": {},
   "outputs": [],
   "source": [
    "def say_hello():\n",
    "    print('this is just an example')"
   ]
  },
  {
   "cell_type": "code",
   "execution_count": 126,
   "id": "2b2f8b40",
   "metadata": {},
   "outputs": [
    {
     "name": "stdout",
     "output_type": "stream",
     "text": [
      "this is just an example\n"
     ]
    }
   ],
   "source": [
    "say_hello()"
   ]
  },
  {
   "cell_type": "code",
   "execution_count": 127,
   "id": "fa2bbc6a",
   "metadata": {},
   "outputs": [],
   "source": [
    "def greeting(name):\n",
    "    print('hello', name)"
   ]
  },
  {
   "cell_type": "code",
   "execution_count": 128,
   "id": "e06bba1d",
   "metadata": {},
   "outputs": [
    {
     "name": "stdout",
     "output_type": "stream",
     "text": [
      "hello good afternoon\n"
     ]
    }
   ],
   "source": [
    "greeting('good afternoon')"
   ]
  },
  {
   "cell_type": "code",
   "execution_count": 132,
   "id": "a6a109db",
   "metadata": {},
   "outputs": [],
   "source": [
    " def salary_incr(fixed_salary,house_rent):\n",
    "        total_sal=(fixed_salary+house_rent)\n",
    "        \n",
    "        if total_sal<=9000:\n",
    "            total_sal+1000\n",
    "            \n",
    "        else:\n",
    "            total_sal"
   ]
  },
  {
   "cell_type": "code",
   "execution_count": 133,
   "id": "6f2e49f4",
   "metadata": {},
   "outputs": [
    {
     "name": "stdout",
     "output_type": "stream",
     "text": [
      "your new salary= None\n"
     ]
    }
   ],
   "source": [
    "print('your new salary=', salary_incr(6000,2000))"
   ]
  },
  {
   "cell_type": "code",
   "execution_count": 138,
   "id": "59c37e0f",
   "metadata": {},
   "outputs": [],
   "source": [
    "def salary_incr(fixed_salary,house_rent):\n",
    "    total_sal=(fixed_salary+house_rent)\n",
    "    \n",
    "    if total_sal<=9000:\n",
    "        return total_sal+1000\n",
    "    else:\n",
    "        return total_sal"
   ]
  },
  {
   "cell_type": "code",
   "execution_count": 142,
   "id": "513c6649",
   "metadata": {},
   "outputs": [
    {
     "name": "stdout",
     "output_type": "stream",
     "text": [
      "your new salary= 8500\n"
     ]
    }
   ],
   "source": [
    "print('your new salary=',salary_incr(5500,2000))"
   ]
  },
  {
   "cell_type": "code",
   "execution_count": null,
   "id": "576e281a",
   "metadata": {},
   "outputs": [],
   "source": []
  }
 ],
 "metadata": {
  "kernelspec": {
   "display_name": "Python 3 (ipykernel)",
   "language": "python",
   "name": "python3"
  },
  "language_info": {
   "codemirror_mode": {
    "name": "ipython",
    "version": 3
   },
   "file_extension": ".py",
   "mimetype": "text/x-python",
   "name": "python",
   "nbconvert_exporter": "python",
   "pygments_lexer": "ipython3",
   "version": "3.9.12"
  }
 },
 "nbformat": 4,
 "nbformat_minor": 5
}
