{
 "cells": [
  {
   "cell_type": "markdown",
   "id": "42c4f55c",
   "metadata": {},
   "source": [
    "# 30 Oct.\n"
   ]
  },
  {
   "cell_type": "code",
   "execution_count": 2,
   "id": "d0ce9e5a",
   "metadata": {},
   "outputs": [],
   "source": [
    "import sqlite3\n",
    "db=sqlite3.connect('student_database.db')"
   ]
  },
  {
   "cell_type": "code",
   "execution_count": 3,
   "id": "ab3250fd",
   "metadata": {},
   "outputs": [],
   "source": [
    "cursor=db.cursor()"
   ]
  },
  {
   "cell_type": "code",
   "execution_count": 4,
   "id": "0f06c045",
   "metadata": {},
   "outputs": [
    {
     "name": "stdout",
     "output_type": "stream",
     "text": [
      "(1234, 'abc9@gmai.com', 'data sciende', 50000)\n",
      "(987654321, 'qwerty123@gmail.com', 'data science', 50000)\n",
      "(482959, 'mukul@gmail.com', 'software developer', 100000)\n",
      "(9988776604, 'student4@gmail.com', 'Digital Marketing', 38000)\n",
      "(9988776605, 'student5@gmail.com', 'Data Science', 133000)\n",
      "(9988776606, 'student6@gmail.com', 'Data Science', 34000)\n",
      "(9988776607, 'student7@gmail.com', 'Data Science', 33000)\n",
      "(9988776608, 'student8@gmail.com', 'Data Science', 129000)\n",
      "(9988776609, 'student9@gmail.com', 'Data Science', 40000)\n",
      "(9988776610, 'student10@gmail.com', 'Data Analytics', 32500)\n",
      "(9988776611, 'student11@gmail.com', 'Data Science', 41500)\n",
      "(9988776612, 'student12@gmail.com', 'Digital Marketing', 31000)\n",
      "(9988776613, 'student13@gmail.com', 'Digital Marketing', 23000)\n",
      "(9988776614, 'student14@gmail.com', 'Data Science', 24000)\n",
      "(9988776615, 'student15@gmail.com', 'Data Science', 23000)\n",
      "(9988776616, 'student16@gmail.com', 'Data Science', 122500)\n",
      "(9988776617, 'student17@gmail.com', 'Data Science', 29000)\n",
      "(9988776618, 'student18@gmail.com', 'Data Science', 140000)\n",
      "(9988776619, 'student19@gmail.com', 'Data Analytics', 32500)\n",
      "(9988776620, 'student20@gmail.com', 'Inv Banking', 41500)\n",
      "(9988776621, 'student21@gmail.com', 'Data Science', 131000)\n",
      "(9988776622, 'student22@gmail.com', 'Data Science', 23000)\n",
      "(9988776623, 'student23@gmail.com', 'Data Science', 24000)\n"
     ]
    }
   ],
   "source": [
    "results= cursor.execute('SELECT * FROM student_learningdata')\n",
    "for r in results:\n",
    "    print(r)"
   ]
  },
  {
   "cell_type": "code",
   "execution_count": 20,
   "id": "85d59afd",
   "metadata": {},
   "outputs": [
    {
     "name": "stdout",
     "output_type": "stream",
     "text": [
      "(9988776604, 'student4@gmail.com', 'Digital Marketing', 38000)\n",
      "(9988776612, 'student12@gmail.com', 'Digital Marketing', 31000)\n",
      "(9988776613, 'student13@gmail.com', 'Digital Marketing', 23000)\n"
     ]
    }
   ],
   "source": [
    "ds=cursor.execute(\"SELECT *FROM student_learningdata WHERE course_name = 'Digital Marketing'\")\n",
    "for result in ds:\n",
    "    print(result)"
   ]
  },
  {
   "cell_type": "code",
   "execution_count": 21,
   "id": "daeea092",
   "metadata": {},
   "outputs": [
    {
     "name": "stdout",
     "output_type": "stream",
     "text": [
      "(9988776605, 'student5@gmail.com', 'Data Science', 133000)\n",
      "(9988776606, 'student6@gmail.com', 'Data Science', 34000)\n",
      "(9988776607, 'student7@gmail.com', 'Data Science', 33000)\n",
      "(9988776608, 'student8@gmail.com', 'Data Science', 129000)\n",
      "(9988776609, 'student9@gmail.com', 'Data Science', 40000)\n",
      "(9988776611, 'student11@gmail.com', 'Data Science', 41500)\n",
      "(9988776614, 'student14@gmail.com', 'Data Science', 24000)\n",
      "(9988776615, 'student15@gmail.com', 'Data Science', 23000)\n",
      "(9988776616, 'student16@gmail.com', 'Data Science', 122500)\n",
      "(9988776617, 'student17@gmail.com', 'Data Science', 29000)\n",
      "(9988776618, 'student18@gmail.com', 'Data Science', 140000)\n",
      "(9988776621, 'student21@gmail.com', 'Data Science', 131000)\n",
      "(9988776622, 'student22@gmail.com', 'Data Science', 23000)\n",
      "(9988776623, 'student23@gmail.com', 'Data Science', 24000)\n"
     ]
    }
   ],
   "source": [
    "sql=\"SELECT *FROM student_learningdata WHERE course_name = 'Data Science'\"\n",
    "result= cursor.execute(sql)\n",
    "for row in result:\n",
    "    print(row)"
   ]
  },
  {
   "cell_type": "code",
   "execution_count": 38,
   "id": "f7db5095",
   "metadata": {},
   "outputs": [
    {
     "name": "stdout",
     "output_type": "stream",
     "text": [
      "(482959, 'mukul@gmail.com', 'software developer', 100000)\n",
      "(9988776605, 'student5@gmail.com', 'Data Science', 133000)\n",
      "(9988776608, 'student8@gmail.com', 'Data Science', 129000)\n",
      "(9988776616, 'student16@gmail.com', 'Data Science', 122500)\n",
      "(9988776618, 'student18@gmail.com', 'Data Science', 140000)\n",
      "(9988776621, 'student21@gmail.com', 'Data Science', 131000)\n"
     ]
    }
   ],
   "source": [
    "fee=\"SELECT * FROM student_learningdata WHERE fee_paid >= 70000\"\n",
    "results=cursor.execute(fee)\n",
    "for paid in results:\n",
    "    print(paid)"
   ]
  },
  {
   "cell_type": "code",
   "execution_count": 39,
   "id": "b200a21b",
   "metadata": {},
   "outputs": [],
   "source": [
    "delete=cursor.execute(\"DELETE FROM student_learningdata WHERE email_id = 'abc9@gmai.com'\")\n"
   ]
  },
  {
   "cell_type": "code",
   "execution_count": 40,
   "id": "a3ae8ee2",
   "metadata": {},
   "outputs": [
    {
     "name": "stdout",
     "output_type": "stream",
     "text": [
      "(987654321, 'qwerty123@gmail.com', 'data science', 50000)\n",
      "(482959, 'mukul@gmail.com', 'software developer', 100000)\n",
      "(9988776604, 'student4@gmail.com', 'Digital Marketing', 38000)\n",
      "(9988776605, 'student5@gmail.com', 'Data Science', 133000)\n",
      "(9988776606, 'student6@gmail.com', 'Data Science', 34000)\n",
      "(9988776607, 'student7@gmail.com', 'Data Science', 33000)\n",
      "(9988776608, 'student8@gmail.com', 'Data Science', 129000)\n",
      "(9988776609, 'student9@gmail.com', 'Data Science', 40000)\n",
      "(9988776610, 'student10@gmail.com', 'Data Analytics', 32500)\n",
      "(9988776611, 'student11@gmail.com', 'Data Science', 41500)\n",
      "(9988776612, 'student12@gmail.com', 'Digital Marketing', 31000)\n",
      "(9988776613, 'student13@gmail.com', 'Digital Marketing', 23000)\n",
      "(9988776614, 'student14@gmail.com', 'Data Science', 24000)\n",
      "(9988776615, 'student15@gmail.com', 'Data Science', 23000)\n",
      "(9988776616, 'student16@gmail.com', 'Data Science', 122500)\n",
      "(9988776617, 'student17@gmail.com', 'Data Science', 29000)\n",
      "(9988776618, 'student18@gmail.com', 'Data Science', 140000)\n",
      "(9988776619, 'student19@gmail.com', 'Data Analytics', 32500)\n",
      "(9988776620, 'student20@gmail.com', 'Inv Banking', 41500)\n",
      "(9988776621, 'student21@gmail.com', 'Data Science', 131000)\n",
      "(9988776622, 'student22@gmail.com', 'Data Science', 23000)\n",
      "(9988776623, 'student23@gmail.com', 'Data Science', 24000)\n"
     ]
    }
   ],
   "source": [
    "new=cursor.execute('select * from student_learningdata')\n",
    "for d in new:\n",
    "    print(d)"
   ]
  },
  {
   "cell_type": "markdown",
   "id": "69678a81",
   "metadata": {},
   "source": [
    "# order by"
   ]
  },
  {
   "cell_type": "code",
   "execution_count": 41,
   "id": "ac5cb7c5",
   "metadata": {},
   "outputs": [
    {
     "name": "stdout",
     "output_type": "stream",
     "text": [
      "(9988776613, 'student13@gmail.com', 'Digital Marketing', 23000)\n",
      "(9988776615, 'student15@gmail.com', 'Data Science', 23000)\n",
      "(9988776622, 'student22@gmail.com', 'Data Science', 23000)\n",
      "(9988776614, 'student14@gmail.com', 'Data Science', 24000)\n",
      "(9988776623, 'student23@gmail.com', 'Data Science', 24000)\n",
      "(9988776617, 'student17@gmail.com', 'Data Science', 29000)\n",
      "(9988776612, 'student12@gmail.com', 'Digital Marketing', 31000)\n",
      "(9988776610, 'student10@gmail.com', 'Data Analytics', 32500)\n",
      "(9988776619, 'student19@gmail.com', 'Data Analytics', 32500)\n",
      "(9988776607, 'student7@gmail.com', 'Data Science', 33000)\n",
      "(9988776606, 'student6@gmail.com', 'Data Science', 34000)\n",
      "(9988776604, 'student4@gmail.com', 'Digital Marketing', 38000)\n",
      "(9988776609, 'student9@gmail.com', 'Data Science', 40000)\n",
      "(9988776611, 'student11@gmail.com', 'Data Science', 41500)\n",
      "(9988776620, 'student20@gmail.com', 'Inv Banking', 41500)\n",
      "(987654321, 'qwerty123@gmail.com', 'data science', 50000)\n",
      "(482959, 'mukul@gmail.com', 'software developer', 100000)\n",
      "(9988776616, 'student16@gmail.com', 'Data Science', 122500)\n",
      "(9988776608, 'student8@gmail.com', 'Data Science', 129000)\n",
      "(9988776621, 'student21@gmail.com', 'Data Science', 131000)\n",
      "(9988776605, 'student5@gmail.com', 'Data Science', 133000)\n",
      "(9988776618, 'student18@gmail.com', 'Data Science', 140000)\n"
     ]
    }
   ],
   "source": [
    "order=cursor.execute(\"select * from student_learningdata order by fee_paid\")\n",
    "for o in order:\n",
    "    print(o)"
   ]
  },
  {
   "cell_type": "code",
   "execution_count": 42,
   "id": "a3fc3c2a",
   "metadata": {},
   "outputs": [
    {
     "name": "stdout",
     "output_type": "stream",
     "text": [
      "(9988776618, 'student18@gmail.com', 'Data Science', 140000)\n",
      "(9988776605, 'student5@gmail.com', 'Data Science', 133000)\n",
      "(9988776621, 'student21@gmail.com', 'Data Science', 131000)\n",
      "(9988776608, 'student8@gmail.com', 'Data Science', 129000)\n",
      "(9988776616, 'student16@gmail.com', 'Data Science', 122500)\n",
      "(482959, 'mukul@gmail.com', 'software developer', 100000)\n",
      "(987654321, 'qwerty123@gmail.com', 'data science', 50000)\n",
      "(9988776611, 'student11@gmail.com', 'Data Science', 41500)\n",
      "(9988776620, 'student20@gmail.com', 'Inv Banking', 41500)\n",
      "(9988776609, 'student9@gmail.com', 'Data Science', 40000)\n",
      "(9988776604, 'student4@gmail.com', 'Digital Marketing', 38000)\n",
      "(9988776606, 'student6@gmail.com', 'Data Science', 34000)\n",
      "(9988776607, 'student7@gmail.com', 'Data Science', 33000)\n",
      "(9988776610, 'student10@gmail.com', 'Data Analytics', 32500)\n",
      "(9988776619, 'student19@gmail.com', 'Data Analytics', 32500)\n",
      "(9988776612, 'student12@gmail.com', 'Digital Marketing', 31000)\n",
      "(9988776617, 'student17@gmail.com', 'Data Science', 29000)\n",
      "(9988776614, 'student14@gmail.com', 'Data Science', 24000)\n",
      "(9988776623, 'student23@gmail.com', 'Data Science', 24000)\n",
      "(9988776613, 'student13@gmail.com', 'Digital Marketing', 23000)\n",
      "(9988776615, 'student15@gmail.com', 'Data Science', 23000)\n",
      "(9988776622, 'student22@gmail.com', 'Data Science', 23000)\n"
     ]
    }
   ],
   "source": [
    "order=cursor.execute(\"select * from student_learningdata order by fee_paid desc\")\n",
    "for o in order:\n",
    "    print(o)"
   ]
  },
  {
   "cell_type": "code",
   "execution_count": 45,
   "id": "7f64fed5",
   "metadata": {},
   "outputs": [
    {
     "data": {
      "text/plain": [
       "<sqlite3.Cursor at 0x21499ee4b90>"
      ]
     },
     "execution_count": 45,
     "metadata": {},
     "output_type": "execute_result"
    }
   ],
   "source": [
    "cursor.execute('UPDATE student_learningdata SET course_name= \"Digital Marketing\" WHERE phone_number= 9988776622')"
   ]
  },
  {
   "cell_type": "code",
   "execution_count": 46,
   "id": "3e0d6ff9",
   "metadata": {},
   "outputs": [
    {
     "name": "stdout",
     "output_type": "stream",
     "text": [
      "(987654321, 'qwerty123@gmail.com', 'data science', 50000)\n",
      "(482959, 'mukul@gmail.com', 'software developer', 100000)\n",
      "(9988776604, 'student4@gmail.com', 'Digital Marketing', 38000)\n",
      "(9988776605, 'student5@gmail.com', 'Data Science', 133000)\n",
      "(9988776606, 'student6@gmail.com', 'Data Science', 34000)\n",
      "(9988776607, 'student7@gmail.com', 'Data Science', 33000)\n",
      "(9988776608, 'student8@gmail.com', 'Data Science', 129000)\n",
      "(9988776609, 'student9@gmail.com', 'Data Science', 40000)\n",
      "(9988776610, 'student10@gmail.com', 'Data Analytics', 32500)\n",
      "(9988776611, 'student11@gmail.com', 'Data Science', 41500)\n",
      "(9988776612, 'student12@gmail.com', 'Digital Marketing', 31000)\n",
      "(9988776613, 'student13@gmail.com', 'Digital Marketing', 23000)\n",
      "(9988776614, 'student14@gmail.com', 'Data Science', 24000)\n",
      "(9988776615, 'student15@gmail.com', 'Data Science', 23000)\n",
      "(9988776616, 'student16@gmail.com', 'Data Science', 122500)\n",
      "(9988776617, 'student17@gmail.com', 'Data Science', 29000)\n",
      "(9988776618, 'student18@gmail.com', 'Data Science', 140000)\n",
      "(9988776619, 'student19@gmail.com', 'Data Analytics', 32500)\n",
      "(9988776620, 'student20@gmail.com', 'Inv Banking', 41500)\n",
      "(9988776621, 'student21@gmail.com', 'Data Science', 131000)\n",
      "(9988776622, 'student22@gmail.com', 'Digital Marketing', 23000)\n",
      "(9988776623, 'student23@gmail.com', 'Data Science', 24000)\n"
     ]
    }
   ],
   "source": [
    "update=cursor.execute('SELECT *from student_learningdata')\n",
    "for new in update:\n",
    "    print(new)"
   ]
  },
  {
   "cell_type": "code",
   "execution_count": 47,
   "id": "257c5a13",
   "metadata": {},
   "outputs": [
    {
     "name": "stdout",
     "output_type": "stream",
     "text": [
      "(9988776622, 'student22@gmail.com', 'Digital Marketing', 23000)\n"
     ]
    }
   ],
   "source": [
    "update=cursor.execute('SELECT *from student_learningdata WHERE phone_number=9988776622')\n",
    "for new in update:\n",
    "    print(new)"
   ]
  },
  {
   "cell_type": "code",
   "execution_count": 50,
   "id": "7662b982",
   "metadata": {},
   "outputs": [
    {
     "name": "stdout",
     "output_type": "stream",
     "text": [
      "(9988776606, 'student6@gmail.com', 34000)\n",
      "(9988776607, 'student7@gmail.com', 33000)\n",
      "(9988776609, 'student9@gmail.com', 40000)\n",
      "(9988776611, 'student11@gmail.com', 41500)\n",
      "(9988776614, 'student14@gmail.com', 24000)\n",
      "(9988776615, 'student15@gmail.com', 23000)\n",
      "(9988776617, 'student17@gmail.com', 29000)\n",
      "(9988776623, 'student23@gmail.com', 24000)\n"
     ]
    }
   ],
   "source": [
    "notify=(\"SELECT phone_number,email_id,fee_paid FROM student_learningdata WHERE course_name='Data Science' AND fee_paid<=50000\")\n",
    "new=cursor.execute(notify)\n",
    "for n in new:\n",
    "    print(n)"
   ]
  },
  {
   "cell_type": "code",
   "execution_count": 51,
   "id": "fd41eddb",
   "metadata": {
    "scrolled": true
   },
   "outputs": [
    {
     "name": "stdout",
     "output_type": "stream",
     "text": [
      "(9988776606, 'Data Science', 34000)\n",
      "(9988776607, 'Data Science', 33000)\n",
      "(9988776609, 'Data Science', 40000)\n",
      "(9988776611, 'Data Science', 41500)\n",
      "(9988776614, 'Data Science', 24000)\n",
      "(9988776615, 'Data Science', 23000)\n",
      "(9988776617, 'Data Science', 29000)\n",
      "(9988776623, 'Data Science', 24000)\n"
     ]
    }
   ],
   "source": [
    "notify=(\"SELECT phone_number,course_name,fee_paid FROM student_learningdata WHERE course_name='Data Science' AND fee_paid<=50000\")\n",
    "new=cursor.execute(notify)\n",
    "for n in new:\n",
    "    print(n)"
   ]
  },
  {
   "cell_type": "code",
   "execution_count": 54,
   "id": "ef036596",
   "metadata": {},
   "outputs": [
    {
     "data": {
      "text/plain": [
       "<sqlite3.Cursor at 0x21499ee4b90>"
      ]
     },
     "execution_count": 54,
     "metadata": {},
     "output_type": "execute_result"
    }
   ],
   "source": [
    "cursor.execute(\"UPDATE student_learningdata SET fee_paid=110000 WHERE phone_number IN (9988776611,9988776609)\")"
   ]
  },
  {
   "cell_type": "code",
   "execution_count": 55,
   "id": "4f63890a",
   "metadata": {},
   "outputs": [
    {
     "name": "stdout",
     "output_type": "stream",
     "text": [
      "(9988776609, 'student9@gmail.com', 'Data Science', 110000)\n",
      "(9988776611, 'student11@gmail.com', 'Data Science', 110000)\n"
     ]
    }
   ],
   "source": [
    "p= cursor.execute('select * from student_learningdata where fee_paid=110000')\n",
    "for n in p:\n",
    "    print(n)"
   ]
  },
  {
   "cell_type": "code",
   "execution_count": 57,
   "id": "eb726d4e",
   "metadata": {},
   "outputs": [
    {
     "name": "stdout",
     "output_type": "stream",
     "text": [
      "(9988776604, 'student4@gmail.com', 'Digital Marketing', 38000)\n",
      "(9988776605, 'student5@gmail.com', 'Data Science', 133000)\n",
      "(9988776606, 'student6@gmail.com', 'Data Science', 34000)\n",
      "(9988776607, 'student7@gmail.com', 'Data Science', 33000)\n",
      "(9988776608, 'student8@gmail.com', 'Data Science', 129000)\n",
      "(9988776609, 'student9@gmail.com', 'Data Science', 110000)\n"
     ]
    }
   ],
   "source": [
    "e=cursor.execute(\"select *from student_learningdata WHERE phone_number BETWEEN 9988776604 AND 9988776609\")\n",
    "for c in e:\n",
    "    print (c)"
   ]
  },
  {
   "cell_type": "code",
   "execution_count": 61,
   "id": "4648c47d",
   "metadata": {},
   "outputs": [
    {
     "data": {
      "text/plain": [
       "<sqlite3.Cursor at 0x21499ee4b90>"
      ]
     },
     "execution_count": 61,
     "metadata": {},
     "output_type": "execute_result"
    }
   ],
   "source": [
    "cursor.execute(\"update student_learningdata SET course_name='tablue' WHERE phone_number BETWEEN 9988776604 AND 9988776609\")\n"
   ]
  },
  {
   "cell_type": "code",
   "execution_count": 62,
   "id": "31ef5401",
   "metadata": {},
   "outputs": [
    {
     "name": "stdout",
     "output_type": "stream",
     "text": [
      "(9988776604, 'student4@gmail.com', 'tablue', 38000)\n",
      "(9988776605, 'student5@gmail.com', 'tablue', 133000)\n",
      "(9988776606, 'student6@gmail.com', 'tablue', 34000)\n",
      "(9988776607, 'student7@gmail.com', 'tablue', 33000)\n",
      "(9988776608, 'student8@gmail.com', 'tablue', 129000)\n",
      "(9988776609, 'student9@gmail.com', 'tablue', 110000)\n"
     ]
    }
   ],
   "source": [
    "u=cursor.execute(\"select *from student_learningdata WHERE phone_number between 9988776604 and 9988776609\")\n",
    "for c in u:\n",
    "    print(c)"
   ]
  },
  {
   "cell_type": "code",
   "execution_count": 65,
   "id": "b93f4304",
   "metadata": {},
   "outputs": [
    {
     "name": "stdout",
     "output_type": "stream",
     "text": [
      "(9988776604, 'tablue')\n",
      "(9988776605, 'tablue')\n",
      "(9988776606, 'tablue')\n",
      "(9988776607, 'tablue')\n",
      "(9988776608, 'tablue')\n",
      "(9988776609, 'tablue')\n"
     ]
    }
   ],
   "source": [
    "new=cursor.execute(\"SELECT phone_number,course_name from student_learningdata where phone_number between 9988776604 and 9988776609\")\n",
    "for q in new:\n",
    "    print(q)"
   ]
  },
  {
   "cell_type": "markdown",
   "id": "054edc4f",
   "metadata": {},
   "source": [
    "## MIN & MAX functions"
   ]
  },
  {
   "cell_type": "code",
   "execution_count": 68,
   "id": "0fb6a429",
   "metadata": {},
   "outputs": [],
   "source": [
    "r=cursor.execute(\"select min(fee_paid) from student_learningdata\")\n"
   ]
  },
  {
   "cell_type": "code",
   "execution_count": 69,
   "id": "d9e4678c",
   "metadata": {},
   "outputs": [
    {
     "name": "stdout",
     "output_type": "stream",
     "text": [
      "<sqlite3.Cursor object at 0x0000021499EE4B90>\n"
     ]
    }
   ],
   "source": [
    "print(r)"
   ]
  },
  {
   "cell_type": "code",
   "execution_count": 73,
   "id": "801bd6ff",
   "metadata": {},
   "outputs": [
    {
     "name": "stdout",
     "output_type": "stream",
     "text": [
      "min. fee paid (23000,)\n"
     ]
    }
   ],
   "source": [
    "print('min. fee paid',r.fetchone())"
   ]
  },
  {
   "cell_type": "code",
   "execution_count": 75,
   "id": "6f4ea9e6",
   "metadata": {},
   "outputs": [
    {
     "name": "stdout",
     "output_type": "stream",
     "text": [
      "max fee paid (140000,)\n"
     ]
    }
   ],
   "source": [
    "rr=cursor.execute('select max(fee_paid) from student_learningdata')\n",
    "\n",
    "print('max fee paid',rr.fetchone())"
   ]
  },
  {
   "cell_type": "code",
   "execution_count": 76,
   "id": "5b9068d8",
   "metadata": {},
   "outputs": [
    {
     "name": "stdout",
     "output_type": "stream",
     "text": [
      "(987654321, 'qwerty123@gmail.com', 'data science', 50000)\n",
      "(482959, 'mukul@gmail.com', 'software developer', 100000)\n",
      "(9988776604, 'student4@gmail.com', 'tablue', 38000)\n",
      "(9988776605, 'student5@gmail.com', 'tablue', 133000)\n",
      "(9988776606, 'student6@gmail.com', 'tablue', 34000)\n",
      "(9988776607, 'student7@gmail.com', 'tablue', 33000)\n",
      "(9988776608, 'student8@gmail.com', 'tablue', 129000)\n",
      "(9988776609, 'student9@gmail.com', 'tablue', 110000)\n",
      "(9988776610, 'student10@gmail.com', 'Data Analytics', 32500)\n",
      "(9988776611, 'student11@gmail.com', 'Data Science', 110000)\n",
      "(9988776612, 'student12@gmail.com', 'Digital Marketing', 31000)\n",
      "(9988776613, 'student13@gmail.com', 'Digital Marketing', 23000)\n",
      "(9988776614, 'student14@gmail.com', 'Data Science', 24000)\n",
      "(9988776615, 'student15@gmail.com', 'Data Science', 23000)\n",
      "(9988776616, 'student16@gmail.com', 'Data Science', 122500)\n",
      "(9988776617, 'student17@gmail.com', 'Data Science', 29000)\n",
      "(9988776618, 'student18@gmail.com', 'Data Science', 140000)\n",
      "(9988776619, 'student19@gmail.com', 'Data Analytics', 32500)\n",
      "(9988776620, 'student20@gmail.com', 'Inv Banking', 41500)\n",
      "(9988776621, 'student21@gmail.com', 'Data Science', 131000)\n",
      "(9988776622, 'student22@gmail.com', 'Digital Marketing', 23000)\n",
      "(9988776623, 'student23@gmail.com', 'Data Science', 24000)\n"
     ]
    }
   ],
   "source": [
    "f=cursor.execute('select * from student_learningdata')\n",
    "for c in f:\n",
    "    print(c)"
   ]
  },
  {
   "cell_type": "code",
   "execution_count": 79,
   "id": "d3191d5e",
   "metadata": {},
   "outputs": [
    {
     "name": "stdout",
     "output_type": "stream",
     "text": [
      "(23000,)\n"
     ]
    }
   ],
   "source": [
    "r=cursor.execute('select min(fee_paid) from student_learningdata')\n",
    "print(r.fetchone())"
   ]
  },
  {
   "cell_type": "code",
   "execution_count": 80,
   "id": "189e8be0",
   "metadata": {},
   "outputs": [
    {
     "name": "stdout",
     "output_type": "stream",
     "text": [
      "(140000,)\n"
     ]
    }
   ],
   "source": [
    "r=cursor.execute('select max(fee_paid) from student_learningdata')\n",
    "print(r.fetchone())"
   ]
  },
  {
   "cell_type": "code",
   "execution_count": 93,
   "id": "3f452a0f",
   "metadata": {},
   "outputs": [
    {
     "data": {
      "text/plain": [
       "<sqlite3.Cursor at 0x21499ee4b90>"
      ]
     },
     "execution_count": 93,
     "metadata": {},
     "output_type": "execute_result"
    }
   ],
   "source": [
    "cursor.execute('create table course1(courseid int primary key,coursename text,duration int)')"
   ]
  },
  {
   "cell_type": "code",
   "execution_count": 94,
   "id": "54688421",
   "metadata": {},
   "outputs": [
    {
     "data": {
      "text/plain": [
       "<sqlite3.Cursor at 0x21499ee4b90>"
      ]
     },
     "execution_count": 94,
     "metadata": {},
     "output_type": "execute_result"
    }
   ],
   "source": [
    "cursor.execute(\"create table student1(roll_no int primary key,studentname text,age int,courseid int,foreign key(courseid) references course1(courseid) )\")"
   ]
  },
  {
   "cell_type": "code",
   "execution_count": 95,
   "id": "fcb8c4dc",
   "metadata": {},
   "outputs": [
    {
     "data": {
      "text/plain": [
       "<function Connection.commit>"
      ]
     },
     "execution_count": 95,
     "metadata": {},
     "output_type": "execute_result"
    }
   ],
   "source": [
    "cursor.execute(\"insert into course1 values(78,'data science',12),(56,'python course',4),(101,'database',7)\")\n",
    "db.commit"
   ]
  },
  {
   "cell_type": "code",
   "execution_count": 96,
   "id": "e042bb1f",
   "metadata": {},
   "outputs": [
    {
     "name": "stdout",
     "output_type": "stream",
     "text": [
      "3\n"
     ]
    }
   ],
   "source": [
    "print(cursor.rowcount)"
   ]
  },
  {
   "cell_type": "code",
   "execution_count": 97,
   "id": "cfd999f3",
   "metadata": {},
   "outputs": [
    {
     "name": "stdout",
     "output_type": "stream",
     "text": [
      "(78, 'data science', 12)\n",
      "(56, 'python course', 4)\n",
      "(101, 'database', 7)\n"
     ]
    }
   ],
   "source": [
    "w=cursor.execute('select *from course1')\n",
    "for t in w:\n",
    "    print(t)"
   ]
  },
  {
   "cell_type": "code",
   "execution_count": 98,
   "id": "cd149fac",
   "metadata": {},
   "outputs": [
    {
     "data": {
      "text/plain": [
       "<function Connection.commit>"
      ]
     },
     "execution_count": 98,
     "metadata": {},
     "output_type": "execute_result"
    }
   ],
   "source": [
    "cursor.execute(\"insert into student1 values(1,'jack',22,78),(2,'john',21,56),(3,'rudolf',18,78),(4,'jim',21,56)\")\n",
    "db.commit"
   ]
  },
  {
   "cell_type": "code",
   "execution_count": 99,
   "id": "6540cfd8",
   "metadata": {},
   "outputs": [
    {
     "name": "stdout",
     "output_type": "stream",
     "text": [
      "4\n"
     ]
    }
   ],
   "source": [
    "print(cursor.rowcount)"
   ]
  },
  {
   "cell_type": "code",
   "execution_count": 100,
   "id": "3eb2be51",
   "metadata": {},
   "outputs": [
    {
     "name": "stdout",
     "output_type": "stream",
     "text": [
      "(1, 'jack', 22, 78)\n",
      "(2, 'john', 21, 56)\n",
      "(3, 'rudolf', 18, 78)\n",
      "(4, 'jim', 21, 56)\n"
     ]
    }
   ],
   "source": [
    "l=cursor.execute('select *from student1')\n",
    "for e in l:\n",
    "    print(e)"
   ]
  },
  {
   "cell_type": "code",
   "execution_count": 104,
   "id": "c259db18",
   "metadata": {},
   "outputs": [
    {
     "name": "stdout",
     "output_type": "stream",
     "text": [
      "(56, 'python course', 4)\n"
     ]
    }
   ],
   "source": [
    "r=cursor.execute(\"select * from course1 where coursename='python course'\")\n",
    "for h in r:\n",
    "    print(h)"
   ]
  },
  {
   "cell_type": "code",
   "execution_count": 105,
   "id": "93d10504",
   "metadata": {},
   "outputs": [
    {
     "name": "stdout",
     "output_type": "stream",
     "text": [
      "(56,)\n"
     ]
    }
   ],
   "source": [
    "w=cursor.execute(\"select courseid from course1 where coursename='python course'\")\n",
    "for e in w:\n",
    "    print(e)"
   ]
  },
  {
   "cell_type": "code",
   "execution_count": 106,
   "id": "253dad90",
   "metadata": {},
   "outputs": [
    {
     "data": {
      "text/plain": [
       "[(1, 'jack', 22, 78), (3, 'rudolf', 18, 78)]"
      ]
     },
     "execution_count": 106,
     "metadata": {},
     "output_type": "execute_result"
    }
   ],
   "source": [
    "result=cursor.execute(\"select * from student1 where courseid=(select courseid from course1 where coursename='data science')\")\n",
    "result.fetchall()"
   ]
  },
  {
   "cell_type": "code",
   "execution_count": 107,
   "id": "6083cc1b",
   "metadata": {},
   "outputs": [
    {
     "data": {
      "text/plain": [
       "<function Connection.commit>"
      ]
     },
     "execution_count": 107,
     "metadata": {},
     "output_type": "execute_result"
    }
   ],
   "source": [
    "cursor.execute('insert into student1 values(12,\"mukul\",23,101)')\n",
    "db.commit"
   ]
  },
  {
   "cell_type": "code",
   "execution_count": 108,
   "id": "ca735474",
   "metadata": {},
   "outputs": [
    {
     "name": "stdout",
     "output_type": "stream",
     "text": [
      "(1, 'jack', 22, 78)\n",
      "(2, 'john', 21, 56)\n",
      "(3, 'rudolf', 18, 78)\n",
      "(4, 'jim', 21, 56)\n",
      "(12, 'mukul', 23, 101)\n"
     ]
    }
   ],
   "source": [
    "qw=cursor.execute('select * from student1')\n",
    "for t in qw:\n",
    "    print(t)"
   ]
  },
  {
   "cell_type": "code",
   "execution_count": 111,
   "id": "4e4dd47b",
   "metadata": {},
   "outputs": [
    {
     "data": {
      "text/plain": [
       "[(101, 'database', 7)]"
      ]
     },
     "execution_count": 111,
     "metadata": {},
     "output_type": "execute_result"
    }
   ],
   "source": [
    "r=cursor.execute(\"select * from course1 where courseid=(select courseid from student1 where studentname='mukul' )\")\n",
    "r.fetchall()"
   ]
  },
  {
   "cell_type": "code",
   "execution_count": 114,
   "id": "c091d92b",
   "metadata": {},
   "outputs": [
    {
     "data": {
      "text/plain": [
       "[(12, 'mukul', 23, 101)]"
      ]
     },
     "execution_count": 114,
     "metadata": {},
     "output_type": "execute_result"
    }
   ],
   "source": [
    "n=cursor.execute('select * from student1 where courseid=(select courseid from course1 where coursename=\"database\")')\n",
    "n.fetchall()"
   ]
  },
  {
   "cell_type": "code",
   "execution_count": 115,
   "id": "bd7bcfca",
   "metadata": {},
   "outputs": [
    {
     "data": {
      "text/plain": [
       "[(12, 'mukul', 23, 101)]"
      ]
     },
     "execution_count": 115,
     "metadata": {},
     "output_type": "execute_result"
    }
   ],
   "source": [
    "n=cursor.execute('select * from student1 where courseid=(select courseid from course1 where coursename=\"database\")')\n",
    "n.fetchall()"
   ]
  },
  {
   "cell_type": "markdown",
   "id": "a9f4ea94",
   "metadata": {},
   "source": [
    "### join"
   ]
  },
  {
   "cell_type": "code",
   "execution_count": 145,
   "id": "022f8812",
   "metadata": {},
   "outputs": [
    {
     "data": {
      "text/plain": [
       "<sqlite3.Cursor at 0x21499ee4b90>"
      ]
     },
     "execution_count": 145,
     "metadata": {},
     "output_type": "execute_result"
    }
   ],
   "source": [
    "cursor.execute('drop table stud_det')"
   ]
  },
  {
   "cell_type": "code",
   "execution_count": 146,
   "id": "ba078efa",
   "metadata": {},
   "outputs": [
    {
     "name": "stdout",
     "output_type": "stream",
     "text": [
      "20 records inserted\n"
     ]
    }
   ],
   "source": [
    "cursor.execute(\"create table stud_det( phone_number int primary key, student_name text, enrolled_date text, marks int)\")\n",
    "with open('Students_details.txt','r') as file:\n",
    "    no_records=0\n",
    "    for row in file:\n",
    "        cursor.execute(\"insert into stud_det values(?,?,?,?)\", row.split(\",\"))\n",
    "        db.commit()\n",
    "        no_records+=1\n",
    "        \n",
    "print(no_records,'records inserted')"
   ]
  },
  {
   "cell_type": "code",
   "execution_count": 147,
   "id": "5a6fcc09",
   "metadata": {},
   "outputs": [
    {
     "name": "stdout",
     "output_type": "stream",
     "text": [
      "(9988776604, 'Salah', '03-10-2020', 85)\n",
      "(9988776605, 'Heung-Son', '21-06-2020', 39)\n",
      "(9988776606, 'Ronaldo', '08-05-2020', 86)\n",
      "(9988776607, 'Kane', '11-05-2022', 57)\n",
      "(9988776608, 'Mane', '17-05-2022', 52)\n",
      "(6609998877, 'Vardy', '17-12-2020', 54)\n",
      "(6609998878, 'Jota', '06-11-2021', 45)\n",
      "(6609998879, 'Bruyne', '26-11-2020', 49)\n",
      "(6609998880, 'Zaha', '05-12-2020', 88)\n",
      "(6609998881, 'Sterling', '29-10-2020', 61)\n",
      "(9988776614, 'Toney', '31-03-2022', 71)\n",
      "(9988776615, 'Maddison', '10-03-2020', 44)\n",
      "(1687799866, 'Bowen', '14-02-2021', 96)\n",
      "(1687799867, 'Saka', '19-12-2022', 92)\n",
      "(1687799868, 'Watkins', '30-01-2021', 49)\n",
      "(1687799869, 'Mount', '16-09-2022', 48)\n",
      "(1687799870, 'Raphael', '15-05-2021', 50)\n",
      "(1687799871, 'Mahrez', '30-10-2021', 72)\n",
      "(9988776622, 'Pukki', '19-02-2021', 93)\n",
      "(9988776623, 'Fernandes', '01-03-2022', 94)\n"
     ]
    }
   ],
   "source": [
    "s=cursor.execute('select* from stud_det')\n",
    "for r in s:\n",
    "    print(r)"
   ]
  },
  {
   "cell_type": "code",
   "execution_count": 148,
   "id": "1c9f89e5",
   "metadata": {},
   "outputs": [
    {
     "name": "stdout",
     "output_type": "stream",
     "text": [
      "(987654321, 'qwerty123@gmail.com', 'data science', 50000)\n",
      "(482959, 'mukul@gmail.com', 'software developer', 100000)\n",
      "(9988776604, 'student4@gmail.com', 'tablue', 38000)\n",
      "(9988776605, 'student5@gmail.com', 'tablue', 133000)\n",
      "(9988776606, 'student6@gmail.com', 'tablue', 34000)\n",
      "(9988776607, 'student7@gmail.com', 'tablue', 33000)\n",
      "(9988776608, 'student8@gmail.com', 'tablue', 129000)\n",
      "(9988776609, 'student9@gmail.com', 'tablue', 110000)\n",
      "(9988776610, 'student10@gmail.com', 'Data Analytics', 32500)\n",
      "(9988776611, 'student11@gmail.com', 'Data Science', 110000)\n",
      "(9988776612, 'student12@gmail.com', 'Digital Marketing', 31000)\n",
      "(9988776613, 'student13@gmail.com', 'Digital Marketing', 23000)\n",
      "(9988776614, 'student14@gmail.com', 'Data Science', 24000)\n",
      "(9988776615, 'student15@gmail.com', 'Data Science', 23000)\n",
      "(9988776616, 'student16@gmail.com', 'Data Science', 122500)\n",
      "(9988776617, 'student17@gmail.com', 'Data Science', 29000)\n",
      "(9988776618, 'student18@gmail.com', 'Data Science', 140000)\n",
      "(9988776619, 'student19@gmail.com', 'Data Analytics', 32500)\n",
      "(9988776620, 'student20@gmail.com', 'Inv Banking', 41500)\n",
      "(9988776621, 'student21@gmail.com', 'Data Science', 131000)\n",
      "(9988776622, 'student22@gmail.com', 'Digital Marketing', 23000)\n",
      "(9988776623, 'student23@gmail.com', 'Data Science', 24000)\n"
     ]
    }
   ],
   "source": [
    "o=cursor.execute('select * from student_learningdata')\n",
    "for g in o:\n",
    "    print(g)"
   ]
  },
  {
   "cell_type": "code",
   "execution_count": 149,
   "id": "9b6b69e7",
   "metadata": {},
   "outputs": [
    {
     "name": "stdout",
     "output_type": "stream",
     "text": [
      "(9988776604, '03-10-2020', 85, 'Salah')\n",
      "(9988776605, '21-06-2020', 39, 'Heung-Son')\n",
      "(9988776606, '08-05-2020', 86, 'Ronaldo')\n",
      "(9988776607, '11-05-2022', 57, 'Kane')\n",
      "(9988776608, '17-05-2022', 52, 'Mane')\n",
      "(9988776614, '31-03-2022', 71, 'Toney')\n",
      "(9988776615, '10-03-2020', 44, 'Maddison')\n",
      "(9988776622, '19-02-2021', 93, 'Pukki')\n",
      "(9988776623, '01-03-2022', 94, 'Fernandes')\n"
     ]
    }
   ],
   "source": [
    "s=cursor.execute(\"SELECT student_learningdata.phone_number,stud_det.enrolled_date,stud_det.marks,stud_det.student_name FROM stud_det INNER JOIN student_learningdata ON student_learningdata.phone_number=stud_det.phone_number\")\n",
    "for row in s:\n",
    "    print(row)"
   ]
  },
  {
   "cell_type": "code",
   "execution_count": 150,
   "id": "4415fafd",
   "metadata": {},
   "outputs": [
    {
     "name": "stdout",
     "output_type": "stream",
     "text": [
      "(9988776604, '03-10-2020', 85, 'Salah')\n",
      "(9988776605, '21-06-2020', 39, 'Heung-Son')\n",
      "(9988776606, '08-05-2020', 86, 'Ronaldo')\n",
      "(9988776607, '11-05-2022', 57, 'Kane')\n",
      "(9988776608, '17-05-2022', 52, 'Mane')\n",
      "(None, '17-12-2020', 54, 'Vardy')\n",
      "(None, '06-11-2021', 45, 'Jota')\n",
      "(None, '26-11-2020', 49, 'Bruyne')\n",
      "(None, '05-12-2020', 88, 'Zaha')\n",
      "(None, '29-10-2020', 61, 'Sterling')\n",
      "(9988776614, '31-03-2022', 71, 'Toney')\n",
      "(9988776615, '10-03-2020', 44, 'Maddison')\n",
      "(None, '14-02-2021', 96, 'Bowen')\n",
      "(None, '19-12-2022', 92, 'Saka')\n",
      "(None, '30-01-2021', 49, 'Watkins')\n",
      "(None, '16-09-2022', 48, 'Mount')\n",
      "(None, '15-05-2021', 50, 'Raphael')\n",
      "(None, '30-10-2021', 72, 'Mahrez')\n",
      "(9988776622, '19-02-2021', 93, 'Pukki')\n",
      "(9988776623, '01-03-2022', 94, 'Fernandes')\n"
     ]
    }
   ],
   "source": [
    "sw=cursor.execute(\"SELECT student_learningdata.phone_number,stud_det.enrolled_date,stud_det.marks,stud_det.student_name FROM stud_det LEFT JOIN student_learningdata ON student_learningdata.phone_number=stud_det.phone_number\")\n",
    "for row in sw:\n",
    "    print(row)"
   ]
  },
  {
   "cell_type": "code",
   "execution_count": 151,
   "id": "3c64dbf0",
   "metadata": {},
   "outputs": [
    {
     "ename": "OperationalError",
     "evalue": "RIGHT and FULL OUTER JOINs are not currently supported",
     "output_type": "error",
     "traceback": [
      "\u001b[1;31m---------------------------------------------------------------------------\u001b[0m",
      "\u001b[1;31mOperationalError\u001b[0m                          Traceback (most recent call last)",
      "Input \u001b[1;32mIn [151]\u001b[0m, in \u001b[0;36m<cell line: 1>\u001b[1;34m()\u001b[0m\n\u001b[1;32m----> 1\u001b[0m Qs\u001b[38;5;241m=\u001b[39m\u001b[43mcursor\u001b[49m\u001b[38;5;241;43m.\u001b[39;49m\u001b[43mexecute\u001b[49m\u001b[43m(\u001b[49m\u001b[38;5;124;43m\"\u001b[39;49m\u001b[38;5;124;43mSELECT student_learningdata.phone_number,stud_det.enrolled_date,stud_det.marks,stud_det.student_name FROM stud_det RIGHT JOIN student_learningdata ON student_learningdata.phone_number=stud_det.phone_number\u001b[39;49m\u001b[38;5;124;43m\"\u001b[39;49m\u001b[43m)\u001b[49m\n\u001b[0;32m      2\u001b[0m \u001b[38;5;28;01mfor\u001b[39;00m row \u001b[38;5;129;01min\u001b[39;00m Qs:\n\u001b[0;32m      3\u001b[0m     \u001b[38;5;28mprint\u001b[39m(row)\n",
      "\u001b[1;31mOperationalError\u001b[0m: RIGHT and FULL OUTER JOINs are not currently supported"
     ]
    }
   ],
   "source": [
    "Qs=cursor.execute(\"SELECT student_learningdata.phone_number,stud_det.enrolled_date,stud_det.marks,stud_det.student_name FROM stud_det RIGHT JOIN student_learningdata ON student_learningdata.phone_number=stud_det.phone_number\")\n",
    "for row in Qs:\n",
    "    print(row)"
   ]
  },
  {
   "cell_type": "code",
   "execution_count": 152,
   "id": "97aa28fa",
   "metadata": {},
   "outputs": [
    {
     "name": "stdout",
     "output_type": "stream",
     "text": [
      "(9988776604, 9988776604, 'Salah', '03-10-2020', 85, 9988776604, 'student4@gmail.com', 'tablue', 38000)\n",
      "(9988776605, 9988776605, 'Heung-Son', '21-06-2020', 39, 9988776605, 'student5@gmail.com', 'tablue', 133000)\n",
      "(9988776606, 9988776606, 'Ronaldo', '08-05-2020', 86, 9988776606, 'student6@gmail.com', 'tablue', 34000)\n",
      "(9988776607, 9988776607, 'Kane', '11-05-2022', 57, 9988776607, 'student7@gmail.com', 'tablue', 33000)\n",
      "(9988776608, 9988776608, 'Mane', '17-05-2022', 52, 9988776608, 'student8@gmail.com', 'tablue', 129000)\n",
      "(9988776614, 9988776614, 'Toney', '31-03-2022', 71, 9988776614, 'student14@gmail.com', 'Data Science', 24000)\n",
      "(9988776615, 9988776615, 'Maddison', '10-03-2020', 44, 9988776615, 'student15@gmail.com', 'Data Science', 23000)\n",
      "(9988776622, 9988776622, 'Pukki', '19-02-2021', 93, 9988776622, 'student22@gmail.com', 'Digital Marketing', 23000)\n",
      "(9988776623, 9988776623, 'Fernandes', '01-03-2022', 94, 9988776623, 'student23@gmail.com', 'Data Science', 24000)\n"
     ]
    }
   ],
   "source": [
    "s=cursor.execute(\"SELECT student_learningdata.phone_number,*from stud_det INNER JOIN student_learningdata ON student_learningdata.phone_number=stud_det.phone_number\")\n",
    "for row in s:\n",
    "    print(row)"
   ]
  },
  {
   "cell_type": "code",
   "execution_count": 160,
   "id": "03d119c4",
   "metadata": {},
   "outputs": [
    {
     "name": "stdout",
     "output_type": "stream",
     "text": [
      "(9988776604, 9988776604, 'student4@gmail.com', 'tablue', 38000, 9988776604, 'Salah', '03-10-2020', 85)\n",
      "(9988776605, 9988776605, 'student5@gmail.com', 'tablue', 133000, 9988776605, 'Heung-Son', '21-06-2020', 39)\n",
      "(9988776606, 9988776606, 'student6@gmail.com', 'tablue', 34000, 9988776606, 'Ronaldo', '08-05-2020', 86)\n",
      "(9988776607, 9988776607, 'student7@gmail.com', 'tablue', 33000, 9988776607, 'Kane', '11-05-2022', 57)\n",
      "(9988776608, 9988776608, 'student8@gmail.com', 'tablue', 129000, 9988776608, 'Mane', '17-05-2022', 52)\n",
      "(9988776614, 9988776614, 'student14@gmail.com', 'Data Science', 24000, 9988776614, 'Toney', '31-03-2022', 71)\n",
      "(9988776615, 9988776615, 'student15@gmail.com', 'Data Science', 23000, 9988776615, 'Maddison', '10-03-2020', 44)\n",
      "(9988776622, 9988776622, 'student22@gmail.com', 'Digital Marketing', 23000, 9988776622, 'Pukki', '19-02-2021', 93)\n",
      "(9988776623, 9988776623, 'student23@gmail.com', 'Data Science', 24000, 9988776623, 'Fernandes', '01-03-2022', 94)\n"
     ]
    }
   ],
   "source": [
    "s=cursor.execute(\"SELECT stud_det.phone_number,* FROM student_learningdata INNER JOIN stud_det on stud_det.phone_number=student_learningdata.phone_number\")\n",
    "for row in s:\n",
    "    print(row)"
   ]
  },
  {
   "cell_type": "code",
   "execution_count": 157,
   "id": "0172d910",
   "metadata": {},
   "outputs": [
    {
     "name": "stdout",
     "output_type": "stream",
     "text": [
      "(9988776604, '03-10-2020', 85, 'Salah')\n",
      "(9988776605, '21-06-2020', 39, 'Heung-Son')\n",
      "(9988776606, '08-05-2020', 86, 'Ronaldo')\n",
      "(9988776607, '11-05-2022', 57, 'Kane')\n",
      "(9988776608, '17-05-2022', 52, 'Mane')\n",
      "(9988776614, '31-03-2022', 71, 'Toney')\n",
      "(9988776615, '10-03-2020', 44, 'Maddison')\n",
      "(9988776622, '19-02-2021', 93, 'Pukki')\n",
      "(9988776623, '01-03-2022', 94, 'Fernandes')\n"
     ]
    }
   ],
   "source": [
    "sql=cursor.execute('select student_learningdata.phone_number,stud_det.enrolled_date,stud_det.marks,stud_det.student_name from stud_det inner join student_learningdata on student_learningdata.phone_number=stud_det.phone_number')\n",
    "for h in sql:\n",
    "    print(h)"
   ]
  },
  {
   "cell_type": "code",
   "execution_count": 159,
   "id": "9e2813f6",
   "metadata": {},
   "outputs": [
    {
     "name": "stdout",
     "output_type": "stream",
     "text": [
      "(9988776604, '03-10-2020', 85, 'Salah')\n",
      "(9988776605, '21-06-2020', 39, 'Heung-Son')\n",
      "(9988776606, '08-05-2020', 86, 'Ronaldo')\n",
      "(9988776607, '11-05-2022', 57, 'Kane')\n",
      "(9988776608, '17-05-2022', 52, 'Mane')\n",
      "(9988776614, '31-03-2022', 71, 'Toney')\n",
      "(9988776615, '10-03-2020', 44, 'Maddison')\n",
      "(9988776622, '19-02-2021', 93, 'Pukki')\n",
      "(9988776623, '01-03-2022', 94, 'Fernandes')\n"
     ]
    }
   ],
   "source": [
    "sql=cursor.execute('select student_learningdata.phone_number,stud_det.enrolled_date,stud_det.marks,stud_det.student_name from student_learningdata inner join stud_det on stud_det.phone_number=student_learningdata.phone_number')\n",
    "for h in sql:\n",
    "    print(h)"
   ]
  },
  {
   "cell_type": "code",
   "execution_count": null,
   "id": "f94406b9",
   "metadata": {},
   "outputs": [],
   "source": []
  }
 ],
 "metadata": {
  "kernelspec": {
   "display_name": "Python 3 (ipykernel)",
   "language": "python",
   "name": "python3"
  },
  "language_info": {
   "codemirror_mode": {
    "name": "ipython",
    "version": 3
   },
   "file_extension": ".py",
   "mimetype": "text/x-python",
   "name": "python",
   "nbconvert_exporter": "python",
   "pygments_lexer": "ipython3",
   "version": "3.9.12"
  }
 },
 "nbformat": 4,
 "nbformat_minor": 5
}
